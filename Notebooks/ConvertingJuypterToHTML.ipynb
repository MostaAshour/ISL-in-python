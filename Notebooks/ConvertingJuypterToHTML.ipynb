{
 "cells": [
  {
   "cell_type": "code",
   "execution_count": 2,
   "id": "reverse-advocacy",
   "metadata": {},
   "outputs": [
    {
     "name": "stderr",
     "output_type": "stream",
     "text": [
      "[NbConvertApp] Converting notebook 2_4_1_Statistical_Learning_Applied.ipynb to html\n",
      "[NbConvertApp] Writing 4188933 bytes to 2_4_1_Statistical_Learning_Applied.html\n"
     ]
    }
   ],
   "source": [
    "!jupyter nbconvert 2_4_1_Statistical_Learning_Applied.ipynb --to html --no-input"
   ]
  },
  {
   "cell_type": "code",
   "execution_count": 1,
   "id": "lonely-battery",
   "metadata": {},
   "outputs": [
    {
     "name": "stdout",
     "output_type": "stream",
     "text": [
      "Collecting package metadata (current_repodata.json): ...working... done\n",
      "Note: you may need to restart the kernel to use updated packages.\n",
      "Solving environment: ...working... failed with initial frozen solve. Retrying with flexible solve.\n",
      "\n",
      "Collecting package metadata (repodata.json): ...working... done\n",
      "Solving environment: ...working... done\n",
      "\n",
      "## Package Plan ##\n",
      "\n",
      "  environment location: C:\\Users\\Mosta\\Anaconda3\\envs\\ml_ai\n",
      "\n",
      "  added / updated specs:\n",
      "    - nbconvert=5.6.1\n",
      "\n",
      "\n",
      "The following packages will be downloaded:\n",
      "\n",
      "    package                    |            build\n",
      "    ---------------------------|-----------------\n",
      "    ca-certificates-2021.5.25  |       haa95532_1         112 KB\n",
      "    certifi-2021.5.30          |   py38haa95532_0         140 KB\n",
      "    nbconvert-5.6.1            |           py38_0         471 KB\n",
      "    ------------------------------------------------------------\n",
      "                                           Total:         722 KB\n",
      "\n",
      "The following packages will be UPDATED:\n",
      "\n",
      "  ca-certificates                      2021.1.19-haa95532_0 --> 2021.5.25-haa95532_1\n",
      "  certifi                          2020.12.5-py38haa95532_0 --> 2021.5.30-py38haa95532_0\n",
      "  openssl                                 1.1.1i-h2bbff1b_0 --> 1.1.1k-h2bbff1b_0\n",
      "\n",
      "The following packages will be DOWNGRADED:\n",
      "\n",
      "  nbconvert                                    6.0.7-py38_0 --> 5.6.1-py38_0\n",
      "\n",
      "\n",
      "\n",
      "Downloading and Extracting Packages\n",
      "\n",
      "nbconvert-5.6.1      | 471 KB    |            |   0% \n",
      "nbconvert-5.6.1      | 471 KB    | 3          |   3% \n",
      "nbconvert-5.6.1      | 471 KB    | ##3        |  24% \n",
      "nbconvert-5.6.1      | 471 KB    | #####      |  51% \n",
      "nbconvert-5.6.1      | 471 KB    | ########1  |  82% \n",
      "nbconvert-5.6.1      | 471 KB    | ########## | 100% \n",
      "nbconvert-5.6.1      | 471 KB    | ########## | 100% \n",
      "\n",
      "ca-certificates-2021 | 112 KB    |            |   0% \n",
      "ca-certificates-2021 | 112 KB    | #4         |  14% \n",
      "ca-certificates-2021 | 112 KB    | ########## | 100% \n",
      "ca-certificates-2021 | 112 KB    | ########## | 100% \n",
      "\n",
      "certifi-2021.5.30    | 140 KB    |            |   0% \n",
      "certifi-2021.5.30    | 140 KB    | #1         |  11% \n",
      "certifi-2021.5.30    | 140 KB    | ########## | 100% \n",
      "certifi-2021.5.30    | 140 KB    | ########## | 100% \n",
      "Preparing transaction: ...working... done\n",
      "Verifying transaction: ...working... done\n",
      "Executing transaction: ...working... done\n"
     ]
    }
   ],
   "source": [
    "conda install \"nbconvert=5.6.1\""
   ]
  },
  {
   "cell_type": "code",
   "execution_count": null,
   "id": "bronze-bathroom",
   "metadata": {},
   "outputs": [],
   "source": []
  }
 ],
 "metadata": {
  "kernelspec": {
   "display_name": "Python 3",
   "language": "python",
   "name": "python3"
  },
  "language_info": {
   "codemirror_mode": {
    "name": "ipython",
    "version": 3
   },
   "file_extension": ".py",
   "mimetype": "text/x-python",
   "name": "python",
   "nbconvert_exporter": "python",
   "pygments_lexer": "ipython3",
   "version": "3.8.5"
  }
 },
 "nbformat": 4,
 "nbformat_minor": 5
}
