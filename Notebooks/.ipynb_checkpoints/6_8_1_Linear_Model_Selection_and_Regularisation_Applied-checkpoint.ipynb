{
 "cells": [
  {
   "cell_type": "markdown",
   "metadata": {},
   "source": [
    "# Chapter 6: Linear Model Selection and Regularisation\n",
    "By [**Mosta Ashour**](https://www.linkedin.com/in/mosta-ashour/)\n",
    "- **Chapter 6 from the book [An Introduction to Statistical Learning](https://www.statlearning.com/).**\n",
    "- **By Gareth James, Daniela Witten, Trevor Hastie and Rob Tibshirani.**\n",
    "- **Pages from $262$ to $264$**\n",
    "\n",
    "\n",
    "- **Exercises:**\n",
    " - **[8.](#8) [(a)](#8a) [(b)](#8b) [(c)](#8c) [(d)](#8d) [(e)](#8e) [(f)](#8f)**\n",
    " - **[9.](#9) [(a)](#9a) [(b)](#9b) [(c)](#9c) [(d)](#9d) [(e)](#9e) [(f)](#9f) [(g)](#9g)**\n",
    " - **[10.](#10) [(a)](#10a) [(b)](#10b) [(c)](#10c) [(d)](#10d) [(e)](#10e) [(f)](#10f) [(g)](#10g)**\n",
    " - **[11.](#11) [(a)](#11a) [(b)](#11b) [(c)](#11c)**\n",
    "\n",
    "# <span style=\"font-family:cursive;color:#0071bb;\"> 6.8 Exercises </span>\n",
    "## <span style=\"font-family:cursive;color:#0071bb;\"> Applied </span>"
   ]
  },
  {
   "cell_type": "code",
   "execution_count": 1,
   "metadata": {},
   "outputs": [],
   "source": [
    "import numpy as np\n",
    "import pandas as pd\n",
    "import time\n",
    "import matplotlib.pyplot as plt\n",
    "import seaborn as sns\n",
    "import statsmodels.api as sm\n",
    "import statsmodels.formula.api as smf\n",
    "import patsy\n",
    "import itertools\n",
    "from IPython.display import display, HTML\n",
    "from sklearn import linear_model\n",
    "from sklearn.model_selection import KFold\n",
    "\n",
    "# Deps for pca/pcr\n",
    "from sklearn.preprocessing import scale\n",
    "from sklearn.decomposition import PCA\n",
    "from sklearn.model_selection import cross_val_score\n",
    "from sklearn.linear_model import LinearRegression\n",
    "from sklearn.model_selection import train_test_split\n",
    "from sklearn.cross_decomposition import PLSRegression\n",
    "\n",
    "from scipy import stats\n",
    "\n",
    "import warnings\n",
    "warnings.filterwarnings('ignore')"
   ]
  },
  {
   "cell_type": "markdown",
   "metadata": {},
   "source": [
    "<a id='8'></a>\n",
    "### 8. In this exercise, we will generate simulated data, and will then use this data to perform best subset selection.\n",
    "\n",
    "<a id='8a'></a>\n",
    "**$(a)$ Use the `rnorm()` function to generate a predictor $X$ of length $n = 100$, as well as a noise vector $\\epsilon$ of length $n = 100$.**"
   ]
  },
  {
   "cell_type": "code",
   "execution_count": 2,
   "metadata": {},
   "outputs": [],
   "source": [
    "np.random.seed(42)\n",
    "x   = np.random.normal(0, 1, 100)\n",
    "eps = np.random.normal(0 ,1 , 100)"
   ]
  },
  {
   "cell_type": "markdown",
   "metadata": {},
   "source": [
    "<a id='8b'></a>\n",
    "**$(b)$ Generate a response vector $Y$ of length $n = 100$ according to the model \n",
    "$$Y = \\beta_0 +\\beta_1 X +\\beta_2 X^2 +\\beta_3 X^3 +\\epsilon,$$\n",
    "where $\\beta_0, \\beta_1, \\beta_2,$ and $\\beta_3$ are constants of your choice.**"
   ]
  },
  {
   "cell_type": "code",
   "execution_count": 3,
   "metadata": {},
   "outputs": [],
   "source": [
    "b0, b1, b2, b3 = [3, 2, -4, 5]\n",
    "y = b0 + b1*x + b2*(x**2) + b3*(x**3) + eps"
   ]
  },
  {
   "cell_type": "code",
   "execution_count": 4,
   "metadata": {},
   "outputs": [
    {
     "data": {
      "image/png": "[encoded data removed]",
      "text/plain": [
       "<Figure size 432x288 with 1 Axes>"
      ]
     },
     "metadata": {
      "needs_background": "light"
     },
     "output_type": "display_data"
    }
   ],
   "source": [
    "sns.scatterplot(x=x, y=y);"
   ]
  },
  {
   "cell_type": "markdown",
   "metadata": {},
   "source": [
    "<a id='8c'></a>\n",
    "**$(c)$ Use the `regsubsets()` function to perform best subset selection in order to choose the best model containing the predictors $X,X^2,\\dots,X^{10}$. What is the best model obtained according to $C_p$, $BIC$, and adjusted $R^2$? Show some plots to provide evidence for your answer, and report the coefficients of the best model obtained. Note you will need to use the `data.frame()` function to create a single data set containing both $X$ and $Y$.**"
   ]
  },
  {
   "cell_type": "code",
   "execution_count": 5,
   "metadata": {},
   "outputs": [],
   "source": [
    "df = pd.DataFrame({'X'  : x,\n",
    "                   'X2' : x**2,\n",
    "                   'X3' : x**3,\n",
    "                   'X4' : x**4,\n",
    "                   'X5' : x**5,\n",
    "                   'X6' : x**6,\n",
    "                   'X7' : x**7,\n",
    "                   'X8' : x**8,\n",
    "                   'X9' : x**9,\n",
    "                   'X10': x**10,\n",
    "                   'y'  : y})"
   ]
  },
  {
   "cell_type": "code",
   "execution_count": 6,
   "metadata": {},
   "outputs": [],
   "source": [
    "def best_subset(X, y, data):\n",
    "    \"\"\"\n",
    "    Fit all possible models that contain exactly k predictors.\n",
    "    \"\"\"\n",
    "    # get all model results\n",
    "    model_subsets = []\n",
    "    for k in range(1, len(X)+1):\n",
    "        tic = time.time()\n",
    "        \n",
    "        # List all available predictors that contain exactly k predictors\n",
    "        X_combos = itertools.combinations(list(X), k)\n",
    "\n",
    "        # Fit all models accumulating Residual Sum of Squares (RSS)\n",
    "        models = []\n",
    "        for X_label in X_combos:\n",
    "            # Parse patsy formula\n",
    "            X_f = ' + '.join(X_label)\n",
    "            f   = '{} ~ {}'.format(y, X_f)\n",
    "\n",
    "            # Fit model\n",
    "            model = smf.ols(formula=f, data=data).fit()\n",
    "            models.append((f, model))\n",
    "\n",
    "        model_subsets.append(models)\n",
    "        toc = time.time()\n",
    "        print(f'Progess: k = {k}, done, time: {round(toc-tic, 4)} s')\n",
    "    return model_subsets\n",
    "\n",
    "def min_rss(statsmodels):\n",
    "    \"\"\"Return model with lowest Residual Sum of Squares (RSS)\"\"\"\n",
    "    return sorted(statsmodels, key=lambda tup: tup[1].ssr)[0]\n",
    "\n",
    "def max_adjr2(statsmodels):\n",
    "    \"\"\"Return model with best R-squared score\"\"\"\n",
    "    return sorted(statsmodels, reverse=True, key=lambda tup: tup[1].rsquared_adj)[0]\n",
    "\n",
    "def min_bic(statsmodels):\n",
    "    \"\"\"Return model with best Bayes Information Criteria score\"\"\"\n",
    "    return sorted(statsmodels, reverse=False, key=lambda tup: tup[1].bic)[0]\n",
    "\n",
    "def min_aic(statsmodels):\n",
    "    \"\"\"Return model with best Akaike Information Criteria score\"\"\"\n",
    "    return sorted(statsmodels, reverse=False, key=lambda tup: tup[1].aic)[0]"
   ]
  },
  {
   "cell_type": "code",
   "execution_count": 7,
   "metadata": {},
   "outputs": [
    {
     "name": "stdout",
     "output_type": "stream",
     "text": [
      "Progess: k = 1, done, time: 0.066 s\n",
      "Progess: k = 2, done, time: 0.3918 s\n",
      "Progess: k = 3, done, time: 1.2444 s\n",
      "Progess: k = 4, done, time: 3.3055 s\n",
      "Progess: k = 5, done, time: 3.4139 s\n",
      "Progess: k = 6, done, time: 2.9053 s\n",
      "Progess: k = 7, done, time: 1.9057 s\n",
      "Progess: k = 8, done, time: 0.7671 s\n",
      "Progess: k = 9, done, time: 0.1789 s\n",
      "Progess: k = 10, done, time: 0.02 s\n"
     ]
    }
   ],
   "source": [
    "model_subsets = best_subset(X=df.columns[:10], y='y', data=df)"
   ]
  },
  {
   "cell_type": "code",
   "execution_count": 8,
   "metadata": {},
   "outputs": [],
   "source": [
    "def scores_plot(model_subsets, figsize = (8,5)):\n",
    "    '''plotting the reasults of the three scores of:\n",
    "       Adjusted R-squared, \n",
    "       Bayes Information Criteria (BIC),\n",
    "       Akaike's Information Criteria (AIC / C_p)\n",
    "       With the best num of predictors using the statsmodel subsets'''\n",
    "    \n",
    "    k = np.arange(1, len(model_subsets)+1)\n",
    "    \n",
    "    # best adj R^2 score for each subset\n",
    "    adjr2   = [max_adjr2(m)[1].rsquared_adj for m in model_subsets]\n",
    "    adj_max_idx = adjr2.index(max(adjr2))\n",
    "\n",
    "    # Plot best adjusted R-squared score for each subset\n",
    "    plt.figure(figsize=figsize)\n",
    "    plt.plot(k, adjr2)\n",
    "    plt.plot(adj_max_idx+1, adjr2[adj_max_idx], 'rx', ms=15)\n",
    "    plt.title('Adjusted R-squared')\n",
    "    plt.xlabel('k')\n",
    "    plt.ylabel('adjusted $R^2$')\n",
    "    plt.xticks(k)\n",
    "    plt.show()\n",
    "\n",
    "    # Select best model from all the subsets\n",
    "    coefs_r2 = [(max_adjr2(m)[1].rsquared_adj, max_adjr2(m)[1].params) for m in model_subsets]\n",
    "    print('Model selected coefficients: \\n{}'.format(max(coefs_r2)[1]))\n",
    "    print('----------------------------------------------------\\n')\n",
    "\n",
    "\n",
    "    ### Bayes Information Criteria (BIC)\n",
    "    # best BIC for each subset\n",
    "    bic = [min_bic(m)[1].bic for m in model_subsets]\n",
    "    bic_min_idx = bic.index(min(bic))\n",
    "\n",
    "    # Plot best Bayes Information Criteria (BIC) score for each subset\n",
    "    plt.figure(figsize=figsize)\n",
    "    plt.plot(k, bic)\n",
    "    plt.plot(bic_min_idx+1, bic[bic_min_idx], 'rx', ms=15)\n",
    "    plt.title('Bayes Information Criteria (BIC)')\n",
    "    plt.xlabel('k')\n",
    "    plt.ylabel('BIC')\n",
    "    plt.xticks(k)\n",
    "    plt.show()\n",
    "\n",
    "    # Select best subset\n",
    "    coefs_bic = [(min_bic(m)[1].bic, min_bic(m)[1].params) for m in model_subsets]\n",
    "    print('Model selected coefficients: \\n{}'.format(min(coefs_bic)[1]))\n",
    "    print('----------------------------------------------------\\n')\n",
    "\n",
    "\n",
    "    ### Akaike's Information Criteria (AIC / C_p)\n",
    "    # best AIC for each subset\n",
    "    aic = [min_aic(m)[1].aic for m in model_subsets]\n",
    "    aic_min_idx = aic.index(min(aic))\n",
    "\n",
    "    # Plot best Akaike Information Criteria (AIC / C_p) score for each subset\n",
    "    plt.figure(figsize=figsize)\n",
    "    plt.plot(k, aic)\n",
    "    plt.plot(aic_min_idx+1, aic[aic_min_idx], 'rx', ms=15)\n",
    "    plt.title('Akaike Information Criteria (AIC / C_p)')\n",
    "    plt.xlabel('k')\n",
    "    plt.ylabel('AIC')\n",
    "    plt.xticks(k)\n",
    "    plt.show()\n",
    "\n",
    "    # Select best subset\n",
    "    coefs_aic = [(min_aic(m)[1].aic, min_aic(m)[1].params) for m in model_subsets]\n",
    "    print('Model selected coefficients: \\n{}'.format(min(coefs_aic)[1]))"
   ]
  },
  {
   "cell_type": "code",
   "execution_count": 9,
   "metadata": {
    "scrolled": false
   },
   "outputs": [
    {
     "data": {
      "image/png": "[encoded data removed]",
      "text/plain": [
       "<Figure size 576x360 with 1 Axes>"
      ]
     },
     "metadata": {
      "needs_background": "light"
     },
     "output_type": "display_data"
    },
    {
     "name": "stdout",
     "output_type": "stream",
     "text": [
      "Model selected coefficients: \n",
      "Intercept    2.871015\n",
      "X            1.926693\n",
      "X2          -4.812863\n",
      "X3           5.022959\n",
      "X4           2.739873\n",
      "X6          -1.949759\n",
      "X8           0.491189\n",
      "X10         -0.038244\n",
      "dtype: float64\n",
      "----------------------------------------------------\n",
      "\n"
     ]
    },
    {
     "data": {
      "image/png": "[encoded data removed]",
      "text/plain": [
       "<Figure size 576x360 with 1 Axes>"
      ]
     },
     "metadata": {
      "needs_background": "light"
     },
     "output_type": "display_data"
    },
    {
     "name": "stdout",
     "output_type": "stream",
     "text": [
      "Model selected coefficients: \n",
      "Intercept    2.847927\n",
      "X            1.864293\n",
      "X2          -3.793062\n",
      "X3           5.028366\n",
      "dtype: float64\n",
      "----------------------------------------------------\n",
      "\n"
     ]
    },
    {
     "data": {
      "image/png": "[encoded data removed]",
      "text/plain": [
       "<Figure size 576x360 with 1 Axes>"
      ]
     },
     "metadata": {
      "needs_background": "light"
     },
     "output_type": "display_data"
    },
    {
     "name": "stdout",
     "output_type": "stream",
     "text": [
      "Model selected coefficients: \n",
      "Intercept    2.831634\n",
      "X            2.037134\n",
      "X2          -3.762590\n",
      "X3           4.928210\n",
      "X10         -0.000153\n",
      "dtype: float64\n"
     ]
    }
   ],
   "source": [
    "scores_plot(model_subsets)"
   ]
  },
  {
   "cell_type": "markdown",
   "metadata": {},
   "source": [
    "> **Comment:**\n",
    ">- $RSS$ chooses a model with too many variables $\"7\"$ as expected due to overfitting, still we can see that from $3$ variables the adjusted R-squared tend to be a straight line.\n",
    ">- The $BIC$ statistic generally places a heavier penalty on models with many\n",
    "variables, and hence results in the selection of smaller models than $AIC/C_p$.\n",
    ">- Thus as shown in the plots above, $BIC$ pick $3$ variables and $AIC$ pick $4$ variables"
   ]
  },
  {
   "cell_type": "markdown",
   "metadata": {},
   "source": [
    "<a id=8d></a>\n",
    "**$(d)$ Repeat $(c)$, using forward stepwise selection and also using backwards stepwise selection. How does your answer compare to the results in $(c)$?**"
   ]
  },
  {
   "cell_type": "code",
   "execution_count": 10,
   "metadata": {},
   "outputs": [],
   "source": [
    "def forward_stepwise(X, y, data):\n",
    "    \"\"\"Perform forward stepwise selection as described in this book page 207.\n",
    "    Using BIC for getting the best model obtained.\n",
    "    inputs:\n",
    "    X: names of x column in list\n",
    "    y: name of y in list\n",
    "    data: the dataframe contains the dataset of X, y\n",
    "    Returns list with best model (name, statsmodel) for for each n\"\"\"\n",
    "    \n",
    "    # get all model results\n",
    "    model_subsets = []\n",
    "    \n",
    "    X_f = []\n",
    "    best_models = []\n",
    "    p_all  = X\n",
    "\n",
    "    for i in range(len(p_all)):\n",
    "        models = []\n",
    "        for i in p_all:\n",
    "            f = '{} ~ {}'.format(y, ' + '.join(X_f + [i]))\n",
    "\n",
    "            # Fit model\n",
    "            model = smf.ols(formula=f, data=df).fit()\n",
    "            models.append((f, model))\n",
    "        \n",
    "        model_subsets.append(models)\n",
    "        best_models.append(min_bic(models))\n",
    "        X_f = [best_models[-1][0][4:]]\n",
    "        p_all = p_all.drop(X_f[0].split(\" + \")[-1])\n",
    "\n",
    "    return model_subsets, best_models\n",
    "\n",
    "\n",
    "def backward_stepwise(X, y, data):\n",
    "    \"\"\"Perform backward stepwise selection as described in this book page 209.\n",
    "    Using BIC for getting the best model obtained.\n",
    "    inputs:\n",
    "    X: names of x column in list\n",
    "    y: name of y in list\n",
    "    data: the dataframe contains the dataset of X, y\n",
    "    Returns list with best model (name, statsmodel) for for each n\"\"\"\n",
    "    \n",
    "    # get all model results\n",
    "    model_subsets = []\n",
    "    \n",
    "    X_f = X\n",
    "    best_models = []\n",
    "    p_all  = X\n",
    "\n",
    "    f = '{} ~ {}'.format(y, ' + '.join(X_f))\n",
    "    model = smf.ols(formula=f, data=df).fit()\n",
    "    best_models.append((f, model))\n",
    "    model_subsets.append([(f, model)])\n",
    "    \n",
    "    for i in range(len(X_f)-1):\n",
    "        models = []\n",
    "        for i in X_f:\n",
    "            f = '{} ~ {}'.format(y, ' + '.join(X_f.drop(i)))\n",
    "            # Fit model\n",
    "            model = smf.ols(formula=f, data=df).fit()\n",
    "            models.append((f, model))\n",
    "            \n",
    "        model_subsets.append(models)\n",
    "        best_models.append(min_bic(models))\n",
    "        X_f = pd.Index(best_models[-1][0][4:].split(' + '))\n",
    "\n",
    "    return model_subsets[::-1], best_models"
   ]
  },
  {
   "cell_type": "markdown",
   "metadata": {},
   "source": [
    "### Forward subset selection"
   ]
  },
  {
   "cell_type": "code",
   "execution_count": 11,
   "metadata": {
    "scrolled": false
   },
   "outputs": [
    {
     "data": {
      "image/png": "[encoded data removed]",
      "text/plain": [
       "<Figure size 576x360 with 1 Axes>"
      ]
     },
     "metadata": {
      "needs_background": "light"
     },
     "output_type": "display_data"
    },
    {
     "name": "stdout",
     "output_type": "stream",
     "text": [
      "Model selected coefficients: \n",
      "Intercept    2.827978\n",
      "X3           5.329676\n",
      "X2          -3.758953\n",
      "X            1.773387\n",
      "X10         -0.000581\n",
      "X5          -0.105502\n",
      "dtype: float64\n",
      "----------------------------------------------------\n",
      "\n"
     ]
    },
    {
     "data": {
      "image/png": "[encoded data removed]",
      "text/plain": [
       "<Figure size 576x360 with 1 Axes>"
      ]
     },
     "metadata": {
      "needs_background": "light"
     },
     "output_type": "display_data"
    },
    {
     "name": "stdout",
     "output_type": "stream",
     "text": [
      "Model selected coefficients: \n",
      "Intercept    2.847927\n",
      "X3           5.028366\n",
      "X2          -3.793062\n",
      "X            1.864293\n",
      "dtype: float64\n",
      "----------------------------------------------------\n",
      "\n"
     ]
    },
    {
     "data": {
      "image/png": "[encoded data removed]",
      "text/plain": [
       "<Figure size 576x360 with 1 Axes>"
      ]
     },
     "metadata": {
      "needs_background": "light"
     },
     "output_type": "display_data"
    },
    {
     "name": "stdout",
     "output_type": "stream",
     "text": [
      "Model selected coefficients: \n",
      "Intercept    2.831634\n",
      "X3           4.928210\n",
      "X2          -3.762590\n",
      "X            2.037134\n",
      "X10         -0.000153\n",
      "dtype: float64\n"
     ]
    }
   ],
   "source": [
    "model_subsets_fs, _              = forward_stepwise(df.columns.drop('y'), 'y', df)\n",
    "model_subsets_bs, best_models_bs = backward_stepwise(df.columns.drop('y'), 'y', df)\n",
    "\n",
    "scores_plot(model_subsets_fs)"
   ]
  },
  {
   "cell_type": "markdown",
   "metadata": {},
   "source": [
    "### Backward subset selection"
   ]
  },
  {
   "cell_type": "code",
   "execution_count": 12,
   "metadata": {
    "scrolled": false
   },
   "outputs": [
    {
     "data": {
      "image/png": "[encoded data removed]",
      "text/plain": [
       "<Figure size 576x360 with 1 Axes>"
      ]
     },
     "metadata": {
      "needs_background": "light"
     },
     "output_type": "display_data"
    },
    {
     "name": "stdout",
     "output_type": "stream",
     "text": [
      "Model selected coefficients: \n",
      "Intercept    2.871015\n",
      "X            1.926693\n",
      "X2          -4.812863\n",
      "X3           5.022959\n",
      "X4           2.739873\n",
      "X6          -1.949759\n",
      "X8           0.491189\n",
      "X10         -0.038244\n",
      "dtype: float64\n",
      "----------------------------------------------------\n",
      "\n"
     ]
    },
    {
     "data": {
      "image/png": "[encoded data removed]",
      "text/plain": [
       "<Figure size 576x360 with 1 Axes>"
      ]
     },
     "metadata": {
      "needs_background": "light"
     },
     "output_type": "display_data"
    },
    {
     "name": "stdout",
     "output_type": "stream",
     "text": [
      "Model selected coefficients: \n",
      "Intercept    2.847927\n",
      "X            1.864293\n",
      "X2          -3.793062\n",
      "X3           5.028366\n",
      "dtype: float64\n",
      "----------------------------------------------------\n",
      "\n"
     ]
    },
    {
     "data": {
      "image/png": "[encoded data removed]",
      "text/plain": [
       "<Figure size 576x360 with 1 Axes>"
      ]
     },
     "metadata": {
      "needs_background": "light"
     },
     "output_type": "display_data"
    },
    {
     "name": "stdout",
     "output_type": "stream",
     "text": [
      "Model selected coefficients: \n",
      "Intercept    2.831634\n",
      "X            2.037134\n",
      "X2          -3.762590\n",
      "X3           4.928210\n",
      "X10         -0.000153\n",
      "dtype: float64\n"
     ]
    },
    {
     "data": {
      "text/plain": [
       "['y ~ X3',\n",
       " 'y ~ X2 + X3',\n",
       " 'y ~ X + X2 + X3',\n",
       " 'y ~ X + X2 + X3 + X10',\n",
       " 'y ~ X + X2 + X3 + X8 + X10',\n",
       " 'y ~ X + X2 + X3 + X6 + X8 + X10',\n",
       " 'y ~ X + X2 + X3 + X4 + X6 + X8 + X10',\n",
       " 'y ~ X + X2 + X3 + X4 + X5 + X6 + X8 + X10',\n",
       " 'y ~ X + X2 + X3 + X4 + X5 + X6 + X7 + X8 + X10',\n",
       " 'y ~ X + X2 + X3 + X4 + X5 + X6 + X7 + X8 + X9 + X10']"
      ]
     },
     "metadata": {},
     "output_type": "display_data"
    }
   ],
   "source": [
    "scores_plot(model_subsets_bs)\n",
    "\n",
    "display([f[0] for f in best_models_bs][::-1])"
   ]
  },
  {
   "cell_type": "markdown",
   "metadata": {},
   "source": [
    "> **Comment:**\n",
    ">- By using $BIC$ as the selection criteria in forward and backward stepwise selection, $3$ variables was chosen, with the following coefficients above.\n",
    ">- Comparing to the best subset selection, both forward and backward stepwise selection could successfully pick the same variables as in the best subset selection for the best model."
   ]
  },
  {
   "cell_type": "markdown",
   "metadata": {},
   "source": [
    "<a id=8e></a>\n",
    "**$(e)$ Now fit a lasso model to the simulated data, again using $X,X_2, \\dots, X_{10}$ as predictors. Use cross-validation to select the optimal value of $\\lambda$. Create plots of the cross-validation error as a function of $\\lambda$. Report the resulting coefficient estimates, and discuss the results obtained.**"
   ]
  },
  {
   "cell_type": "code",
   "execution_count": 13,
   "metadata": {},
   "outputs": [],
   "source": [
    "def mse(y_hat, y):\n",
    "    \"\"\"Calculate Mean Squared Error\"\"\"\n",
    "    return np.sum(np.square(y_hat - y)) / y.size\n",
    "\n",
    "def lasso_cv(X, y, lambd, k):\n",
    "    \"\"\"Perform the lasso with k-fold cross validation \n",
    "    to return mean MSE scores for each fold\"\"\"\n",
    "    # Split dataset into k-folds\n",
    "    # Note: np.array_split doesn't raise excpetion is folds are unequal in size\n",
    "    X_folds = np.array_split(X, k)\n",
    "    y_folds = np.array_split(y, k)\n",
    "    \n",
    "    MSEs = []\n",
    "    for f in np.arange(len(X_folds)):\n",
    "        # Create training and test sets\n",
    "        X_test  = X_folds[f]\n",
    "        y_test  = y_folds[f]\n",
    "        X_train = X.drop(X_folds[f].index)\n",
    "        y_train = y.drop(y_folds[f].index)\n",
    "        \n",
    "        # Fit model\n",
    "        model = linear_model.Lasso(alpha=lambd,\n",
    "                                   fit_intercept=True,\n",
    "                                   normalize=False,\n",
    "                                   max_iter=1000000)\n",
    "        model.fit(X_train, y_train)\n",
    "\n",
    "        # Measure MSE\n",
    "        y_hat = model.predict(X_test)\n",
    "        MSEs += [mse(y_hat, y_test)]\n",
    "    return MSEs\n",
    "\n",
    "def ridge_cv(X, y, lambd, k):\n",
    "    \"\"\"Perform ridge regresion with \n",
    "    k-fold cross validation to return mean MSE scores for each fold\"\"\"\n",
    "    # Split dataset into k-folds\n",
    "    # Note: np.array_split doesn't raise excpetion is folds are unequal in size\n",
    "    X_folds = np.array_split(X, k)\n",
    "    y_folds = np.array_split(y, k)\n",
    "    \n",
    "    MSEs = []\n",
    "    for f in np.arange(len(X_folds)):\n",
    "        # Create training and test sets\n",
    "        X_test  = X_folds[f]\n",
    "        y_test  = y_folds[f]\n",
    "        X_train = X.drop(X_folds[f].index)\n",
    "        y_train = y.drop(y_folds[f].index)\n",
    "        \n",
    "        # Fit model\n",
    "        model = linear_model.Ridge(alpha=lambd,\n",
    "                                   fit_intercept=True,\n",
    "                                   normalize=False,\n",
    "                                   max_iter=1000000,\n",
    "                                  solver='cholesky')\n",
    "        m = model.fit(X_train, y_train)\n",
    "        \n",
    "        # Measure MSE\n",
    "        y_hat = m.predict(X_test)\n",
    "        MSEs += [mse(y_hat, y_test)]\n",
    "    return MSEs"
   ]
  },
  {
   "cell_type": "code",
   "execution_count": 14,
   "metadata": {},
   "outputs": [],
   "source": [
    "def optimal_lambda_val(X, y, lambdas, method, k=5, time_tracker=False):\n",
    "    ''' Report the resulting coefficient estimates for Lasso or Ridge\n",
    "    Use cross-validation to return the optimal value of lambda '''\n",
    "    \n",
    "    if method not in ['lasso', 'ridge'] :\n",
    "        raise SystemExit(\"method should be 'lasso' or 'ridge'.\")\n",
    "            \n",
    "    MSEs    = []\n",
    "    for l in lambdas:\n",
    "        tic = time.time()\n",
    "        if   method == 'lasso':\n",
    "            MSEs += [np.mean(lasso_cv(X, y, lambd=l, k=k))]\n",
    "        elif method == 'ridge':\n",
    "            MSEs += [np.mean(ridge_cv(X, y, lambd=l, k=k))]\n",
    "\n",
    "        toc = time.time()\n",
    "        \n",
    "        if time_tracker:\n",
    "            print(f\"lambda of {round(l, 4)} is Done! Time: {round(toc-tic, 4)} sec\")\n",
    " \n",
    "    df = pd.DataFrame({'lambda': lambdas, 'MSE': MSEs})\n",
    "    \n",
    "    # plot the optimal lambda\n",
    "    plt.figure(figsize=(10,6))\n",
    "    sns.scatterplot(x='lambda', y='MSE', data=df);\n",
    "    \n",
    "    # The optimal lambda value\n",
    "    opt_lamb = min(zip(MSEs, lambdas))[1]\n",
    "    display(min(zip(MSEs, lambdas)))\n",
    "    return opt_lamb\n",
    "\n",
    "def display_coef(X, y, opt_lambda, method):\n",
    "    ''' Display a bar plot for the predictors coefficients\n",
    "    as the coefficients values in dataframe\n",
    "    return the optimal model'''\n",
    "    if method == 'lasso':\n",
    "        model = linear_model.Lasso(alpha=opt_lambda, fit_intercept=True, normalize=False,\n",
    "                                   max_iter=1000000)\n",
    "        \n",
    "    elif method == 'ridge':\n",
    "        model = linear_model.Ridge(alpha=opt_lambda, fit_intercept=True, normalize=False,\n",
    "                                   max_iter=1000000, solver='cholesky')\n",
    "    model.fit(X, y)\n",
    "    \n",
    "    df = pd.DataFrame({'feature': ['intercept'] + list(X.columns),\n",
    "                       'coefficient': [model.intercept_] + list(model.coef_)})\n",
    "\n",
    "    # plot coefficients\n",
    "    plt.figure(figsize=(10,6))\n",
    "    ax = sns.barplot(x='coefficient', y='feature', data=df);\n",
    "    if   method == 'lasso':\n",
    "        plt.title(\"Lasso coefficients for the dataset\");\n",
    "    elif method == 'ridge':\n",
    "        plt.title(\"Ridge coefficients for the dataset\");\n",
    "    plt.show();\n",
    "    display(df)\n",
    "    return model"
   ]
  },
  {
   "cell_type": "code",
   "execution_count": 15,
   "metadata": {
    "scrolled": false
   },
   "outputs": [
    {
     "data": {
      "text/plain": [
       "(2.193042588528244, 0.01)"
      ]
     },
     "metadata": {},
     "output_type": "display_data"
    },
    {
     "data": {
      "image/png": "[encoded data removed]",
      "text/plain": [
       "<Figure size 720x432 with 1 Axes>"
      ]
     },
     "metadata": {
      "needs_background": "light"
     },
     "output_type": "display_data"
    },
    {
     "data": {
      "image/png": "[encoded data removed]",
      "text/plain": [
       "<Figure size 720x432 with 1 Axes>"
      ]
     },
     "metadata": {
      "needs_background": "light"
     },
     "output_type": "display_data"
    },
    {
     "data": {
      "text/html": [
       "<div>\n",
       "<style scoped>\n",
       "    .dataframe tbody tr th:only-of-type {\n",
       "        vertical-align: middle;\n",
       "    }\n",
       "\n",
       "    .dataframe tbody tr th {\n",
       "        vertical-align: top;\n",
       "    }\n",
       "\n",
       "    .dataframe thead th {\n",
       "        text-align: right;\n",
       "    }\n",
       "</style>\n",
       "<table border=\"1\" class=\"dataframe\">\n",
       "  <thead>\n",
       "    <tr style=\"text-align: right;\">\n",
       "      <th></th>\n",
       "      <th>feature</th>\n",
       "      <th>coefficient</th>\n",
       "    </tr>\n",
       "  </thead>\n",
       "  <tbody>\n",
       "    <tr>\n",
       "      <th>0</th>\n",
       "      <td>intercept</td>\n",
       "      <td>2.706123</td>\n",
       "    </tr>\n",
       "    <tr>\n",
       "      <th>1</th>\n",
       "      <td>X</td>\n",
       "      <td>1.837149</td>\n",
       "    </tr>\n",
       "    <tr>\n",
       "      <th>2</th>\n",
       "      <td>X2</td>\n",
       "      <td>-3.174065</td>\n",
       "    </tr>\n",
       "    <tr>\n",
       "      <th>3</th>\n",
       "      <td>X3</td>\n",
       "      <td>5.059244</td>\n",
       "    </tr>\n",
       "    <tr>\n",
       "      <th>4</th>\n",
       "      <td>X4</td>\n",
       "      <td>-0.000000</td>\n",
       "    </tr>\n",
       "    <tr>\n",
       "      <th>5</th>\n",
       "      <td>X5</td>\n",
       "      <td>0.026816</td>\n",
       "    </tr>\n",
       "    <tr>\n",
       "      <th>6</th>\n",
       "      <td>X6</td>\n",
       "      <td>-0.386664</td>\n",
       "    </tr>\n",
       "    <tr>\n",
       "      <th>7</th>\n",
       "      <td>X7</td>\n",
       "      <td>0.000000</td>\n",
       "    </tr>\n",
       "    <tr>\n",
       "      <th>8</th>\n",
       "      <td>X8</td>\n",
       "      <td>0.149010</td>\n",
       "    </tr>\n",
       "    <tr>\n",
       "      <th>9</th>\n",
       "      <td>X9</td>\n",
       "      <td>-0.003725</td>\n",
       "    </tr>\n",
       "    <tr>\n",
       "      <th>10</th>\n",
       "      <td>X10</td>\n",
       "      <td>-0.015000</td>\n",
       "    </tr>\n",
       "  </tbody>\n",
       "</table>\n",
       "</div>"
      ],
      "text/plain": [
       "      feature  coefficient\n",
       "0   intercept     2.706123\n",
       "1           X     1.837149\n",
       "2          X2    -3.174065\n",
       "3          X3     5.059244\n",
       "4          X4    -0.000000\n",
       "5          X5     0.026816\n",
       "6          X6    -0.386664\n",
       "7          X7     0.000000\n",
       "8          X8     0.149010\n",
       "9          X9    -0.003725\n",
       "10        X10    -0.015000"
      ]
     },
     "metadata": {},
     "output_type": "display_data"
    }
   ],
   "source": [
    "X = df.iloc[:, :-1]\n",
    "y = df['y']\n",
    "lambdas =  np.arange(0.01, 1, 0.02)\n",
    "method = 'lasso'\n",
    "\n",
    "opt_l = optimal_lambda_val(X, y, lambdas, method, 10)\n",
    "model = display_coef(X, y, opt_l, method)"
   ]
  },
  {
   "cell_type": "markdown",
   "metadata": {},
   "source": [
    ">- The best value for $\\lambda$ is 0.01.\n",
    ">- After fitting the lasso model by using the optimal $\\lambda$ value:\n",
    ">- We can see from the graph above, the penalty shrink all of the coefficients towards zero, and the lasso model shows that the most important variables are the correct variables."
   ]
  },
  {
   "cell_type": "markdown",
   "metadata": {},
   "source": [
    "<a id=8f ></a>\n",
    "**$(f)$ Now generate a response vector $Y$ according to the model $Y = \\beta_0 + \\beta_7 X^7 + \\epsilon$ , and perform best subset selection and the lasso. Discuss the results obtained.**"
   ]
  },
  {
   "cell_type": "code",
   "execution_count": 16,
   "metadata": {},
   "outputs": [
    {
     "data": {
      "image/png": "[encoded data removed]",
      "text/plain": [
       "<Figure size 432x288 with 1 Axes>"
      ]
     },
     "metadata": {
      "needs_background": "light"
     },
     "output_type": "display_data"
    }
   ],
   "source": [
    "# generating the vector Y\n",
    "np.random.seed(42)\n",
    "x   = np.random.normal(0, 1, 100)\n",
    "eps = np.random.normal(0 ,1 , 100)\n",
    "\n",
    "y = 5 + 2*(x**7) + eps\n",
    "\n",
    "sns.scatterplot(x=x, y=y)\n",
    "plt.xlabel('x')\n",
    "plt.ylabel('y');"
   ]
  },
  {
   "cell_type": "code",
   "execution_count": 17,
   "metadata": {},
   "outputs": [],
   "source": [
    "df = pd.DataFrame({'X'  : x,\n",
    "                  'X2' : x**2,\n",
    "                  'X3' : x**3,\n",
    "                  'X4' : x**4,\n",
    "                  'X5' : x**5,\n",
    "                  'X6' : x**6,\n",
    "                  'X7' : x**7,\n",
    "                  'X8' : x**8,\n",
    "                  'X9' : x**9,\n",
    "                  'X10': x**10,\n",
    "                   'y': y})"
   ]
  },
  {
   "cell_type": "markdown",
   "metadata": {},
   "source": [
    "#### Best subset selection"
   ]
  },
  {
   "cell_type": "code",
   "execution_count": 18,
   "metadata": {},
   "outputs": [
    {
     "name": "stdout",
     "output_type": "stream",
     "text": [
      "Progess: k = 1, done, time: 0.058 s\n",
      "Progess: k = 2, done, time: 0.3553 s\n",
      "Progess: k = 3, done, time: 1.0758 s\n",
      "Progess: k = 4, done, time: 2.2247 s\n",
      "Progess: k = 5, done, time: 4.6521 s\n",
      "Progess: k = 6, done, time: 3.7122 s\n",
      "Progess: k = 7, done, time: 2.2029 s\n",
      "Progess: k = 8, done, time: 0.8936 s\n",
      "Progess: k = 9, done, time: 0.2369 s\n",
      "Progess: k = 10, done, time: 0.027 s\n"
     ]
    }
   ],
   "source": [
    "model_subsets = best_subset(df.columns[:-1], 'y', df)"
   ]
  },
  {
   "cell_type": "code",
   "execution_count": 19,
   "metadata": {
    "scrolled": false
   },
   "outputs": [
    {
     "data": {
      "image/png": "[encoded data removed]",
      "text/plain": [
       "<Figure size 576x360 with 1 Axes>"
      ]
     },
     "metadata": {
      "needs_background": "light"
     },
     "output_type": "display_data"
    },
    {
     "name": "stdout",
     "output_type": "stream",
     "text": [
      "Model selected coefficients: \n",
      "Intercept    4.790698\n",
      "X4           1.422971\n",
      "X6          -1.208921\n",
      "X7           1.997882\n",
      "X8           0.327289\n",
      "X10         -0.026510\n",
      "dtype: float64\n",
      "----------------------------------------------------\n",
      "\n"
     ]
    },
    {
     "data": {
      "image/png": "[encoded data removed]",
      "text/plain": [
       "<Figure size 576x360 with 1 Axes>"
      ]
     },
     "metadata": {
      "needs_background": "light"
     },
     "output_type": "display_data"
    },
    {
     "name": "stdout",
     "output_type": "stream",
     "text": [
      "Model selected coefficients: \n",
      "Intercept    4.829054\n",
      "X2           0.247474\n",
      "X7           2.001006\n",
      "dtype: float64\n",
      "----------------------------------------------------\n",
      "\n"
     ]
    },
    {
     "data": {
      "image/png": "[encoded data removed]",
      "text/plain": [
       "<Figure size 576x360 with 1 Axes>"
      ]
     },
     "metadata": {
      "needs_background": "light"
     },
     "output_type": "display_data"
    },
    {
     "name": "stdout",
     "output_type": "stream",
     "text": [
      "Model selected coefficients: \n",
      "Intercept    4.843431\n",
      "X2           0.208448\n",
      "X7           1.985929\n",
      "X9           0.002217\n",
      "dtype: float64\n"
     ]
    }
   ],
   "source": [
    "scores_plot(model_subsets)"
   ]
  },
  {
   "cell_type": "markdown",
   "metadata": {},
   "source": [
    ">- The best subset selection provides a pretty good models, as $BIC$ pick almost the perfect model of $Y = 5.15 + 2.002 X^7$ comparing to the known true model $Y = 5 + 2 X^7$."
   ]
  },
  {
   "cell_type": "markdown",
   "metadata": {},
   "source": [
    "#### The Lasso"
   ]
  },
  {
   "cell_type": "code",
   "execution_count": 20,
   "metadata": {},
   "outputs": [
    {
     "data": {
      "text/plain": [
       "(8.867969077174049, 0.18999999999999997)"
      ]
     },
     "metadata": {},
     "output_type": "display_data"
    },
    {
     "data": {
      "image/png": "[encoded data removed]",
      "text/plain": [
       "<Figure size 720x432 with 1 Axes>"
      ]
     },
     "metadata": {
      "needs_background": "light"
     },
     "output_type": "display_data"
    },
    {
     "data": {
      "image/png": "[encoded data removed]",
      "text/plain": [
       "<Figure size 720x432 with 1 Axes>"
      ]
     },
     "metadata": {
      "needs_background": "light"
     },
     "output_type": "display_data"
    },
    {
     "data": {
      "text/html": [
       "<div>\n",
       "<style scoped>\n",
       "    .dataframe tbody tr th:only-of-type {\n",
       "        vertical-align: middle;\n",
       "    }\n",
       "\n",
       "    .dataframe tbody tr th {\n",
       "        vertical-align: top;\n",
       "    }\n",
       "\n",
       "    .dataframe thead th {\n",
       "        text-align: right;\n",
       "    }\n",
       "</style>\n",
       "<table border=\"1\" class=\"dataframe\">\n",
       "  <thead>\n",
       "    <tr style=\"text-align: right;\">\n",
       "      <th></th>\n",
       "      <th>feature</th>\n",
       "      <th>coefficient</th>\n",
       "    </tr>\n",
       "  </thead>\n",
       "  <tbody>\n",
       "    <tr>\n",
       "      <th>0</th>\n",
       "      <td>intercept</td>\n",
       "      <td>5.028176</td>\n",
       "    </tr>\n",
       "    <tr>\n",
       "      <th>1</th>\n",
       "      <td>X</td>\n",
       "      <td>-0.000000</td>\n",
       "    </tr>\n",
       "    <tr>\n",
       "      <th>2</th>\n",
       "      <td>X2</td>\n",
       "      <td>0.000000</td>\n",
       "    </tr>\n",
       "    <tr>\n",
       "      <th>3</th>\n",
       "      <td>X3</td>\n",
       "      <td>0.000000</td>\n",
       "    </tr>\n",
       "    <tr>\n",
       "      <th>4</th>\n",
       "      <td>X4</td>\n",
       "      <td>0.404720</td>\n",
       "    </tr>\n",
       "    <tr>\n",
       "      <th>5</th>\n",
       "      <td>X5</td>\n",
       "      <td>0.769184</td>\n",
       "    </tr>\n",
       "    <tr>\n",
       "      <th>6</th>\n",
       "      <td>X6</td>\n",
       "      <td>-0.464532</td>\n",
       "    </tr>\n",
       "    <tr>\n",
       "      <th>7</th>\n",
       "      <td>X7</td>\n",
       "      <td>1.435441</td>\n",
       "    </tr>\n",
       "    <tr>\n",
       "      <th>8</th>\n",
       "      <td>X8</td>\n",
       "      <td>0.070575</td>\n",
       "    </tr>\n",
       "    <tr>\n",
       "      <th>9</th>\n",
       "      <td>X9</td>\n",
       "      <td>0.100363</td>\n",
       "    </tr>\n",
       "    <tr>\n",
       "      <th>10</th>\n",
       "      <td>X10</td>\n",
       "      <td>0.011480</td>\n",
       "    </tr>\n",
       "  </tbody>\n",
       "</table>\n",
       "</div>"
      ],
      "text/plain": [
       "      feature  coefficient\n",
       "0   intercept     5.028176\n",
       "1           X    -0.000000\n",
       "2          X2     0.000000\n",
       "3          X3     0.000000\n",
       "4          X4     0.404720\n",
       "5          X5     0.769184\n",
       "6          X6    -0.464532\n",
       "7          X7     1.435441\n",
       "8          X8     0.070575\n",
       "9          X9     0.100363\n",
       "10        X10     0.011480"
      ]
     },
     "metadata": {},
     "output_type": "display_data"
    }
   ],
   "source": [
    "X = df.iloc[:, :-1]\n",
    "y = df['y']\n",
    "lambdas =  np.arange(0.01, 1, 0.02)\n",
    "method = 'lasso'\n",
    "\n",
    "opt_l = optimal_lambda_val(X, y, lambdas, method, 5)\n",
    "model = display_coef(X, y, opt_l, method)"
   ]
  },
  {
   "cell_type": "markdown",
   "metadata": {},
   "source": [
    ">- Lasso also provides a significant coefficient for the variable $X^7$ and the intercept, leading us to simply use just 1-variable in our model which is $X^7$, comparing to the true model, the coefficients are pretty close to the true coefficients we knew."
   ]
  },
  {
   "cell_type": "markdown",
   "metadata": {},
   "source": [
    "<a id=9 ></a>\n",
    "### $9.$ In this exercise, we will predict the number of applications received using the other variables in the $\\color{red}{\\text{College}}$ data set.\n",
    "\n",
    "<a id=9a ></a>\n",
    "**$(a)$ Split the data set into a training set and a test set.**"
   ]
  },
  {
   "cell_type": "code",
   "execution_count": 21,
   "metadata": {},
   "outputs": [
    {
     "data": {
      "text/html": [
       "<div>\n",
       "<style scoped>\n",
       "    .dataframe tbody tr th:only-of-type {\n",
       "        vertical-align: middle;\n",
       "    }\n",
       "\n",
       "    .dataframe tbody tr th {\n",
       "        vertical-align: top;\n",
       "    }\n",
       "\n",
       "    .dataframe thead th {\n",
       "        text-align: right;\n",
       "    }\n",
       "</style>\n",
       "<table border=\"1\" class=\"dataframe\">\n",
       "  <thead>\n",
       "    <tr style=\"text-align: right;\">\n",
       "      <th></th>\n",
       "      <th>Apps</th>\n",
       "      <th>Accept</th>\n",
       "      <th>Enroll</th>\n",
       "      <th>Top10perc</th>\n",
       "      <th>Top25perc</th>\n",
       "      <th>F_Undergrad</th>\n",
       "      <th>P_Undergrad</th>\n",
       "      <th>Outstate</th>\n",
       "      <th>Room_Board</th>\n",
       "      <th>Books</th>\n",
       "      <th>Personal</th>\n",
       "      <th>PhD</th>\n",
       "      <th>Terminal</th>\n",
       "      <th>S_F_Ratio</th>\n",
       "      <th>perc_alumni</th>\n",
       "      <th>Expend</th>\n",
       "      <th>Grad_Rate</th>\n",
       "      <th>Private_Yes</th>\n",
       "    </tr>\n",
       "  </thead>\n",
       "  <tbody>\n",
       "    <tr>\n",
       "      <th>0</th>\n",
       "      <td>1660</td>\n",
       "      <td>1232</td>\n",
       "      <td>721</td>\n",
       "      <td>23</td>\n",
       "      <td>52</td>\n",
       "      <td>2885</td>\n",
       "      <td>537</td>\n",
       "      <td>7440</td>\n",
       "      <td>3300</td>\n",
       "      <td>450</td>\n",
       "      <td>2200</td>\n",
       "      <td>70</td>\n",
       "      <td>78</td>\n",
       "      <td>18.1</td>\n",
       "      <td>12</td>\n",
       "      <td>7041</td>\n",
       "      <td>60</td>\n",
       "      <td>1</td>\n",
       "    </tr>\n",
       "    <tr>\n",
       "      <th>1</th>\n",
       "      <td>2186</td>\n",
       "      <td>1924</td>\n",
       "      <td>512</td>\n",
       "      <td>16</td>\n",
       "      <td>29</td>\n",
       "      <td>2683</td>\n",
       "      <td>1227</td>\n",
       "      <td>12280</td>\n",
       "      <td>6450</td>\n",
       "      <td>750</td>\n",
       "      <td>1500</td>\n",
       "      <td>29</td>\n",
       "      <td>30</td>\n",
       "      <td>12.2</td>\n",
       "      <td>16</td>\n",
       "      <td>10527</td>\n",
       "      <td>56</td>\n",
       "      <td>1</td>\n",
       "    </tr>\n",
       "    <tr>\n",
       "      <th>2</th>\n",
       "      <td>1428</td>\n",
       "      <td>1097</td>\n",
       "      <td>336</td>\n",
       "      <td>22</td>\n",
       "      <td>50</td>\n",
       "      <td>1036</td>\n",
       "      <td>99</td>\n",
       "      <td>11250</td>\n",
       "      <td>3750</td>\n",
       "      <td>400</td>\n",
       "      <td>1165</td>\n",
       "      <td>53</td>\n",
       "      <td>66</td>\n",
       "      <td>12.9</td>\n",
       "      <td>30</td>\n",
       "      <td>8735</td>\n",
       "      <td>54</td>\n",
       "      <td>1</td>\n",
       "    </tr>\n",
       "    <tr>\n",
       "      <th>3</th>\n",
       "      <td>417</td>\n",
       "      <td>349</td>\n",
       "      <td>137</td>\n",
       "      <td>60</td>\n",
       "      <td>89</td>\n",
       "      <td>510</td>\n",
       "      <td>63</td>\n",
       "      <td>12960</td>\n",
       "      <td>5450</td>\n",
       "      <td>450</td>\n",
       "      <td>875</td>\n",
       "      <td>92</td>\n",
       "      <td>97</td>\n",
       "      <td>7.7</td>\n",
       "      <td>37</td>\n",
       "      <td>19016</td>\n",
       "      <td>59</td>\n",
       "      <td>1</td>\n",
       "    </tr>\n",
       "    <tr>\n",
       "      <th>4</th>\n",
       "      <td>193</td>\n",
       "      <td>146</td>\n",
       "      <td>55</td>\n",
       "      <td>16</td>\n",
       "      <td>44</td>\n",
       "      <td>249</td>\n",
       "      <td>869</td>\n",
       "      <td>7560</td>\n",
       "      <td>4120</td>\n",
       "      <td>800</td>\n",
       "      <td>1500</td>\n",
       "      <td>76</td>\n",
       "      <td>72</td>\n",
       "      <td>11.9</td>\n",
       "      <td>2</td>\n",
       "      <td>10922</td>\n",
       "      <td>15</td>\n",
       "      <td>1</td>\n",
       "    </tr>\n",
       "  </tbody>\n",
       "</table>\n",
       "</div>"
      ],
      "text/plain": [
       "   Apps  Accept  Enroll  Top10perc  Top25perc  F_Undergrad  P_Undergrad  \\\n",
       "0  1660    1232     721         23         52         2885          537   \n",
       "1  2186    1924     512         16         29         2683         1227   \n",
       "2  1428    1097     336         22         50         1036           99   \n",
       "3   417     349     137         60         89          510           63   \n",
       "4   193     146      55         16         44          249          869   \n",
       "\n",
       "   Outstate  Room_Board  Books  Personal  PhD  Terminal  S_F_Ratio  \\\n",
       "0      7440        3300    450      2200   70        78       18.1   \n",
       "1     12280        6450    750      1500   29        30       12.2   \n",
       "2     11250        3750    400      1165   53        66       12.9   \n",
       "3     12960        5450    450       875   92        97        7.7   \n",
       "4      7560        4120    800      1500   76        72       11.9   \n",
       "\n",
       "   perc_alumni  Expend  Grad_Rate  Private_Yes  \n",
       "0           12    7041         60            1  \n",
       "1           16   10527         56            1  \n",
       "2           30    8735         54            1  \n",
       "3           37   19016         59            1  \n",
       "4            2   10922         15            1  "
      ]
     },
     "execution_count": 21,
     "metadata": {},
     "output_type": "execute_result"
    }
   ],
   "source": [
    "# read College dataset \n",
    "college_df = pd.read_csv('datasets/College.csv').drop('Unnamed: 0', axis=1)\n",
    "\n",
    "# Get dummimies\n",
    "college_df = pd.get_dummies(college_df, drop_first=True)\n",
    "\n",
    "# Remove fullstops from col names\n",
    "college_df.columns = [s.replace('.', '_') for s in college_df.columns]\n",
    "\n",
    "# Remove outliers from Apps variable\n",
    "# college_df = college_df[college_df.Apps < 20000]\n",
    "\n",
    "# split the dataset\n",
    "X = college_df.drop('Apps', axis=1)\n",
    "y = college_df.Apps\n",
    "\n",
    "X_train, X_test, y_train, y_test = train_test_split(X, y, \n",
    "                                                    test_size=0.30, \n",
    "                                                    random_state=42)\n",
    "college_df.head()"
   ]
  },
  {
   "cell_type": "markdown",
   "metadata": {},
   "source": [
    "<a id=9b ></a>\n",
    "**$(b)$ Fit a linear model using least squares on the training set, and report the test error obtained.**"
   ]
  },
  {
   "cell_type": "code",
   "execution_count": 22,
   "metadata": {},
   "outputs": [
    {
     "name": "stdout",
     "output_type": "stream",
     "text": [
      "Test MSE: 1931803.194207038, Test RMSE: 1389.8932312257075\n"
     ]
    },
    {
     "data": {
      "text/html": [
       "<table class=\"simpletable\">\n",
       "<caption>OLS Regression Results</caption>\n",
       "<tr>\n",
       "  <th>Dep. Variable:</th>          <td>Apps</td>       <th>  R-squared:         </th> <td>   0.948</td>\n",
       "</tr>\n",
       "<tr>\n",
       "  <th>Model:</th>                   <td>OLS</td>       <th>  Adj. R-squared:    </th> <td>   0.947</td>\n",
       "</tr>\n",
       "<tr>\n",
       "  <th>Method:</th>             <td>Least Squares</td>  <th>  F-statistic:       </th> <td>   565.4</td>\n",
       "</tr>\n",
       "<tr>\n",
       "  <th>Date:</th>             <td>Sat, 28 Aug 2021</td> <th>  Prob (F-statistic):</th>  <td>  0.00</td> \n",
       "</tr>\n",
       "<tr>\n",
       "  <th>Time:</th>                 <td>13:22:39</td>     <th>  Log-Likelihood:    </th> <td> -4462.9</td>\n",
       "</tr>\n",
       "<tr>\n",
       "  <th>No. Observations:</th>      <td>   543</td>      <th>  AIC:               </th> <td>   8962.</td>\n",
       "</tr>\n",
       "<tr>\n",
       "  <th>Df Residuals:</th>          <td>   525</td>      <th>  BIC:               </th> <td>   9039.</td>\n",
       "</tr>\n",
       "<tr>\n",
       "  <th>Df Model:</th>              <td>    17</td>      <th>                     </th>     <td> </td>   \n",
       "</tr>\n",
       "<tr>\n",
       "  <th>Covariance Type:</th>      <td>nonrobust</td>    <th>                     </th>     <td> </td>   \n",
       "</tr>\n",
       "</table>\n",
       "<table class=\"simpletable\">\n",
       "<tr>\n",
       "       <td></td>          <th>coef</th>     <th>std err</th>      <th>t</th>      <th>P>|t|</th>  <th>[0.025</th>    <th>0.975]</th>  \n",
       "</tr>\n",
       "<tr>\n",
       "  <th>Intercept</th>   <td> -622.2501</td> <td>  431.201</td> <td>   -1.443</td> <td> 0.150</td> <td>-1469.342</td> <td>  224.841</td>\n",
       "</tr>\n",
       "<tr>\n",
       "  <th>Accept</th>      <td>    1.7520</td> <td>    0.042</td> <td>   41.667</td> <td> 0.000</td> <td>    1.669</td> <td>    1.835</td>\n",
       "</tr>\n",
       "<tr>\n",
       "  <th>Enroll</th>      <td>   -1.3141</td> <td>    0.192</td> <td>   -6.841</td> <td> 0.000</td> <td>   -1.691</td> <td>   -0.937</td>\n",
       "</tr>\n",
       "<tr>\n",
       "  <th>Top10perc</th>   <td>   32.7262</td> <td>    5.861</td> <td>    5.583</td> <td> 0.000</td> <td>   21.212</td> <td>   44.241</td>\n",
       "</tr>\n",
       "<tr>\n",
       "  <th>Top25perc</th>   <td>   -3.6696</td> <td>    4.700</td> <td>   -0.781</td> <td> 0.435</td> <td>  -12.903</td> <td>    5.563</td>\n",
       "</tr>\n",
       "<tr>\n",
       "  <th>F_Undergrad</th> <td>    0.0358</td> <td>    0.034</td> <td>    1.046</td> <td> 0.296</td> <td>   -0.031</td> <td>    0.103</td>\n",
       "</tr>\n",
       "<tr>\n",
       "  <th>P_Undergrad</th> <td>    0.0202</td> <td>    0.041</td> <td>    0.493</td> <td> 0.622</td> <td>   -0.060</td> <td>    0.101</td>\n",
       "</tr>\n",
       "<tr>\n",
       "  <th>Outstate</th>    <td>   -0.0795</td> <td>    0.020</td> <td>   -4.024</td> <td> 0.000</td> <td>   -0.118</td> <td>   -0.041</td>\n",
       "</tr>\n",
       "<tr>\n",
       "  <th>Room_Board</th>  <td>    0.1379</td> <td>    0.051</td> <td>    2.701</td> <td> 0.007</td> <td>    0.038</td> <td>    0.238</td>\n",
       "</tr>\n",
       "<tr>\n",
       "  <th>Books</th>       <td>    0.1890</td> <td>    0.256</td> <td>    0.739</td> <td> 0.460</td> <td>   -0.313</td> <td>    0.692</td>\n",
       "</tr>\n",
       "<tr>\n",
       "  <th>Personal</th>    <td>    0.0802</td> <td>    0.068</td> <td>    1.187</td> <td> 0.236</td> <td>   -0.053</td> <td>    0.213</td>\n",
       "</tr>\n",
       "<tr>\n",
       "  <th>PhD</th>         <td>   -9.3524</td> <td>    5.005</td> <td>   -1.869</td> <td> 0.062</td> <td>  -19.184</td> <td>    0.479</td>\n",
       "</tr>\n",
       "<tr>\n",
       "  <th>Terminal</th>    <td>   -1.1067</td> <td>    5.370</td> <td>   -0.206</td> <td> 0.837</td> <td>  -11.655</td> <td>    9.442</td>\n",
       "</tr>\n",
       "<tr>\n",
       "  <th>S_F_Ratio</th>   <td>   19.3272</td> <td>   13.157</td> <td>    1.469</td> <td> 0.142</td> <td>   -6.519</td> <td>   45.173</td>\n",
       "</tr>\n",
       "<tr>\n",
       "  <th>perc_alumni</th> <td>    1.4199</td> <td>    4.464</td> <td>    0.318</td> <td> 0.751</td> <td>   -7.350</td> <td>   10.190</td>\n",
       "</tr>\n",
       "<tr>\n",
       "  <th>Expend</th>      <td>    0.0626</td> <td>    0.013</td> <td>    4.869</td> <td> 0.000</td> <td>    0.037</td> <td>    0.088</td>\n",
       "</tr>\n",
       "<tr>\n",
       "  <th>Grad_Rate</th>   <td>    7.6497</td> <td>    3.074</td> <td>    2.488</td> <td> 0.013</td> <td>    1.610</td> <td>   13.689</td>\n",
       "</tr>\n",
       "<tr>\n",
       "  <th>Private_Yes</th> <td> -557.5085</td> <td>  149.045</td> <td>   -3.741</td> <td> 0.000</td> <td> -850.307</td> <td> -264.711</td>\n",
       "</tr>\n",
       "</table>\n",
       "<table class=\"simpletable\">\n",
       "<tr>\n",
       "  <th>Omnibus:</th>       <td>373.372</td> <th>  Durbin-Watson:     </th> <td>   1.918</td> \n",
       "</tr>\n",
       "<tr>\n",
       "  <th>Prob(Omnibus):</th> <td> 0.000</td>  <th>  Jarque-Bera (JB):  </th> <td>11861.937</td>\n",
       "</tr>\n",
       "<tr>\n",
       "  <th>Skew:</th>          <td> 2.536</td>  <th>  Prob(JB):          </th> <td>    0.00</td> \n",
       "</tr>\n",
       "<tr>\n",
       "  <th>Kurtosis:</th>      <td>25.329</td>  <th>  Cond. No.          </th> <td>1.84e+05</td> \n",
       "</tr>\n",
       "</table><br/><br/>Notes:<br/>[1] Standard Errors assume that the covariance matrix of the errors is correctly specified.<br/>[2] The condition number is large, 1.84e+05. This might indicate that there are<br/>strong multicollinearity or other numerical problems."
      ],
      "text/plain": [
       "<class 'statsmodels.iolib.summary.Summary'>\n",
       "\"\"\"\n",
       "                            OLS Regression Results                            \n",
       "==============================================================================\n",
       "Dep. Variable:                   Apps   R-squared:                       0.948\n",
       "Model:                            OLS   Adj. R-squared:                  0.947\n",
       "Method:                 Least Squares   F-statistic:                     565.4\n",
       "Date:                Sat, 28 Aug 2021   Prob (F-statistic):               0.00\n",
       "Time:                        13:22:39   Log-Likelihood:                -4462.9\n",
       "No. Observations:                 543   AIC:                             8962.\n",
       "Df Residuals:                     525   BIC:                             9039.\n",
       "Df Model:                          17                                         \n",
       "Covariance Type:            nonrobust                                         \n",
       "===============================================================================\n",
       "                  coef    std err          t      P>|t|      [0.025      0.975]\n",
       "-------------------------------------------------------------------------------\n",
       "Intercept    -622.2501    431.201     -1.443      0.150   -1469.342     224.841\n",
       "Accept          1.7520      0.042     41.667      0.000       1.669       1.835\n",
       "Enroll         -1.3141      0.192     -6.841      0.000      -1.691      -0.937\n",
       "Top10perc      32.7262      5.861      5.583      0.000      21.212      44.241\n",
       "Top25perc      -3.6696      4.700     -0.781      0.435     -12.903       5.563\n",
       "F_Undergrad     0.0358      0.034      1.046      0.296      -0.031       0.103\n",
       "P_Undergrad     0.0202      0.041      0.493      0.622      -0.060       0.101\n",
       "Outstate       -0.0795      0.020     -4.024      0.000      -0.118      -0.041\n",
       "Room_Board      0.1379      0.051      2.701      0.007       0.038       0.238\n",
       "Books           0.1890      0.256      0.739      0.460      -0.313       0.692\n",
       "Personal        0.0802      0.068      1.187      0.236      -0.053       0.213\n",
       "PhD            -9.3524      5.005     -1.869      0.062     -19.184       0.479\n",
       "Terminal       -1.1067      5.370     -0.206      0.837     -11.655       9.442\n",
       "S_F_Ratio      19.3272     13.157      1.469      0.142      -6.519      45.173\n",
       "perc_alumni     1.4199      4.464      0.318      0.751      -7.350      10.190\n",
       "Expend          0.0626      0.013      4.869      0.000       0.037       0.088\n",
       "Grad_Rate       7.6497      3.074      2.488      0.013       1.610      13.689\n",
       "Private_Yes  -557.5085    149.045     -3.741      0.000    -850.307    -264.711\n",
       "==============================================================================\n",
       "Omnibus:                      373.372   Durbin-Watson:                   1.918\n",
       "Prob(Omnibus):                  0.000   Jarque-Bera (JB):            11861.937\n",
       "Skew:                           2.536   Prob(JB):                         0.00\n",
       "Kurtosis:                      25.329   Cond. No.                     1.84e+05\n",
       "==============================================================================\n",
       "\n",
       "Notes:\n",
       "[1] Standard Errors assume that the covariance matrix of the errors is correctly specified.\n",
       "[2] The condition number is large, 1.84e+05. This might indicate that there are\n",
       "strong multicollinearity or other numerical problems.\n",
       "\"\"\""
      ]
     },
     "execution_count": 22,
     "metadata": {},
     "output_type": "execute_result"
    }
   ],
   "source": [
    "# Use all available features\n",
    "f = '{} ~ {}'.format(y.name, ' + '.join(X.columns))\n",
    "\n",
    "# Fit model\n",
    "model = smf.ols(formula=f, data=pd.concat([X_train, y_train], axis=1)).fit()\n",
    "y_hat = model.predict(X_test)\n",
    "\n",
    "ols_res = pd.DataFrame({'error': ['MSE', 'RMSE'],\n",
    "                        'score': [mse(y_hat, y_test), np.sqrt(mse(y_hat, y_test))]})\n",
    "\n",
    "print(f'Test MSE: {mse(y_hat, y_test)}, Test RMSE: {np.sqrt(mse(y_hat, y_test))}')\n",
    "model.summary()"
   ]
  },
  {
   "cell_type": "markdown",
   "metadata": {},
   "source": [
    "<a id=9c></a>\n",
    "**$(c)$ Fit a ridge regression model on the training set, with $\\lambda$ chosen by cross-validation. Report the test error obtained.**"
   ]
  },
  {
   "cell_type": "code",
   "execution_count": 23,
   "metadata": {},
   "outputs": [
    {
     "data": {
      "text/plain": [
       "(1037920.1755906412, 4.9)"
      ]
     },
     "metadata": {},
     "output_type": "display_data"
    },
    {
     "data": {
      "image/png": "[encoded data removed]",
      "text/plain": [
       "<Figure size 720x432 with 1 Axes>"
      ]
     },
     "metadata": {
      "needs_background": "light"
     },
     "output_type": "display_data"
    },
    {
     "data": {
      "image/png": "[encoded data removed]",
      "text/plain": [
       "<Figure size 720x432 with 1 Axes>"
      ]
     },
     "metadata": {
      "needs_background": "light"
     },
     "output_type": "display_data"
    },
    {
     "data": {
      "text/html": [
       "<div>\n",
       "<style scoped>\n",
       "    .dataframe tbody tr th:only-of-type {\n",
       "        vertical-align: middle;\n",
       "    }\n",
       "\n",
       "    .dataframe tbody tr th {\n",
       "        vertical-align: top;\n",
       "    }\n",
       "\n",
       "    .dataframe thead th {\n",
       "        text-align: right;\n",
       "    }\n",
       "</style>\n",
       "<table border=\"1\" class=\"dataframe\">\n",
       "  <thead>\n",
       "    <tr style=\"text-align: right;\">\n",
       "      <th></th>\n",
       "      <th>feature</th>\n",
       "      <th>coefficient</th>\n",
       "    </tr>\n",
       "  </thead>\n",
       "  <tbody>\n",
       "    <tr>\n",
       "      <th>0</th>\n",
       "      <td>intercept</td>\n",
       "      <td>-685.508324</td>\n",
       "    </tr>\n",
       "    <tr>\n",
       "      <th>1</th>\n",
       "      <td>Accept</td>\n",
       "      <td>1.751112</td>\n",
       "    </tr>\n",
       "    <tr>\n",
       "      <th>2</th>\n",
       "      <td>Enroll</td>\n",
       "      <td>-1.311369</td>\n",
       "    </tr>\n",
       "    <tr>\n",
       "      <th>3</th>\n",
       "      <td>Top10perc</td>\n",
       "      <td>32.561110</td>\n",
       "    </tr>\n",
       "    <tr>\n",
       "      <th>4</th>\n",
       "      <td>Top25perc</td>\n",
       "      <td>-3.603730</td>\n",
       "    </tr>\n",
       "    <tr>\n",
       "      <th>5</th>\n",
       "      <td>F_Undergrad</td>\n",
       "      <td>0.038102</td>\n",
       "    </tr>\n",
       "    <tr>\n",
       "      <th>6</th>\n",
       "      <td>P_Undergrad</td>\n",
       "      <td>0.020597</td>\n",
       "    </tr>\n",
       "    <tr>\n",
       "      <th>7</th>\n",
       "      <td>Outstate</td>\n",
       "      <td>-0.082612</td>\n",
       "    </tr>\n",
       "    <tr>\n",
       "      <th>8</th>\n",
       "      <td>Room_Board</td>\n",
       "      <td>0.136765</td>\n",
       "    </tr>\n",
       "    <tr>\n",
       "      <th>9</th>\n",
       "      <td>Books</td>\n",
       "      <td>0.186710</td>\n",
       "    </tr>\n",
       "    <tr>\n",
       "      <th>10</th>\n",
       "      <td>Personal</td>\n",
       "      <td>0.080151</td>\n",
       "    </tr>\n",
       "    <tr>\n",
       "      <th>11</th>\n",
       "      <td>PhD</td>\n",
       "      <td>-9.129457</td>\n",
       "    </tr>\n",
       "    <tr>\n",
       "      <th>12</th>\n",
       "      <td>Terminal</td>\n",
       "      <td>-0.804084</td>\n",
       "    </tr>\n",
       "    <tr>\n",
       "      <th>13</th>\n",
       "      <td>S_F_Ratio</td>\n",
       "      <td>20.244295</td>\n",
       "    </tr>\n",
       "    <tr>\n",
       "      <th>14</th>\n",
       "      <td>perc_alumni</td>\n",
       "      <td>1.293896</td>\n",
       "    </tr>\n",
       "    <tr>\n",
       "      <th>15</th>\n",
       "      <td>Expend</td>\n",
       "      <td>0.063118</td>\n",
       "    </tr>\n",
       "    <tr>\n",
       "      <th>16</th>\n",
       "      <td>Grad_Rate</td>\n",
       "      <td>7.532961</td>\n",
       "    </tr>\n",
       "    <tr>\n",
       "      <th>17</th>\n",
       "      <td>Private_Yes</td>\n",
       "      <td>-493.152869</td>\n",
       "    </tr>\n",
       "  </tbody>\n",
       "</table>\n",
       "</div>"
      ],
      "text/plain": [
       "        feature  coefficient\n",
       "0     intercept  -685.508324\n",
       "1        Accept     1.751112\n",
       "2        Enroll    -1.311369\n",
       "3     Top10perc    32.561110\n",
       "4     Top25perc    -3.603730\n",
       "5   F_Undergrad     0.038102\n",
       "6   P_Undergrad     0.020597\n",
       "7      Outstate    -0.082612\n",
       "8    Room_Board     0.136765\n",
       "9         Books     0.186710\n",
       "10     Personal     0.080151\n",
       "11          PhD    -9.129457\n",
       "12     Terminal    -0.804084\n",
       "13    S_F_Ratio    20.244295\n",
       "14  perc_alumni     1.293896\n",
       "15       Expend     0.063118\n",
       "16    Grad_Rate     7.532961\n",
       "17  Private_Yes  -493.152869"
      ]
     },
     "metadata": {},
     "output_type": "display_data"
    }
   ],
   "source": [
    "lambdas =  np.arange(0.1, 10, 0.1)\n",
    "method = 'ridge'\n",
    "\n",
    "opt_l = optimal_lambda_val(X_train, y_train, lambdas, method, 5)\n",
    "model = display_coef(X_train, y_train, opt_l, method)"
   ]
  },
  {
   "cell_type": "code",
   "execution_count": 24,
   "metadata": {},
   "outputs": [
    {
     "name": "stdout",
     "output_type": "stream",
     "text": [
      "Test MSE: 1928690.1698442176, Test RMSE: 1388.772900745193\n"
     ]
    }
   ],
   "source": [
    "# Get test rmse\n",
    "y_hat = model.predict(X_test)\n",
    "ridge_res = pd.DataFrame({'error': ['MSE', 'RMSE'],\n",
    "                          'score': [mse(y_hat, y_test), np.sqrt(mse(y_hat, y_test))]})\n",
    "\n",
    "print(f'Test MSE: {mse(y_hat, y_test)}, Test RMSE: {np.sqrt(mse(y_hat, y_test))}')"
   ]
  },
  {
   "cell_type": "markdown",
   "metadata": {},
   "source": [
    ">**Comment:** \n",
    ">- With an $\\text{RSME}$ on the test set of `1388.67`, ridge regression performs a little better than a naive linear regression with all feature ($\\text{RMSE}$: `1389.89`)."
   ]
  },
  {
   "cell_type": "markdown",
   "metadata": {},
   "source": [
    "<a id=9d ></a> \n",
    "**$(d)$ Fit a lasso model on the training set, with $\\lambda$ chosen by cross-validation. Report the test error obtained, along with the number of non-zero coefficient estimates.**"
   ]
  },
  {
   "cell_type": "code",
   "execution_count": 25,
   "metadata": {},
   "outputs": [
    {
     "data": {
      "text/plain": [
       "(1038426.5061334509, 0.01)"
      ]
     },
     "metadata": {},
     "output_type": "display_data"
    },
    {
     "data": {
      "image/png": "[encoded data removed]",
      "text/plain": [
       "<Figure size 720x432 with 1 Axes>"
      ]
     },
     "metadata": {
      "needs_background": "light"
     },
     "output_type": "display_data"
    },
    {
     "data": {
      "image/png": "[encoded data removed]",
      "text/plain": [
       "<Figure size 720x432 with 1 Axes>"
      ]
     },
     "metadata": {
      "needs_background": "light"
     },
     "output_type": "display_data"
    },
    {
     "data": {
      "text/html": [
       "<div>\n",
       "<style scoped>\n",
       "    .dataframe tbody tr th:only-of-type {\n",
       "        vertical-align: middle;\n",
       "    }\n",
       "\n",
       "    .dataframe tbody tr th {\n",
       "        vertical-align: top;\n",
       "    }\n",
       "\n",
       "    .dataframe thead th {\n",
       "        text-align: right;\n",
       "    }\n",
       "</style>\n",
       "<table border=\"1\" class=\"dataframe\">\n",
       "  <thead>\n",
       "    <tr style=\"text-align: right;\">\n",
       "      <th></th>\n",
       "      <th>feature</th>\n",
       "      <th>coefficient</th>\n",
       "    </tr>\n",
       "  </thead>\n",
       "  <tbody>\n",
       "    <tr>\n",
       "      <th>0</th>\n",
       "      <td>intercept</td>\n",
       "      <td>-622.379639</td>\n",
       "    </tr>\n",
       "    <tr>\n",
       "      <th>1</th>\n",
       "      <td>Accept</td>\n",
       "      <td>1.752030</td>\n",
       "    </tr>\n",
       "    <tr>\n",
       "      <th>2</th>\n",
       "      <td>Enroll</td>\n",
       "      <td>-1.314113</td>\n",
       "    </tr>\n",
       "    <tr>\n",
       "      <th>3</th>\n",
       "      <td>Top10perc</td>\n",
       "      <td>32.725458</td>\n",
       "    </tr>\n",
       "    <tr>\n",
       "      <th>4</th>\n",
       "      <td>Top25perc</td>\n",
       "      <td>-3.669194</td>\n",
       "    </tr>\n",
       "    <tr>\n",
       "      <th>5</th>\n",
       "      <td>F_Undergrad</td>\n",
       "      <td>0.035787</td>\n",
       "    </tr>\n",
       "    <tr>\n",
       "      <th>6</th>\n",
       "      <td>P_Undergrad</td>\n",
       "      <td>0.020205</td>\n",
       "    </tr>\n",
       "    <tr>\n",
       "      <th>7</th>\n",
       "      <td>Outstate</td>\n",
       "      <td>-0.079461</td>\n",
       "    </tr>\n",
       "    <tr>\n",
       "      <th>8</th>\n",
       "      <td>Room_Board</td>\n",
       "      <td>0.137944</td>\n",
       "    </tr>\n",
       "    <tr>\n",
       "      <th>9</th>\n",
       "      <td>Books</td>\n",
       "      <td>0.189041</td>\n",
       "    </tr>\n",
       "    <tr>\n",
       "      <th>10</th>\n",
       "      <td>Personal</td>\n",
       "      <td>0.080150</td>\n",
       "    </tr>\n",
       "    <tr>\n",
       "      <th>11</th>\n",
       "      <td>PhD</td>\n",
       "      <td>-9.351816</td>\n",
       "    </tr>\n",
       "    <tr>\n",
       "      <th>12</th>\n",
       "      <td>Terminal</td>\n",
       "      <td>-1.106005</td>\n",
       "    </tr>\n",
       "    <tr>\n",
       "      <th>13</th>\n",
       "      <td>S_F_Ratio</td>\n",
       "      <td>19.328100</td>\n",
       "    </tr>\n",
       "    <tr>\n",
       "      <th>14</th>\n",
       "      <td>perc_alumni</td>\n",
       "      <td>1.419442</td>\n",
       "    </tr>\n",
       "    <tr>\n",
       "      <th>15</th>\n",
       "      <td>Expend</td>\n",
       "      <td>0.062601</td>\n",
       "    </tr>\n",
       "    <tr>\n",
       "      <th>16</th>\n",
       "      <td>Grad_Rate</td>\n",
       "      <td>7.649404</td>\n",
       "    </tr>\n",
       "    <tr>\n",
       "      <th>17</th>\n",
       "      <td>Private_Yes</td>\n",
       "      <td>-557.363774</td>\n",
       "    </tr>\n",
       "  </tbody>\n",
       "</table>\n",
       "</div>"
      ],
      "text/plain": [
       "        feature  coefficient\n",
       "0     intercept  -622.379639\n",
       "1        Accept     1.752030\n",
       "2        Enroll    -1.314113\n",
       "3     Top10perc    32.725458\n",
       "4     Top25perc    -3.669194\n",
       "5   F_Undergrad     0.035787\n",
       "6   P_Undergrad     0.020205\n",
       "7      Outstate    -0.079461\n",
       "8    Room_Board     0.137944\n",
       "9         Books     0.189041\n",
       "10     Personal     0.080150\n",
       "11          PhD    -9.351816\n",
       "12     Terminal    -1.106005\n",
       "13    S_F_Ratio    19.328100\n",
       "14  perc_alumni     1.419442\n",
       "15       Expend     0.062601\n",
       "16    Grad_Rate     7.649404\n",
       "17  Private_Yes  -557.363774"
      ]
     },
     "metadata": {},
     "output_type": "display_data"
    }
   ],
   "source": [
    "lambdas =  np.arange(0.01, 1, 0.01)\n",
    "method = 'lasso'\n",
    "\n",
    "opt_l = optimal_lambda_val(X_train, y_train, lambdas, method, 5)\n",
    "model = display_coef(X_train, y_train, opt_l, method)"
   ]
  },
  {
   "cell_type": "code",
   "execution_count": 26,
   "metadata": {},
   "outputs": [
    {
     "name": "stdout",
     "output_type": "stream",
     "text": [
      "Test MSE: 1931797.458469215, Test RMSE: 1389.8911678506397\n"
     ]
    }
   ],
   "source": [
    "# Get test rmse\n",
    "y_hat = model.predict(X_test)\n",
    "lasso_res = pd.DataFrame({'error': ['MSE', 'RMSE'],\n",
    "                          'score': [mse(y_hat, y_test), np.sqrt(mse(y_hat, y_test))]})\n",
    "\n",
    "print(f'Test MSE: {mse(y_hat, y_test)}, Test RMSE: {np.sqrt(mse(y_hat, y_test))}')"
   ]
  },
  {
   "cell_type": "markdown",
   "metadata": {},
   "source": [
    "<a id=9e></a>\n",
    "**$(e)$ Fit a $PCR$ model on the training set, with $M$ chosen by crossvalidation. Report the test error obtained, along with the value of $M$ selected by cross-validation.**"
   ]
  },
  {
   "cell_type": "code",
   "execution_count": 27,
   "metadata": {},
   "outputs": [
    {
     "data": {
      "image/png": "[encoded data removed]",
      "text/plain": [
       "<Figure size 720x432 with 1 Axes>"
      ]
     },
     "metadata": {
      "needs_background": "light"
     },
     "output_type": "display_data"
    },
    {
     "data": {
      "text/html": [
       "<div>\n",
       "<style scoped>\n",
       "    .dataframe tbody tr th:only-of-type {\n",
       "        vertical-align: middle;\n",
       "    }\n",
       "\n",
       "    .dataframe tbody tr th {\n",
       "        vertical-align: top;\n",
       "    }\n",
       "\n",
       "    .dataframe thead th {\n",
       "        text-align: right;\n",
       "    }\n",
       "</style>\n",
       "<table border=\"1\" class=\"dataframe\">\n",
       "  <thead>\n",
       "    <tr style=\"text-align: right;\">\n",
       "      <th></th>\n",
       "      <th>principal components count</th>\n",
       "      <th>RMSE_CV</th>\n",
       "      <th>RMSE_Test</th>\n",
       "    </tr>\n",
       "  </thead>\n",
       "  <tbody>\n",
       "    <tr>\n",
       "      <th>16</th>\n",
       "      <td>17</td>\n",
       "      <td>1145.309168</td>\n",
       "      <td>1389.893231</td>\n",
       "    </tr>\n",
       "  </tbody>\n",
       "</table>\n",
       "</div>"
      ],
      "text/plain": [
       "    principal components count      RMSE_CV    RMSE_Test\n",
       "16                          17  1145.309168  1389.893231"
      ]
     },
     "metadata": {},
     "output_type": "display_data"
    }
   ],
   "source": [
    "def pcr_cv(X, y, train, seed, cv_folds):\n",
    "    \"\"\"Perform Principle Component Regression evaluated with\n",
    "    k-fold cross validation\"\"\"\n",
    "\n",
    "    X_train = X[train]\n",
    "    X_test  = X[~train]\n",
    "    y_train = y[train]\n",
    "    y_test  = y[~train]\n",
    "    \n",
    "    # Get all principle components across train and test values for X\n",
    "    pca = PCA()\n",
    "    X_reduced = pca.fit_transform(scale(X))\n",
    "    \n",
    "    # Get cv MSE for cumulative components\n",
    "    M = X_reduced.shape[1]\n",
    "    MSEs = []\n",
    "    for m in range(M):\n",
    "        model = LinearRegression()\n",
    "        cv    = KFold(n_splits=cv_folds, random_state=seed, shuffle=True)\n",
    "        \n",
    "        cv10  = cross_val_score(model, X_reduced[:, 0:m+1], y,\n",
    "                                cv=cv, scoring='neg_mean_squared_error')\n",
    "        \n",
    "        MSEs += [np.mean(np.abs(cv10))]\n",
    "        \n",
    "    df = pd.DataFrame({'principal components count': np.arange(1, M+1),\n",
    "                       'RMSE_CV': np.sqrt(MSEs)})\n",
    "    \n",
    "    plt.figure(figsize=(10,6))\n",
    "    ax = sns.lineplot(x='principal components count', y='RMSE_CV', data=df)\n",
    "    plt.show();\n",
    "\n",
    "    # Make Test predictions\n",
    "    # ---------------------------------------\n",
    "    \n",
    "    # Get optimal number of compoenents from cv results\n",
    "    m = df[df['RMSE_CV'] == df['RMSE_CV'].min()]['principal components count'].iloc[0]\n",
    "\n",
    "    # Fit model on TRAINING subset of PCs\n",
    "    model = LinearRegression()\n",
    "    model.fit(X_reduced[train][:, 0:m+1], y_train)\n",
    "    \n",
    "    # Predict using TEST subset of PCs\n",
    "    y_hat = model.predict(X_reduced[~train][:, 0:m+1])\n",
    "    \n",
    "    # Show results for optimal number of components\n",
    "    best_df = df[df['RMSE_CV'] == df['RMSE_CV'].min()]\n",
    "    best_df['RMSE_Test'] = np.sqrt(mse(y_hat, y_test))\n",
    "    display(best_df)\n",
    "    return best_df\n",
    "    \n",
    "train = X.index.isin(X_train.index)\n",
    "pcr_res = pcr_cv(X, y, train, 42, 10)"
   ]
  },
  {
   "cell_type": "markdown",
   "metadata": {},
   "source": [
    "<a id=9f></a>\n",
    "**$(f)$ Fit a $PLS$ model on the training set, with $M$ chosen by cross-validation. Report the test error obtained, along with the value of $M$ selected by cross-validation.**"
   ]
  },
  {
   "cell_type": "code",
   "execution_count": 28,
   "metadata": {},
   "outputs": [
    {
     "data": {
      "image/png": "[encoded data removed]",
      "text/plain": [
       "<Figure size 720x432 with 1 Axes>"
      ]
     },
     "metadata": {
      "needs_background": "light"
     },
     "output_type": "display_data"
    },
    {
     "data": {
      "text/html": [
       "<div>\n",
       "<style scoped>\n",
       "    .dataframe tbody tr th:only-of-type {\n",
       "        vertical-align: middle;\n",
       "    }\n",
       "\n",
       "    .dataframe tbody tr th {\n",
       "        vertical-align: top;\n",
       "    }\n",
       "\n",
       "    .dataframe thead th {\n",
       "        text-align: right;\n",
       "    }\n",
       "</style>\n",
       "<table border=\"1\" class=\"dataframe\">\n",
       "  <thead>\n",
       "    <tr style=\"text-align: right;\">\n",
       "      <th></th>\n",
       "      <th>principal components count</th>\n",
       "      <th>RMSE_CV</th>\n",
       "      <th>RMSE_Test</th>\n",
       "    </tr>\n",
       "  </thead>\n",
       "  <tbody>\n",
       "    <tr>\n",
       "      <th>11</th>\n",
       "      <td>12</td>\n",
       "      <td>1144.053768</td>\n",
       "      <td>1383.8408</td>\n",
       "    </tr>\n",
       "  </tbody>\n",
       "</table>\n",
       "</div>"
      ],
      "text/plain": [
       "    principal components count      RMSE_CV  RMSE_Test\n",
       "11                          12  1144.053768  1383.8408"
      ]
     },
     "metadata": {},
     "output_type": "display_data"
    }
   ],
   "source": [
    "def pls_cv(X, y, train, seed, cv_folds):\n",
    "    \"\"\"Perform Principle Component Regression evaluated with\n",
    "    k-fold cross validation\"\"\"\n",
    "\n",
    "    X_train = X[train]\n",
    "    X_test  = X[~train]\n",
    "    y_train = y[train]\n",
    "    y_test  = y[~train]\n",
    "    \n",
    "    # Get all principle components across train and test values for X\n",
    "    pca = PCA()\n",
    "    X_reduced = pca.fit_transform(scale(X))\n",
    "    \n",
    "    # Get cv MSE for cumulative components\n",
    "    M = X_reduced.shape[1]\n",
    "    MSEs = []\n",
    "    for m in range(M):\n",
    "        model = PLSRegression(n_components=m+1, scale=True, max_iter=10000)\n",
    "        cv    = KFold(n_splits=cv_folds, random_state=seed, shuffle=True)\n",
    "        cv10  = cross_val_score(model, X, y,\n",
    "                                cv=cv, scoring='neg_mean_squared_error')\n",
    "        \n",
    "        MSEs += [np.mean(np.abs(cv10))]\n",
    "        \n",
    "    df = pd.DataFrame({'principal components count': np.arange(1, M+1),\n",
    "                       'RMSE_CV': np.sqrt(MSEs)})\n",
    "    \n",
    "    plt.figure(figsize=(10,6))\n",
    "    ax = sns.lineplot(x='principal components count', y='RMSE_CV', data=df)\n",
    "    plt.show();\n",
    "\n",
    "    # Make Test predictions\n",
    "    # ---------------------------------------\n",
    "    \n",
    "    # Get optimal number of compoenents from cv results\n",
    "    m = df[df['RMSE_CV'] == df['RMSE_CV'].min()]['principal components count'].iloc[0]\n",
    "\n",
    "    # Fit model on TRAINING subset of PCs\n",
    "    model = PLSRegression(n_components=m, scale=True, max_iter=10000)\n",
    "    model.fit(X_train, y_train)\n",
    "    \n",
    "    # Predict using TEST subset of PCs\n",
    "    y_hat = model.predict(X_test)\n",
    "    \n",
    "    # Show results for optimal number of components\n",
    "    best_df = df[df['RMSE_CV'] == df['RMSE_CV'].min()]\n",
    "    best_df['RMSE_Test'] = np.sqrt(mse(y_hat.T[0], y_test))\n",
    "    display(best_df)\n",
    "    return best_df\n",
    "\n",
    "pls_res = pls_cv(X, y, train, 42, 10)"
   ]
  },
  {
   "cell_type": "markdown",
   "metadata": {},
   "source": [
    "<a id=9g></a>\n",
    "**$(g)$ Comment on the results obtained. How accurately can we predict the number of college applications received? Is there much difference among the test errors resulting from these five approaches?**"
   ]
  },
  {
   "cell_type": "code",
   "execution_count": 29,
   "metadata": {},
   "outputs": [
    {
     "data": {
      "image/png": "[encoded data removed]",
      "text/plain": [
       "<Figure size 432x288 with 1 Axes>"
      ]
     },
     "metadata": {
      "needs_background": "light"
     },
     "output_type": "display_data"
    },
    {
     "data": {
      "text/html": [
       "<div>\n",
       "<style scoped>\n",
       "    .dataframe tbody tr th:only-of-type {\n",
       "        vertical-align: middle;\n",
       "    }\n",
       "\n",
       "    .dataframe tbody tr th {\n",
       "        vertical-align: top;\n",
       "    }\n",
       "\n",
       "    .dataframe thead th {\n",
       "        text-align: right;\n",
       "    }\n",
       "</style>\n",
       "<table border=\"1\" class=\"dataframe\">\n",
       "  <thead>\n",
       "    <tr style=\"text-align: right;\">\n",
       "      <th></th>\n",
       "      <th>model</th>\n",
       "      <th>RMSE</th>\n",
       "    </tr>\n",
       "  </thead>\n",
       "  <tbody>\n",
       "    <tr>\n",
       "      <th>4</th>\n",
       "      <td>PLS</td>\n",
       "      <td>1383.84</td>\n",
       "    </tr>\n",
       "    <tr>\n",
       "      <th>1</th>\n",
       "      <td>Ridge</td>\n",
       "      <td>1388.77</td>\n",
       "    </tr>\n",
       "    <tr>\n",
       "      <th>0</th>\n",
       "      <td>OLS</td>\n",
       "      <td>1389.89</td>\n",
       "    </tr>\n",
       "    <tr>\n",
       "      <th>2</th>\n",
       "      <td>Lasso</td>\n",
       "      <td>1389.89</td>\n",
       "    </tr>\n",
       "    <tr>\n",
       "      <th>3</th>\n",
       "      <td>PCR</td>\n",
       "      <td>1389.89</td>\n",
       "    </tr>\n",
       "  </tbody>\n",
       "</table>\n",
       "</div>"
      ],
      "text/plain": [
       "   model     RMSE\n",
       "4    PLS  1383.84\n",
       "1  Ridge  1388.77\n",
       "0    OLS  1389.89\n",
       "2  Lasso  1389.89\n",
       "3    PCR  1389.89"
      ]
     },
     "metadata": {},
     "output_type": "display_data"
    }
   ],
   "source": [
    "models = ['OLS', 'Ridge', 'Lasso', 'PCR', 'PLS']\n",
    "rmse   = [ols_res.score[1], ridge_res.score[1], lasso_res.score[1], pcr_res.RMSE_Test.values[0], pls_res.RMSE_Test.values[0]]\n",
    "results = pd.DataFrame({'model': models, 'RMSE': np.round(rmse, 2)})\n",
    "results = results.sort_values(by='RMSE', ascending=True)\n",
    "\n",
    "ax = sns.barplot(x='model', y='RMSE', data=results)\n",
    "ax.set_ylim([1350,1400])\n",
    "plt.xticks(rotation=45)\n",
    "plt.show();\n",
    "\n",
    "display(results)"
   ]
  },
  {
   "cell_type": "markdown",
   "metadata": {},
   "source": [
    ">**Note:**\n",
    ">- By just removing the outliers from the **Apps** variables, we could significantly improved **RSME** down to $952.23$\n",
    "\n",
    "> **Comment:**\n",
    ">- There is really a minimal performance difference between each of the 5 methods, which the models return **RMSE** in the range of $1389$.\n",
    ">- Only **PLS** method performs a slightly better with $M = 12$ as the number of principal components, with **RMSE** of $1383$."
   ]
  },
  {
   "cell_type": "markdown",
   "metadata": {},
   "source": [
    "<a id=10 ></a>\n",
    "### $10.$ We have seen that as the number of features used in a model increases, the training error will necessarily decrease, but the test error may not. We will now explore this in a simulated data set.\n",
    "\n",
    "\n",
    "<a id=10a ></a>\n",
    "**$(a)$ Generate a data set with $p = 20$ features, $n = 1,000$ observations, and an associated quantitative response vector generated according to the model\n",
    "$$Y = X \\beta + \\epsilon,$$\n",
    "where $\\beta$ has some elements that are exactly equal to zero.**"
   ]
  },
  {
   "cell_type": "code",
   "execution_count": 30,
   "metadata": {},
   "outputs": [
    {
     "name": "stdout",
     "output_type": "stream",
     "text": [
      "2 ^ 10 = 1024\n",
      "2 ^ 11 = 2048\n",
      "2 ^ 12 = 4096\n",
      "2 ^ 13 = 8192\n",
      "2 ^ 14 = 16384\n",
      "2 ^ 15 = 32768\n",
      "2 ^ 16 = 65536\n",
      "2 ^ 17 = 131072\n",
      "2 ^ 18 = 262144\n",
      "2 ^ 19 = 524288\n",
      "2 ^ 20 = 1048576\n"
     ]
    }
   ],
   "source": [
    "for i in range(10, 21):\n",
    "    print(f\"2 ^ {i} = {2**i}\")"
   ]
  },
  {
   "cell_type": "markdown",
   "metadata": {},
   "source": [
    ">- As for 20 features in the best subset selection method, it would requires 1 million model to fit. It would be computationally expensive for me. So, I consider 15 features are reasonable to work with.\n",
    ">- Note: you can easily change the p variable in the cell below to work with 20 or any number of features, and the code will work fine."
   ]
  },
  {
   "cell_type": "code",
   "execution_count": 31,
   "metadata": {},
   "outputs": [
    {
     "name": "stdout",
     "output_type": "stream",
     "text": [
      "Features that is not contains beta of zero:\n"
     ]
    },
    {
     "data": {
      "text/plain": [
       "['X1', 'X2', 'X8', 'X9', 'X10', 'X11', 'X12']"
      ]
     },
     "execution_count": 31,
     "metadata": {},
     "output_type": "execute_result"
    }
   ],
   "source": [
    "p = 15\n",
    "n = 1000\n",
    "np.random.seed(42)\n",
    "\n",
    "# generate X\n",
    "X_10 = pd.DataFrame(np.random.normal(0, 3, size=[n, p]))\n",
    "X_10.columns = ['X'+str(n) for n in np.arange(1, p+1)]\n",
    "\n",
    "# beta with 8 elements that are exactly equal to zero\n",
    "beta = np.random.randint(-6, 6, p) * np.random.randint(0, 2,p)\n",
    "eps  = np.random.normal(0, 1, n)\n",
    "\n",
    "y_10 = np.dot(X_10, beta) - eps\n",
    "\n",
    "# df contains X and y\n",
    "df_10 = X_10.copy()\n",
    "df_10['y'] = y_10\n",
    "\n",
    "print(\"Features that is not contains beta of zero:\")\n",
    "list(X_10.columns[beta != 0])"
   ]
  },
  {
   "cell_type": "markdown",
   "metadata": {},
   "source": [
    "<a id=10b ></a>\n",
    "**$(b)$ Split your data set into a training set containing $100$ observations and a test set containing $900$ observations.**"
   ]
  },
  {
   "cell_type": "code",
   "execution_count": 32,
   "metadata": {},
   "outputs": [
    {
     "data": {
      "text/plain": [
       "(100, 15)"
      ]
     },
     "execution_count": 32,
     "metadata": {},
     "output_type": "execute_result"
    }
   ],
   "source": [
    "X_train, X_test, y_train, y_test = train_test_split(X_10, y_10,\n",
    "                                                    test_size=900,\n",
    "                                                    random_state=42)\n",
    "X_train.shape"
   ]
  },
  {
   "cell_type": "markdown",
   "metadata": {},
   "source": [
    "<a id=10c ></a>\n",
    "**$(c)$ Perform best subset selection on the training set, and plot the training set MSE associated with the best model of each size.**"
   ]
  },
  {
   "cell_type": "code",
   "execution_count": 33,
   "metadata": {},
   "outputs": [
    {
     "name": "stdout",
     "output_type": "stream",
     "text": [
      "Progess: k = 1, done, time: 0.089 s\n",
      "Progess: k = 2, done, time: 0.761 s\n",
      "Progess: k = 3, done, time: 4.2293 s\n",
      "Progess: k = 4, done, time: 16.3709 s\n",
      "Progess: k = 5, done, time: 39.8709 s\n",
      "Progess: k = 6, done, time: 75.8284 s\n",
      "Progess: k = 7, done, time: 106.5787 s\n",
      "Progess: k = 8, done, time: 110.8004 s\n",
      "Progess: k = 9, done, time: 95.0653 s\n",
      "Progess: k = 10, done, time: 62.8272 s\n",
      "Progess: k = 11, done, time: 29.9447 s\n",
      "Progess: k = 12, done, time: 10.7286 s\n",
      "Progess: k = 13, done, time: 2.6583 s\n",
      "Progess: k = 14, done, time: 0.4053 s\n",
      "Progess: k = 15, done, time: 0.0294 s\n"
     ]
    }
   ],
   "source": [
    "df_10_train = X_train.copy()\n",
    "df_10_train['y'] = y_train\n",
    "\n",
    "model_subsets_10 = best_subset(X_train.columns, 'y', data = df_10_train)"
   ]
  },
  {
   "cell_type": "markdown",
   "metadata": {},
   "source": [
    "<a id=10d ></a>\n",
    "**$(d)$ Plot the test set MSE associated with the best model of each size.**"
   ]
  },
  {
   "cell_type": "code",
   "execution_count": 34,
   "metadata": {
    "scrolled": true
   },
   "outputs": [
    {
     "data": {
      "image/png": "[encoded data removed]",
      "text/plain": [
       "<Figure size 576x360 with 1 Axes>"
      ]
     },
     "metadata": {
      "needs_background": "light"
     },
     "output_type": "display_data"
    },
    {
     "name": "stdout",
     "output_type": "stream",
     "text": [
      "Model selected coefficients: \n",
      "Intercept    0.029532\n",
      "X1          -6.025468\n",
      "X2           1.019692\n",
      "X4          -0.041637\n",
      "X7          -0.049773\n",
      "X8          -1.062602\n",
      "X9           4.945231\n",
      "X10         -2.006312\n",
      "X11         -3.066117\n",
      "X12          1.037810\n",
      "dtype: float64\n",
      "----------------------------------------------------\n",
      "\n"
     ]
    },
    {
     "data": {
      "image/png": "[encoded data removed]",
      "text/plain": [
       "<Figure size 576x360 with 1 Axes>"
      ]
     },
     "metadata": {
      "needs_background": "light"
     },
     "output_type": "display_data"
    },
    {
     "name": "stdout",
     "output_type": "stream",
     "text": [
      "Model selected coefficients: \n",
      "Intercept   -0.018377\n",
      "X1          -6.026122\n",
      "X2           1.021106\n",
      "X8          -1.056062\n",
      "X9           4.957554\n",
      "X10         -1.998456\n",
      "X11         -3.055464\n",
      "X12          1.042242\n",
      "dtype: float64\n",
      "----------------------------------------------------\n",
      "\n"
     ]
    },
    {
     "data": {
      "image/png": "[encoded data removed]",
      "text/plain": [
       "<Figure size 576x360 with 1 Axes>"
      ]
     },
     "metadata": {
      "needs_background": "light"
     },
     "output_type": "display_data"
    },
    {
     "name": "stdout",
     "output_type": "stream",
     "text": [
      "Model selected coefficients: \n",
      "Intercept   -0.018377\n",
      "X1          -6.026122\n",
      "X2           1.021106\n",
      "X8          -1.056062\n",
      "X9           4.957554\n",
      "X10         -1.998456\n",
      "X11         -3.055464\n",
      "X12          1.042242\n",
      "dtype: float64\n"
     ]
    }
   ],
   "source": [
    "scores_plot(model_subsets_10)"
   ]
  },
  {
   "cell_type": "markdown",
   "metadata": {},
   "source": [
    "<a id=10e ></a>\n",
    "**$(e)$ For which model size does the test set MSE take on its minimum value? Comment on your results. If it takes on its minimum value for a model containing only an intercept or a model containing all of the features, then play around with the way that you are generating the data in $(a)$ until you come up with a scenario in which the test set MSE is minimized for an intermediate model size.**\n",
    "\n",
    "> **Answer:**\n",
    ">- The **BIC**, and **AIC** scores provide the perfect model size of $7$.\n",
    ">- Adjusted R-squared perform way close to the true model size as we see from $k = 7$, the accuracy is kinda equivalent. But the highest $R^2$ is given by $k = 9$."
   ]
  },
  {
   "cell_type": "markdown",
   "metadata": {},
   "source": [
    "<a id=10f ></a>\n",
    "**$(f)$ How does the model at which the test set MSE is minimized compare to the true model used to generate the data? Comment on the coefficient values.**\n",
    "\n",
    "> **Answer:**\n",
    ">- Comparing to the true model we know \"As we generated the data\", $y = -6 X_1 + X_2 - X_8 + 5 X_9 -2 X_{10} -3 X_{11} + X_{12}$. The best subset selection choose the truly perfect model, with approximately equivalent coefficients."
   ]
  },
  {
   "cell_type": "markdown",
   "metadata": {},
   "source": [
    "<a id=10g ></a>\n",
    "**$(g)$ Create a plot displaying $ \\sqrt{\\sum_p^{j=1} (\\beta_j - \\hat{\\beta_j^r})^2}$ for $a$ range of values of $r$, where $\\hat{\\beta_j^r}$ is the $j$th coefficient estimate for the best model containing $r$ coefficients. Comment on what you observe. How does this compare to the test MSE plot from $(d)$?**"
   ]
  },
  {
   "cell_type": "code",
   "execution_count": 35,
   "metadata": {},
   "outputs": [
    {
     "data": {
      "image/png": "[encoded data removed]",
      "text/plain": [
       "<Figure size 576x360 with 1 Axes>"
      ]
     },
     "metadata": {
      "needs_background": "light"
     },
     "output_type": "display_data"
    }
   ],
   "source": [
    "bic = [min_bic(m)[1].params for m in model_subsets_10]\n",
    "r_beta = pd.DataFrame(beta, index=X_train.columns).T\n",
    "coef_err = [float(np.sqrt(((r_beta[b[1:].index] - b[1:])**2).T.sum())) for b in bic]\n",
    "\n",
    "plt.figure(figsize=(8,5))\n",
    "sns.pointplot(x= np.arange(1,len(coef_err)+1), y= coef_err);"
   ]
  },
  {
   "cell_type": "markdown",
   "metadata": {},
   "source": [
    "> **Answer:**\n",
    ">- Comparing to $(d)$, we can observe that it leads us to the same answer that with $k = 7$ features, the model give us the minimum coefficient error."
   ]
  },
  {
   "cell_type": "markdown",
   "metadata": {},
   "source": [
    "<a id=11 ></a>\n",
    "### $11.$ We will now try to predict per capita crime rate in the `Boston` data set.\n",
    "\n",
    "<a id=11a ></a>\n",
    "**$(a)$ Try out some of the regression methods explored in this chapter, such as best subset selection, the lasso, ridge regression, and PCR. Present and discuss results for the approaches that you consider.**"
   ]
  },
  {
   "cell_type": "code",
   "execution_count": 36,
   "metadata": {},
   "outputs": [
    {
     "name": "stdout",
     "output_type": "stream",
     "text": [
      "(506, 14)\n"
     ]
    },
    {
     "data": {
      "image/png": "[encoded data removed]",
      "text/plain": [
       "<Figure size 432x288 with 1 Axes>"
      ]
     },
     "metadata": {
      "needs_background": "light"
     },
     "output_type": "display_data"
    }
   ],
   "source": [
    "# read boston dataset \n",
    "boston_df = pd.read_csv('datasets/Boston.csv').drop('Unnamed: 0', axis=1)\n",
    "print(boston_df.shape)\n",
    "\n",
    "# removing outliers\n",
    "#boston_df = boston_df[boston_df.crim < 20]\n",
    "\n",
    "X_11 = boston_df.drop('crim', axis=1)\n",
    "y_11 = boston_df.crim\n",
    "\n",
    "# split the dataset\n",
    "X_train, X_test, y_train, y_test = train_test_split(X_11, y_11,\n",
    "                                                    test_size=0.3,\n",
    "                                                    random_state=42)\n",
    "\n",
    "boston_df.crim.hist(bins=20);"
   ]
  },
  {
   "cell_type": "markdown",
   "metadata": {},
   "source": [
    "### 1. Best subset selection"
   ]
  },
  {
   "cell_type": "code",
   "execution_count": 37,
   "metadata": {},
   "outputs": [
    {
     "name": "stdout",
     "output_type": "stream",
     "text": [
      "Progess: k = 1, done, time: 0.0749 s\n",
      "Progess: k = 2, done, time: 0.5735 s\n",
      "Progess: k = 3, done, time: 2.5929 s\n",
      "Progess: k = 4, done, time: 7.7079 s\n",
      "Progess: k = 5, done, time: 18.6606 s\n",
      "Progess: k = 6, done, time: 24.4474 s\n",
      "Progess: k = 7, done, time: 27.5699 s\n",
      "Progess: k = 8, done, time: 22.7015 s\n",
      "Progess: k = 9, done, time: 13.7687 s\n",
      "Progess: k = 10, done, time: 6.0099 s\n",
      "Progess: k = 11, done, time: 1.7694 s\n",
      "Progess: k = 12, done, time: 0.3194 s\n",
      "Progess: k = 13, done, time: 0.0275 s\n"
     ]
    }
   ],
   "source": [
    "model_subsets_11 = best_subset(boston_df.drop('crim', axis=1).columns, 'crim', boston_df)"
   ]
  },
  {
   "cell_type": "code",
   "execution_count": 38,
   "metadata": {
    "scrolled": false
   },
   "outputs": [
    {
     "data": {
      "image/png": "[encoded data removed]",
      "text/plain": [
       "<Figure size 576x360 with 1 Axes>"
      ]
     },
     "metadata": {
      "needs_background": "light"
     },
     "output_type": "display_data"
    },
    {
     "name": "stdout",
     "output_type": "stream",
     "text": [
      "Model selected coefficients: \n",
      "Intercept    19.124636\n",
      "zn            0.042788\n",
      "indus        -0.099386\n",
      "nox         -10.466490\n",
      "dis          -1.002598\n",
      "rad           0.539504\n",
      "ptratio      -0.270836\n",
      "black        -0.008004\n",
      "lstat         0.117806\n",
      "medv         -0.180594\n",
      "dtype: float64\n",
      "----------------------------------------------------\n",
      "\n"
     ]
    },
    {
     "data": {
      "image/png": "[encoded data removed]",
      "text/plain": [
       "<Figure size 576x360 with 1 Axes>"
      ]
     },
     "metadata": {
      "needs_background": "light"
     },
     "output_type": "display_data"
    },
    {
     "name": "stdout",
     "output_type": "stream",
     "text": [
      "Model selected coefficients: \n",
      "Intercept   -0.372585\n",
      "rad          0.488172\n",
      "black       -0.009472\n",
      "lstat        0.213596\n",
      "dtype: float64\n",
      "----------------------------------------------------\n",
      "\n"
     ]
    },
    {
     "data": {
      "image/png": "[encoded data removed]",
      "text/plain": [
       "<Figure size 576x360 with 1 Axes>"
      ]
     },
     "metadata": {
      "needs_background": "light"
     },
     "output_type": "display_data"
    },
    {
     "name": "stdout",
     "output_type": "stream",
     "text": [
      "Model selected coefficients: \n",
      "Intercept    19.683128\n",
      "zn            0.043293\n",
      "nox         -12.753708\n",
      "dis          -0.918318\n",
      "rad           0.532617\n",
      "ptratio      -0.310541\n",
      "black        -0.007922\n",
      "lstat         0.110173\n",
      "medv         -0.174207\n",
      "dtype: float64\n"
     ]
    }
   ],
   "source": [
    "scores_plot(model_subsets_11)"
   ]
  },
  {
   "cell_type": "code",
   "execution_count": 39,
   "metadata": {},
   "outputs": [
    {
     "name": "stdout",
     "output_type": "stream",
     "text": [
      "Test MSE: 44.31357164892003, Test RMSE: 6.656843970600485\n"
     ]
    }
   ],
   "source": [
    "### Bayes Information Criteria (BIC)\n",
    "# best BIC for each subset\n",
    "bic = [min_bic(m)[1].bic for m in model_subsets_11]\n",
    "bic_min_idx = bic.index(min(bic))\n",
    "\n",
    "# # With the lowest bic score predictors\n",
    "model_111 = min_bic(model_subsets_11[bic_min_idx])[1]\n",
    "\n",
    "# Get test rmse\n",
    "y_hat = model_111.predict(X_test)\n",
    "print(f'Test MSE: {mse(y_hat, y_test)}, Test RMSE: {np.sqrt(mse(y_hat, y_test))}')"
   ]
  },
  {
   "cell_type": "code",
   "execution_count": 40,
   "metadata": {},
   "outputs": [
    {
     "name": "stdout",
     "output_type": "stream",
     "text": [
      "crim ~ rad + lstat\n",
      "Test MSE: 46.373838308859575, Test RMSE: 6.809833941357129\n"
     ]
    }
   ],
   "source": [
    "# With just 2 predictors\n",
    "model_112 = min_bic(model_subsets_11[1])[1]\n",
    "print(min_bic(model_subsets_11[1])[0])\n",
    "# Get test rmse\n",
    "y_hat = model_112.predict(X_test)\n",
    "print(f'Test MSE: {mse(y_hat, y_test)}, Test RMSE: {np.sqrt(mse(y_hat, y_test))}')"
   ]
  },
  {
   "cell_type": "markdown",
   "metadata": {},
   "source": [
    "### 2. The lasso"
   ]
  },
  {
   "cell_type": "code",
   "execution_count": 41,
   "metadata": {},
   "outputs": [
    {
     "data": {
      "text/plain": [
       "(52.655769337532305, 0.28)"
      ]
     },
     "metadata": {},
     "output_type": "display_data"
    },
    {
     "data": {
      "image/png": "[encoded data removed]",
      "text/plain": [
       "<Figure size 720x432 with 1 Axes>"
      ]
     },
     "metadata": {
      "needs_background": "light"
     },
     "output_type": "display_data"
    },
    {
     "data": {
      "image/png": "[encoded data removed]",
      "text/plain": [
       "<Figure size 720x432 with 1 Axes>"
      ]
     },
     "metadata": {
      "needs_background": "light"
     },
     "output_type": "display_data"
    },
    {
     "data": {
      "text/html": [
       "<div>\n",
       "<style scoped>\n",
       "    .dataframe tbody tr th:only-of-type {\n",
       "        vertical-align: middle;\n",
       "    }\n",
       "\n",
       "    .dataframe tbody tr th {\n",
       "        vertical-align: top;\n",
       "    }\n",
       "\n",
       "    .dataframe thead th {\n",
       "        text-align: right;\n",
       "    }\n",
       "</style>\n",
       "<table border=\"1\" class=\"dataframe\">\n",
       "  <thead>\n",
       "    <tr style=\"text-align: right;\">\n",
       "      <th></th>\n",
       "      <th>feature</th>\n",
       "      <th>coefficient</th>\n",
       "    </tr>\n",
       "  </thead>\n",
       "  <tbody>\n",
       "    <tr>\n",
       "      <th>0</th>\n",
       "      <td>intercept</td>\n",
       "      <td>7.567013</td>\n",
       "    </tr>\n",
       "    <tr>\n",
       "      <th>1</th>\n",
       "      <td>zn</td>\n",
       "      <td>0.040647</td>\n",
       "    </tr>\n",
       "    <tr>\n",
       "      <th>2</th>\n",
       "      <td>indus</td>\n",
       "      <td>-0.082878</td>\n",
       "    </tr>\n",
       "    <tr>\n",
       "      <th>3</th>\n",
       "      <td>chas</td>\n",
       "      <td>-0.000000</td>\n",
       "    </tr>\n",
       "    <tr>\n",
       "      <th>4</th>\n",
       "      <td>nox</td>\n",
       "      <td>-0.000000</td>\n",
       "    </tr>\n",
       "    <tr>\n",
       "      <th>5</th>\n",
       "      <td>rm</td>\n",
       "      <td>0.000000</td>\n",
       "    </tr>\n",
       "    <tr>\n",
       "      <th>6</th>\n",
       "      <td>age</td>\n",
       "      <td>0.000000</td>\n",
       "    </tr>\n",
       "    <tr>\n",
       "      <th>7</th>\n",
       "      <td>dis</td>\n",
       "      <td>-0.564938</td>\n",
       "    </tr>\n",
       "    <tr>\n",
       "      <th>8</th>\n",
       "      <td>rad</td>\n",
       "      <td>0.533341</td>\n",
       "    </tr>\n",
       "    <tr>\n",
       "      <th>9</th>\n",
       "      <td>tax</td>\n",
       "      <td>-0.002900</td>\n",
       "    </tr>\n",
       "    <tr>\n",
       "      <th>10</th>\n",
       "      <td>ptratio</td>\n",
       "      <td>-0.038334</td>\n",
       "    </tr>\n",
       "    <tr>\n",
       "      <th>11</th>\n",
       "      <td>black</td>\n",
       "      <td>-0.008462</td>\n",
       "    </tr>\n",
       "    <tr>\n",
       "      <th>12</th>\n",
       "      <td>lstat</td>\n",
       "      <td>0.119339</td>\n",
       "    </tr>\n",
       "    <tr>\n",
       "      <th>13</th>\n",
       "      <td>medv</td>\n",
       "      <td>-0.135001</td>\n",
       "    </tr>\n",
       "  </tbody>\n",
       "</table>\n",
       "</div>"
      ],
      "text/plain": [
       "      feature  coefficient\n",
       "0   intercept     7.567013\n",
       "1          zn     0.040647\n",
       "2       indus    -0.082878\n",
       "3        chas    -0.000000\n",
       "4         nox    -0.000000\n",
       "5          rm     0.000000\n",
       "6         age     0.000000\n",
       "7         dis    -0.564938\n",
       "8         rad     0.533341\n",
       "9         tax    -0.002900\n",
       "10    ptratio    -0.038334\n",
       "11      black    -0.008462\n",
       "12      lstat     0.119339\n",
       "13       medv    -0.135001"
      ]
     },
     "metadata": {},
     "output_type": "display_data"
    }
   ],
   "source": [
    "lambdas =  np.arange(0.01, 1, 0.01)\n",
    "method = 'lasso'\n",
    "\n",
    "opt_l = optimal_lambda_val(X_11, y_11, lambdas, method, 10)\n",
    "model = display_coef(X_11, y_11, opt_l, method)"
   ]
  },
  {
   "cell_type": "code",
   "execution_count": 42,
   "metadata": {},
   "outputs": [
    {
     "name": "stdout",
     "output_type": "stream",
     "text": [
      "Test MSE: 43.106436830913346, Test RMSE: 6.565549240612954\n"
     ]
    }
   ],
   "source": [
    "# Get test rmse\n",
    "y_hat = model.predict(X_test)\n",
    "print(f'Test MSE: {mse(y_hat, y_test)}, Test RMSE: {np.sqrt(mse(y_hat, y_test))}')"
   ]
  },
  {
   "cell_type": "markdown",
   "metadata": {},
   "source": [
    "### 3. Ridge"
   ]
  },
  {
   "cell_type": "code",
   "execution_count": 43,
   "metadata": {},
   "outputs": [
    {
     "data": {
      "text/plain": [
       "(52.35152123739664, 312.85000000000065)"
      ]
     },
     "metadata": {},
     "output_type": "display_data"
    },
    {
     "data": {
      "image/png": "[encoded data removed]",
      "text/plain": [
       "<Figure size 720x432 with 1 Axes>"
      ]
     },
     "metadata": {
      "needs_background": "light"
     },
     "output_type": "display_data"
    },
    {
     "data": {
      "image/png": "[encoded data removed]",
      "text/plain": [
       "<Figure size 720x432 with 1 Axes>"
      ]
     },
     "metadata": {
      "needs_background": "light"
     },
     "output_type": "display_data"
    },
    {
     "data": {
      "text/html": [
       "<div>\n",
       "<style scoped>\n",
       "    .dataframe tbody tr th:only-of-type {\n",
       "        vertical-align: middle;\n",
       "    }\n",
       "\n",
       "    .dataframe tbody tr th {\n",
       "        vertical-align: top;\n",
       "    }\n",
       "\n",
       "    .dataframe thead th {\n",
       "        text-align: right;\n",
       "    }\n",
       "</style>\n",
       "<table border=\"1\" class=\"dataframe\">\n",
       "  <thead>\n",
       "    <tr style=\"text-align: right;\">\n",
       "      <th></th>\n",
       "      <th>feature</th>\n",
       "      <th>coefficient</th>\n",
       "    </tr>\n",
       "  </thead>\n",
       "  <tbody>\n",
       "    <tr>\n",
       "      <th>0</th>\n",
       "      <td>intercept</td>\n",
       "      <td>8.069517</td>\n",
       "    </tr>\n",
       "    <tr>\n",
       "      <th>1</th>\n",
       "      <td>zn</td>\n",
       "      <td>0.037543</td>\n",
       "    </tr>\n",
       "    <tr>\n",
       "      <th>2</th>\n",
       "      <td>indus</td>\n",
       "      <td>-0.094892</td>\n",
       "    </tr>\n",
       "    <tr>\n",
       "      <th>3</th>\n",
       "      <td>chas</td>\n",
       "      <td>-0.078741</td>\n",
       "    </tr>\n",
       "    <tr>\n",
       "      <th>4</th>\n",
       "      <td>nox</td>\n",
       "      <td>-0.038362</td>\n",
       "    </tr>\n",
       "    <tr>\n",
       "      <th>5</th>\n",
       "      <td>rm</td>\n",
       "      <td>0.116260</td>\n",
       "    </tr>\n",
       "    <tr>\n",
       "      <th>6</th>\n",
       "      <td>age</td>\n",
       "      <td>0.000875</td>\n",
       "    </tr>\n",
       "    <tr>\n",
       "      <th>7</th>\n",
       "      <td>dis</td>\n",
       "      <td>-0.531203</td>\n",
       "    </tr>\n",
       "    <tr>\n",
       "      <th>8</th>\n",
       "      <td>rad</td>\n",
       "      <td>0.532526</td>\n",
       "    </tr>\n",
       "    <tr>\n",
       "      <th>9</th>\n",
       "      <td>tax</td>\n",
       "      <td>-0.002325</td>\n",
       "    </tr>\n",
       "    <tr>\n",
       "      <th>10</th>\n",
       "      <td>ptratio</td>\n",
       "      <td>-0.116087</td>\n",
       "    </tr>\n",
       "    <tr>\n",
       "      <th>11</th>\n",
       "      <td>black</td>\n",
       "      <td>-0.008208</td>\n",
       "    </tr>\n",
       "    <tr>\n",
       "      <th>12</th>\n",
       "      <td>lstat</td>\n",
       "      <td>0.129363</td>\n",
       "    </tr>\n",
       "    <tr>\n",
       "      <th>13</th>\n",
       "      <td>medv</td>\n",
       "      <td>-0.145416</td>\n",
       "    </tr>\n",
       "  </tbody>\n",
       "</table>\n",
       "</div>"
      ],
      "text/plain": [
       "      feature  coefficient\n",
       "0   intercept     8.069517\n",
       "1          zn     0.037543\n",
       "2       indus    -0.094892\n",
       "3        chas    -0.078741\n",
       "4         nox    -0.038362\n",
       "5          rm     0.116260\n",
       "6         age     0.000875\n",
       "7         dis    -0.531203\n",
       "8         rad     0.532526\n",
       "9         tax    -0.002325\n",
       "10    ptratio    -0.116087\n",
       "11      black    -0.008208\n",
       "12      lstat     0.129363\n",
       "13       medv    -0.145416"
      ]
     },
     "metadata": {},
     "output_type": "display_data"
    }
   ],
   "source": [
    "lambdas =  np.arange(310, 315, 0.05)\n",
    "method = 'ridge'\n",
    "\n",
    "opt_l = optimal_lambda_val(X_11, y_11, lambdas, method, 10)\n",
    "model = display_coef(X_11, y_11, opt_l, method)"
   ]
  },
  {
   "cell_type": "code",
   "execution_count": 44,
   "metadata": {},
   "outputs": [
    {
     "name": "stdout",
     "output_type": "stream",
     "text": [
      "Test MSE: 42.98601603102228, Test RMSE: 6.556372169959716\n"
     ]
    }
   ],
   "source": [
    "# Get test rmse\n",
    "y_hat = model.predict(X_test)\n",
    "print(f'Test MSE: {mse(y_hat, y_test)}, Test RMSE: {np.sqrt(mse(y_hat, y_test))}')"
   ]
  },
  {
   "cell_type": "markdown",
   "metadata": {},
   "source": [
    "### 4. PCR"
   ]
  },
  {
   "cell_type": "code",
   "execution_count": 45,
   "metadata": {},
   "outputs": [
    {
     "data": {
      "image/png": "[encoded data removed]",
      "text/plain": [
       "<Figure size 720x432 with 1 Axes>"
      ]
     },
     "metadata": {
      "needs_background": "light"
     },
     "output_type": "display_data"
    },
    {
     "data": {
      "text/html": [
       "<div>\n",
       "<style scoped>\n",
       "    .dataframe tbody tr th:only-of-type {\n",
       "        vertical-align: middle;\n",
       "    }\n",
       "\n",
       "    .dataframe tbody tr th {\n",
       "        vertical-align: top;\n",
       "    }\n",
       "\n",
       "    .dataframe thead th {\n",
       "        text-align: right;\n",
       "    }\n",
       "</style>\n",
       "<table border=\"1\" class=\"dataframe\">\n",
       "  <thead>\n",
       "    <tr style=\"text-align: right;\">\n",
       "      <th></th>\n",
       "      <th>principal components count</th>\n",
       "      <th>RMSE_CV</th>\n",
       "      <th>RMSE_Test</th>\n",
       "    </tr>\n",
       "  </thead>\n",
       "  <tbody>\n",
       "    <tr>\n",
       "      <th>12</th>\n",
       "      <td>13</td>\n",
       "      <td>6.47536</td>\n",
       "      <td>6.818502</td>\n",
       "    </tr>\n",
       "  </tbody>\n",
       "</table>\n",
       "</div>"
      ],
      "text/plain": [
       "    principal components count  RMSE_CV  RMSE_Test\n",
       "12                          13  6.47536   6.818502"
      ]
     },
     "metadata": {},
     "output_type": "display_data"
    },
    {
     "data": {
      "text/html": [
       "<div>\n",
       "<style scoped>\n",
       "    .dataframe tbody tr th:only-of-type {\n",
       "        vertical-align: middle;\n",
       "    }\n",
       "\n",
       "    .dataframe tbody tr th {\n",
       "        vertical-align: top;\n",
       "    }\n",
       "\n",
       "    .dataframe thead th {\n",
       "        text-align: right;\n",
       "    }\n",
       "</style>\n",
       "<table border=\"1\" class=\"dataframe\">\n",
       "  <thead>\n",
       "    <tr style=\"text-align: right;\">\n",
       "      <th></th>\n",
       "      <th>principal components count</th>\n",
       "      <th>RMSE_CV</th>\n",
       "      <th>RMSE_Test</th>\n",
       "    </tr>\n",
       "  </thead>\n",
       "  <tbody>\n",
       "    <tr>\n",
       "      <th>12</th>\n",
       "      <td>13</td>\n",
       "      <td>6.47536</td>\n",
       "      <td>6.818502</td>\n",
       "    </tr>\n",
       "  </tbody>\n",
       "</table>\n",
       "</div>"
      ],
      "text/plain": [
       "    principal components count  RMSE_CV  RMSE_Test\n",
       "12                          13  6.47536   6.818502"
      ]
     },
     "execution_count": 45,
     "metadata": {},
     "output_type": "execute_result"
    }
   ],
   "source": [
    "train = X_11.index.isin(X_train.index)\n",
    "pcr_cv(X_11, y_11, train, 42, 10)"
   ]
  },
  {
   "cell_type": "markdown",
   "metadata": {},
   "source": [
    "### Comparison plot:"
   ]
  },
  {
   "cell_type": "code",
   "execution_count": 46,
   "metadata": {
    "scrolled": false
   },
   "outputs": [
    {
     "data": {
      "image/png": "[encoded data removed]",
      "text/plain": [
       "<Figure size 432x288 with 1 Axes>"
      ]
     },
     "metadata": {
      "needs_background": "light"
     },
     "output_type": "display_data"
    },
    {
     "data": {
      "text/html": [
       "<div>\n",
       "<style scoped>\n",
       "    .dataframe tbody tr th:only-of-type {\n",
       "        vertical-align: middle;\n",
       "    }\n",
       "\n",
       "    .dataframe tbody tr th {\n",
       "        vertical-align: top;\n",
       "    }\n",
       "\n",
       "    .dataframe thead th {\n",
       "        text-align: right;\n",
       "    }\n",
       "</style>\n",
       "<table border=\"1\" class=\"dataframe\">\n",
       "  <thead>\n",
       "    <tr style=\"text-align: right;\">\n",
       "      <th></th>\n",
       "      <th>model</th>\n",
       "      <th>RMSE</th>\n",
       "    </tr>\n",
       "  </thead>\n",
       "  <tbody>\n",
       "    <tr>\n",
       "      <th>1</th>\n",
       "      <td>BSS_3</td>\n",
       "      <td>6.6568</td>\n",
       "    </tr>\n",
       "    <tr>\n",
       "      <th>2</th>\n",
       "      <td>Ridge</td>\n",
       "      <td>6.8031</td>\n",
       "    </tr>\n",
       "    <tr>\n",
       "      <th>0</th>\n",
       "      <td>BSS_2</td>\n",
       "      <td>6.8098</td>\n",
       "    </tr>\n",
       "    <tr>\n",
       "      <th>3</th>\n",
       "      <td>Lasso</td>\n",
       "      <td>6.8138</td>\n",
       "    </tr>\n",
       "    <tr>\n",
       "      <th>4</th>\n",
       "      <td>PCR</td>\n",
       "      <td>6.8185</td>\n",
       "    </tr>\n",
       "  </tbody>\n",
       "</table>\n",
       "</div>"
      ],
      "text/plain": [
       "   model    RMSE\n",
       "1  BSS_3  6.6568\n",
       "2  Ridge  6.8031\n",
       "0  BSS_2  6.8098\n",
       "3  Lasso  6.8138\n",
       "4    PCR  6.8185"
      ]
     },
     "metadata": {},
     "output_type": "display_data"
    }
   ],
   "source": [
    "models = ['BSS_2', 'BSS_3', 'Ridge', 'Lasso', 'PCR']\n",
    "rmses  = [6.8098, 6.6568, 6.8031, 6.8138, 6.8185]\n",
    "results = pd.DataFrame({'model': models, 'RMSE': rmses})\n",
    "results = results.sort_values(by='RMSE', ascending=True)\n",
    "\n",
    "ax = sns.barplot(x='model', y='RMSE', data=results)\n",
    "ax.set_ylim([5,7])\n",
    "plt.xticks(rotation=45)\n",
    "plt.show();\n",
    "\n",
    "display(results)"
   ]
  },
  {
   "cell_type": "markdown",
   "metadata": {},
   "source": [
    "> **Note:**\n",
    ">- By removing outliers from `crim`, we could reach **RSME** of $2.1059$! and that's an significant improvement.\n",
    "\n",
    "> **Comment:**\n",
    ">- For the best subset selection:\n",
    ">  - We can see from the graphs with 2 predictors, the model accuracy slightly increase.\n",
    ">  - This could lead that using just 2 predictors ('rad', 'lstat'), would perform pretty good.\n",
    ">- For the lasso method:\n",
    ">  - If we consider our coefficient threshold is +/- 0.1, then the lasso method provides 3 predictors for the best model, which are ('dis', 'rad', 'medv') \n",
    ">  - But it shows the model will still perform fine with just 2 predictors of ('dis', 'rad')\n",
    ">- For the ridge method:\n",
    ">  - The method provides pretty close results to the lasso method.\n",
    ">- For the PCR method:\n",
    ">  - With 13 principal components count, we got the best training RMSE score.\n",
    ">  - But from the graph, we can tell that with just 3 principal components count, the model still will perform good. "
   ]
  },
  {
   "cell_type": "markdown",
   "metadata": {},
   "source": [
    "<a id=11b ></a>\n",
    "**$(b)$ Propose a model (or set of models) that seem to perform well on this data set, and justify your answer. Make sure that you are evaluating model performance using validation set error, crossvalidation, or some other reasonable alternative, as opposed to using training error.**"
   ]
  },
  {
   "cell_type": "code",
   "execution_count": 47,
   "metadata": {},
   "outputs": [
    {
     "name": "stdout",
     "output_type": "stream",
     "text": [
      " Test MSE: 41.93028208665597, Test RMSE: 6.475359610605111\n"
     ]
    }
   ],
   "source": [
    "# MSE with all predictors\n",
    "\n",
    "MSEs = []\n",
    "model = LinearRegression()\n",
    "cv    = KFold(n_splits=10, random_state=42, shuffle=True)\n",
    "cv10  = cross_val_score(model, X_11, y_11,\n",
    "                        cv=cv, scoring='neg_mean_squared_error')\n",
    "\n",
    "print(f\" Test MSE: {np.mean(np.abs(cv10))}, Test RMSE: {np.sqrt(np.mean(np.abs(cv10)))}\")"
   ]
  },
  {
   "cell_type": "markdown",
   "metadata": {},
   "source": [
    ">- With all predictors in the model, we got test **MSE** of $41.93$, and test **RMSE** of $6.47$.\n",
    ">- Now let's make some adjustments."
   ]
  },
  {
   "cell_type": "code",
   "execution_count": 48,
   "metadata": {},
   "outputs": [
    {
     "name": "stdout",
     "output_type": "stream",
     "text": [
      "(498, 15)\n",
      " Test MSE: 7.714331008915892, Test RMSE: 2.7774684532710525\n"
     ]
    }
   ],
   "source": [
    "# removing outliers just 7 observations\n",
    "boston_df_2 = boston_df[boston_df.crim < 30]\n",
    "boston_df_2['medv3'] = boston_df_2.medv**3\n",
    "print(boston_df_2.shape)\n",
    "\n",
    "X_11_2 = boston_df_2.drop('crim', axis=1)[['rad', 'black', 'lstat', 'medv3']]\n",
    "y_11_2 = boston_df_2.crim\n",
    "\n",
    "MSEs = []\n",
    "model = LinearRegression()\n",
    "cv    = KFold(n_splits=10, random_state=42, shuffle=True)\n",
    "cv10  = cross_val_score(model, X_11_2, y_11_2,\n",
    "                        cv=cv, scoring='neg_mean_squared_error')\n",
    "\n",
    "print(f\" Test MSE: {np.mean(np.abs(cv10))}, Test RMSE: {np.sqrt(np.mean(np.abs(cv10)))}\")"
   ]
  },
  {
   "cell_type": "markdown",
   "metadata": {},
   "source": [
    ">- After considering those 7 observations as outliers, adding the quadratic term of the variable `medv`, and use just 4 predictors, we improve the results as following:\n",
    ">  - Test **MSE**: $7.7143$, Test **RMSE**: $2.7775$.\n",
    ">- And that's a significant improvement with a little adjustments."
   ]
  },
  {
   "cell_type": "markdown",
   "metadata": {},
   "source": [
    "<a id=11c ></a>\n",
    "**$(c)$ Does your chosen model involve all of the features in the data set? Why or why not?**"
   ]
  },
  {
   "cell_type": "markdown",
   "metadata": {},
   "source": [
    ">**Answer:**\n",
    ">- Our model uses just 4 features, because These 4 features with removing the outliers reduce the test **RSME** and not overfit the training set.\n",
    ">- By adding more features the model will overfit the training set, and the test **RSME** will start to slightly increase (\"As we could see in the **CIP** graph above in the best subset selection method\")."
   ]
  },
  {
   "cell_type": "markdown",
   "metadata": {},
   "source": [
    "# Done!"
   ]
  }
 ],
 "metadata": {
  "kernelspec": {
   "display_name": "Python 3 (ipykernel)",
   "language": "python",
   "name": "python3"
  },
  "language_info": {
   "codemirror_mode": {
    "name": "ipython",
    "version": 3
   },
   "file_extension": ".py",
   "mimetype": "text/x-python",
   "name": "python",
   "nbconvert_exporter": "python",
   "pygments_lexer": "ipython3",
   "version": "3.8.11"
  }
 },
 "nbformat": 4,
 "nbformat_minor": 2
}
