{
 "cells": [
  {
   "cell_type": "markdown",
   "metadata": {},
   "source": [
    "# Chapter 7: Moving Beyond Linearity\n",
    "By [**Mosta Ashour**](https://www.linkedin.com/in/mosta-ashour/)\n",
    "- **Chapter 7 from the book [An Introduction to Statistical Learning](https://www.statlearning.com/)**\n",
    "- **By Gareth James, Daniela Witten, Trevor Hastie and Rob Tibshirani**\n",
    "- **Pages from $297$ to $299$**\n",
    "\n",
    "\n",
    "- **Exercises:**\n",
    " - **[1.](#1) [(a)](#1a) [(b)](#1b) [(c)](#1c) [(d)](#1d) [(e)](#1e)**\n",
    " - **[2.](#2) [(a)](#2a) [(b)](#2b) [(c)](#2c) [(d)](#2d) [(e)](#2e)**\n",
    " - **[3.](#3)**\n",
    " - **[4.](#4)**\n",
    " - **[5.](#5) [(a)](#5a) [(b)](#5b) [(c)](#5c)**\n",
    "\n",
    "# <span style=\"font-family:cursive;color:#0071bb;\"> 7.9 Exercises </span>\n",
    "## <span style=\"font-family:cursive;color:#0071bb;\"> Conceptual </span>"
   ]
  },
  {
   "cell_type": "markdown",
   "metadata": {},
   "source": [
    "<a id='1'></a>\n",
    "### $1.$ It was mentioned in the chapter that a cubic regression spline with one knot at $\\xi$ can be obtained using a basis of the form $x, x^2, x^3, (x - \\xi)^3_+$, where $(x - \\xi)^3_+ = (x - \\xi)^3$ if $x > \\xi$ and equals 0 otherwise. <br> We will now show that a function of the form $$f(x) = \\beta_0 + \\beta_1 x + \\beta_2 x^2 + \\beta_3 x^3 + \\beta_4(x − \\xi)^3_+$$ <br> is indeed a cubic regression spline, regardless of the values of $\\beta_0, \\beta_1, \\beta_2, \\beta_3, \\beta_4.$"
   ]
  },
  {
   "cell_type": "markdown",
   "metadata": {},
   "source": [
    "<a id='1a'></a>\n",
    "**$(a)$ Find a cubic polynomial $$f_1(x) = a_1 + b_1x + c_1 x^2 + d_1 x^3$$ such that $f(x) = f_1(x)$ for all $x \\leq \\xi$. Express $a_1, b_1, c_1, d_1$ in terms of $\\beta_0, \\beta_1, \\beta_2, \\beta_3, \\beta_4.$**\n",
    "\n",
    "**Answer:**\n",
    "\n",
    ">- With $(x \\leq \\xi)$, the term $(x − \\xi)^3_+ = 0$\n",
    ">- The formula would be: $$f_1(x) = \\beta_0 + \\beta_1 x + \\beta_2 x^2 + \\beta_3 x^3$$\n",
    ">- So, the coefficients are:\n",
    "$\n",
    "a_1 = \\beta_0,\\\\\n",
    "b_1 = \\beta_1,\\\\ \n",
    "c_1 = \\beta_2,\\\\\n",
    "d_1 = \\beta_3.\n",
    "$"
   ]
  },
  {
   "cell_type": "markdown",
   "metadata": {},
   "source": [
    "<a id='1b'></a>\n",
    "**$(b)$ Find a cubic polynomial $$f_2(x) = a_2 + b_2x + c_2 x^2 + d_2 x^3$$ such that $f(x) = f_2(x)$ for all $x > \\xi$. Express $a_2, b_2, c_2, d_2$ in terms of $\\beta_0, \\beta_1, \\beta_2, \\beta_3, \\beta_4.$. We have now established that f(x) is a piecewise polynomial.**\n",
    "\n",
    "**Answer:**\n",
    "\n",
    ">- For $x \\gt \\xi$, $f(x)$ has the form of:\n",
    "$$\n",
    "\\begin{align}\n",
    "f_2(x) &= \\beta_0 + \\beta_1 x + \\beta_2 x^2 + \\beta_3 x^3 + \\beta_4 (x - \\xi)^3_+\n",
    "\\\\\n",
    "&= \\beta_0 + \\beta_1 x + \\beta_2 x^2 + \\beta_3 x^3 + \\beta_4 (x - \\xi)^3\n",
    "\\\\\n",
    "&= \\beta_0 + \\beta_1 x + \\beta_2 x^2 + \\beta_3 x^3 + \\beta_4 (x^3 - 3 x^2 \\xi + 3 x \\xi^2 - \\xi^3)\n",
    "\\\\\n",
    "&= (\\beta_0 - \\beta_4 \\xi^3) + (\\beta_1 + 3 \\beta_4 \\xi^2) x + (\\beta_2 - 3 \\beta_4 \\xi) x^2 + (\\beta_3 + \\beta_4) x^3\n",
    "\\end{align}\n",
    "$$\n",
    ">- Thus, \n",
    "$\n",
    "a_2 = \\beta_0 - \\beta_4 \\xi^3,\\\\\n",
    "b_2 = \\beta_1 + 3 \\beta_4 \\xi^2,\\\\\n",
    "c_2 = \\beta_2 - 3 \\beta_4 \\xi,\\\\\n",
    "d_2 = \\beta_3 + \\beta_4.\n",
    "$"
   ]
  },
  {
   "cell_type": "markdown",
   "metadata": {},
   "source": [
    "<a id='1c'></a>\n",
    "**$(c)$ Show that $f_1(\\xi) = f_2(\\xi).$ That is, $f(x)$ is continuous at $\\xi$.**\n",
    "\n",
    "**Answer:**\n",
    "\n",
    ">- **For $f_1(\\xi)$:**\n",
    "$$\n",
    "f_1(\\xi) = \\beta_0 + \\beta_1 \\xi + \\beta_2 \\xi^2 + \\beta_3 \\xi^3 \\tag{1}\n",
    "$$\n",
    ">- **For $f_2(\\xi)$:**\n",
    "$$\n",
    "\\begin{align}\n",
    "f_2(\\xi) &= \\beta_0 + \\beta_1 \\xi + \\beta_2 \\xi^2 + \\beta_3 \\xi^3 + \\color{red}{\\beta_4 (\\xi - \\xi)^3}\n",
    "\\\\\n",
    "f_2(\\xi) &= \\beta_0 + \\beta_1 \\xi + \\beta_2 \\xi^2 + \\beta_3 \\xi^3 \\tag{2}\n",
    "\\\\\n",
    "\\end{align}\n",
    "$$\n",
    "\n",
    ">- From $(1)$ and $(2)$, $f_1(\\xi) = f_2(\\xi) = \\beta_0 + \\beta_1 \\xi + \\beta_2 \\xi^2 + \\beta_3 \\xi^3.$"
   ]
  },
  {
   "cell_type": "markdown",
   "metadata": {},
   "source": [
    "<a id='1d'></a>\n",
    "**$(d)$ Show that $f'_1(\\xi) = f'_2(\\xi).$ That is, $f'(x)$ is continuous at $\\xi$.**\n",
    "\n",
    "**Answer:**\n",
    ">- **For $f'_1(\\xi)$:**\n",
    "$$\n",
    "\\begin{align}\n",
    "f_1(x) &= \\beta_0 + \\beta_1 x + \\beta_2 x^2 + \\beta_3 x^3\n",
    "\\\\\n",
    "f_1'(x) &= \\beta_1 + 2 \\beta_2 x + 3 \\beta_3 x^2\n",
    "\\\\\n",
    "f_1'(\\xi) &= \\beta_1 + 2 \\beta_2 \\xi + 3 \\beta_3 \\xi^2 \\tag{1}\n",
    "\\end{align}\n",
    "$$\n",
    ">- **For $f'_2(\\xi)$:**\n",
    "$$\n",
    "\\begin{align}\n",
    "f_2(x) &= \\beta_0 + \\beta_1 x + \\beta_2 x^2 + \\beta_3 x^3 + \\beta_4 (x - \\xi)^3\n",
    "\\\\\n",
    "f'_2(x) &= \\beta_1 + 2 \\beta_2 x + 3 \\beta_3 x^2 + 3 \\beta_4 (x - \\xi)^2\n",
    "\\\\\n",
    "f'_2(\\xi) &= \\beta_1 + 2 \\beta_2 \\xi + 3 \\beta_3 \\xi^2 + \\color{red}{3 \\beta_4 (\\xi - \\xi)^2}\n",
    "\\\\\n",
    "f'_2(\\xi) &= \\beta_1 + 2 \\beta_2 \\xi + 3 \\beta_3 \\xi^2 \\tag{2}\n",
    "\\end{align}\n",
    "$$\n",
    "\n",
    ">- From $(1)$ and $(2)$, $f'_1(\\xi) = f'_2(\\xi) = \\beta_1 + 2 \\beta_2 \\xi + 3 \\beta_3 \\xi^2.$"
   ]
  },
  {
   "cell_type": "markdown",
   "metadata": {},
   "source": [
    "<a id='1e'></a>\n",
    "**$(e)$ Show that $f''_1 (ξ) = f''_2 (\\xi)$. That is, $f''(x)$ is continuous at $\\xi$.<br>\n",
    "Therefore, $f(x)$ is indeed a cubic spline.<br>\n",
    "Hint: Parts $(d)$ and $(e)$ of this problem require knowledge of single-variable\n",
    "calculus. As a reminder, given a cubic polynomial\n",
    "$$f_1(x) = a_1  + b_1 x + c_1 x^2 + d_1 x^3,$$\n",
    "the first derivative takes the form\n",
    "$$f'_1(x) = b_1 + 2 c_1 x + 3 d_1 x^2$$\n",
    "and the second derivative takes the form\n",
    "$$f''_1 (x) = 2 c_1 + 6 d_1 x.$$**\n",
    "\n",
    "**Answer:**\n",
    ">- **For $f''_1(\\xi)$:**\n",
    "$$\n",
    "\\begin{align}\n",
    "f_1''(x) &= 2 \\beta_2 + 6 \\beta_3 x\n",
    "\\\\\n",
    "f_1''(\\xi) &= 2 \\beta_2 + 6 \\beta_3 \\xi \\tag{1}\n",
    "\\end{align}\n",
    "$$\n",
    ">- **For $f''_2(\\xi)$:**\n",
    "$$\n",
    "\\begin{align}\n",
    "f''_2(x) &= 2 \\beta_2 + 6 \\beta_3 x + 6 \\beta_4 (x - \\xi)\n",
    "\\\\\n",
    "f''_2(\\xi) &= 2 \\beta_2 + 6 \\beta_3 \\xi + \\color{red}{6 \\beta_4 (\\xi - \\xi)}\n",
    "\\\\\n",
    "&= 2 \\beta_2 + 6 \\beta_3 \\xi \\tag{2}\n",
    "\\end{align}\n",
    "$$\n",
    "\n",
    ">- From $(1)$ and $(2)$, $f''_1(\\xi) = f''_2(\\xi) = 2 \\beta_2 + 6 \\beta_3 \\xi$."
   ]
  },
  {
   "cell_type": "markdown",
   "metadata": {},
   "source": [
    "<a id='2'></a>\n",
    "### 2. Suppose that a curve $\\hat{g}$ is computed to smoothly fit a set of n points using the following formula: $$\\hat{g} = arg \\min_{g}\\\n",
    "\\bigg(\\sum_{i=1}^n (y_i - g(x_i))^2\\\n",
    "+ \\lambda \\int [g^{(m)} (x)]^2 dx \\bigg),$$ <br> where $g^{(m)}$ represents the $m$th derivative of $g$ (and $g^{(0)} = g$). Provide example sketches of $\\hat{g}$ in each of the following scenarios.\n",
    "\n",
    "<a id='2a'></a>\n",
    "**$(a)$ $\\lambda = \\infty,m = 0.$**\n",
    "\n",
    "**Answer:**\n",
    ">- In this case, it forces $g(x) = 0$. Thus, $\\hat{g}(x) = 0$"
   ]
  },
  {
   "cell_type": "markdown",
   "metadata": {},
   "source": [
    "<a id='2b'></a>\n",
    "**$(b)$ $\\lambda = \\infty,m = 1.$**\n",
    "\n",
    "**Answer:**\n",
    ">- In this case, it forces $g'(x) = 0$. Thus, $\\hat{g}(x) = a$"
   ]
  },
  {
   "cell_type": "markdown",
   "metadata": {},
   "source": [
    "<a id='2c'></a>\n",
    "**$(c)$ $\\lambda = \\infty,m = 2.$**\n",
    "\n",
    "**Answer:**\n",
    ">- In this case, it forces $g''(x) = 0$. Thus, $\\hat{g}(x) = ax + b$"
   ]
  },
  {
   "cell_type": "markdown",
   "metadata": {},
   "source": [
    "<a id='2d'></a>\n",
    "**$(d)$ $\\lambda = \\infty,m = 3.$**\n",
    "\n",
    "**Answer:**\n",
    ">- In this case, it forces $g'''(x) = 0$. Thus, $\\hat{g}(x) = ax^2 + bx + c.$"
   ]
  },
  {
   "cell_type": "markdown",
   "metadata": {},
   "source": [
    "<a id='2e'></a>\n",
    "**$(e)$ $\\lambda = 0,m = 3.$**\n",
    "\n",
    "**Answer:**\n",
    ">- In this case, the penalty term doesn't matter anymore. This is the formula for linear regression, to choose $g$ based on minimizing $\\text{RSS}$."
   ]
  },
  {
   "cell_type": "markdown",
   "metadata": {},
   "source": [
    "<a id='3'></a>\n",
    "### $3.$ Suppose we fit a curve with basis functions $b_1(X) = X, b_2(X) = (X - 1)^2 I(X \\geq 1)$. (Note that $I(X \\geq 1)$ equals $1$ for $X \\geq 1$ and $0$ otherwise.) We fit the linear regression model $$Y = \\beta_0 + \\beta_1 b_1(X) + \\beta_2 b_2(X) + \\epsilon,$$ and obtain coefficient estimates $\\hat{\\beta}_0 = 1,  \\hat{\\beta}_1 = 1, \\hat{\\beta}_2 = -2.$ Sketch the estimated curve between $X = -2$ and $X = 2$. Note the intercepts, slopes, and other relevant information."
   ]
  },
  {
   "cell_type": "code",
   "execution_count": 1,
   "metadata": {},
   "outputs": [
    {
     "data": {
      "image/png": "[encoded data removed]",
      "text/plain": [
       "<Figure size 576x360 with 1 Axes>"
      ]
     },
     "metadata": {
      "needs_background": "light"
     },
     "output_type": "display_data"
    }
   ],
   "source": [
    "import numpy as np\n",
    "import matplotlib.pyplot  as plt\n",
    "np.random.seed(42)\n",
    "\n",
    "# generate x and y\n",
    "x = np.arange(-2, 2, 0.04)\n",
    "e = np.random.rand(100)\n",
    "b2x = (x-1)**2 * (x >= 1)\n",
    "y = 1 + 1*x - 2 * b2x\n",
    "\n",
    "# plot x vs y\n",
    "plt.figure(figsize=(8,5))\n",
    "plt.plot(x, y)\n",
    "plt.axvline(x=1, color=\"black\", linestyle=\"--\")\n",
    "plt.xlabel(\"X\")\n",
    "plt.ylabel(\"Y\");"
   ]
  },
  {
   "cell_type": "markdown",
   "metadata": {},
   "source": [
    "**Comment:**\n",
    ">- For $X < 1$, the curve tend to be linear following the model: $Y = 1 + X$, with an intercept of $1$ and slop of $1$.\n",
    ">- For $X \\geq 1$, the quadratic term $(X-1)^2$ play a rule now in the model shown by the quadratic curve after $X \\geq 1$ following the model: $Y = 1 + X -2 (X-1)^2$, the slope for $X \\geq 1$ will vary as it is a function of $X$."
   ]
  },
  {
   "cell_type": "markdown",
   "metadata": {},
   "source": [
    "<a id='4'></a>\n",
    "### $4.$ Suppose we fit a curve with basis functions $b_1(X) = I(0 \\leq X \\leq 2) - (X - 1)I(1 \\leq X \\leq 2), b_2(X) = (X - 3)I(3 \\leq X \\leq 4)+I(4 < X \\leq 5).$ We fit the linear regression model $$Y = \\beta_0 + \\beta_1 b_1(X) + \\beta_2 b_2(X) + \\epsilon,$$ and obtain coefficient estimates $\\hat{\\beta_0} = 1, \\hat{\\beta_1} = 1, \\hat{\\beta_2} = 3$. Sketch the estimated curve between $X = -2$ and $X = 2$. Note the intercepts, slopes, and other relevant information."
   ]
  },
  {
   "cell_type": "code",
   "execution_count": 2,
   "metadata": {},
   "outputs": [
    {
     "data": {
      "image/png": "[encoded data removed]",
      "text/plain": [
       "<Figure size 576x360 with 1 Axes>"
      ]
     },
     "metadata": {
      "needs_background": "light"
     },
     "output_type": "display_data"
    }
   ],
   "source": [
    "np.random.seed(42)\n",
    "\n",
    "# generate x and y\n",
    "x = np.arange(-2, 2, 0.04)\n",
    "e = np.random.rand(100)\n",
    "b1x = ((0 <= x) * (x <= 2)) - (x - 1) * ((1 <= x) * (x <= 2))\n",
    "b2x = ((x-3) * (3 <= x) * (x <= 4)) + ((4 < x) * (x <= 5))\n",
    "y = 1 + 1*b1x + 3*b2x\n",
    "\n",
    "# plot x vs y\n",
    "plt.figure(figsize=(8,5))\n",
    "plt.plot(x, y)\n",
    "plt.axvline(x=1, color=\"black\", linestyle=\"--\")\n",
    "plt.xlabel(\"X\")\n",
    "plt.ylabel(\"Y\");"
   ]
  },
  {
   "cell_type": "markdown",
   "metadata": {},
   "source": [
    "**Comment:**\n",
    ">- For $(-2 \\leq X < 0)$, the curve is a constant horizontal line, following the model: $Y = 1$ as none of the indicator variables are true.\n",
    ">  - With intercept of $1$, and slop of $0$.\n",
    ">- For $(0 \\leq X < 1)$, the curve is a constant horizontal line, following the model: $Y = 1 + 1 = 2$ as the first indicator variable is true.\n",
    ">  - With intercept of $2$, and slop of $0$.\n",
    ">- For $(1 \\leq X \\leq 2)$, the curve is linear following the model: $Y = 1 + 1 - (X -1) = 3 - X$ as both of the indicator variables are true.\n",
    ">  - With intercept of $3$, and slop of $-1$."
   ]
  },
  {
   "cell_type": "markdown",
   "metadata": {},
   "source": [
    "<a id='5'></a>\n",
    "### $5.$ Consider two curves, $\\hat{g}_1$ and $\\hat{g}_2$, defined by $$\\hat{g}_1 = arg \\min_{g}\\\n",
    "\\bigg(\\sum_{i=1}^n (y_i - g(x_i))^2\\\n",
    "+ \\lambda \\int [g^{(3)} (x)]^2 dx \\bigg),$$ $$\\hat{g}_2 = arg \\min_{g}\\\n",
    "\\bigg(\\sum_{i=1}^n (y_i - g(x_i))^2\\\n",
    "+ \\lambda \\int [g^{(4)} (x)]^2 dx \\bigg),$$ where $g^{(m)}$ represents the $m$th derivative of $g$.\n",
    "\n",
    "\n",
    "<a id='5a'></a>\n",
    "**$(a)$ As $\\lambda \\to \\infty$, will $\\hat{g}_1$ or $\\hat{g}_2$ have the smaller training $RSS$?**\n",
    "\n",
    "**Answer:**\n",
    ">- As $\\lambda$ increases, the penalty term becomes more and more important in the equation above.\n",
    ">- For $\\hat{g}_1, \\lambda \\to \\infty$ forces $g^{(3)}(x)\\to 0$. The highest order (most flexible) polynomial to satisfy this would be of the form $\\hat{g}(x)=ax^2+bx+c$ (as in Q: $2. d$). Thus, $\\hat{g}_1$ will be the quadratic that minimizes the training $RSS$.\n",
    ">- For $\\hat{g}_2, \\lambda \\to \\infty$ forces $g^{(4)}(x)\\to 0$. The highest order (most flexible) polynomial to satisfy this would be of the form $\\hat{g}(x)=ax^3+bx^2+cx+d$. Thus, $\\hat{g}_2$ will be the cubic that minimizes the training $RSS$.\n",
    "\n",
    ">- Since $\\hat{g}_2$ would be more flexible as the higher order polynomial, $\\hat{g}_2$ would have the smaller training $RSS$."
   ]
  },
  {
   "cell_type": "markdown",
   "metadata": {},
   "source": [
    "<a id='5b'></a>\n",
    "**$(b)$ As $\\lambda \\to \\infty$, will $\\hat{g}_1$ or $\\hat{g}_2$ have the smaller test $RSS$?**\n",
    "**Answer:**\n",
    ">- As in $5.a$, $\\hat{g}_2$ would be more flexible as the higher order polynomial, therefore $\\hat{g}_1$ may have the smaller test $RSS$. \n",
    ">- Still, it depends on the true relationship between $x$ and $y$. Is it better approximated with a cubic or quadratic relationship!"
   ]
  },
  {
   "cell_type": "markdown",
   "metadata": {},
   "source": [
    "<a id='5c'></a>\n",
    "**$(c)$ For $\\lambda = 0$, will $\\hat{g}_1$ or $\\hat{g}_2$ have the smaller training and test $RSS$?**\n",
    "\n",
    "**Answer:**\n",
    ">- As $\\lambda = 0$, the penalty term doesn't matter anymore, means $\\hat{g}_1 = \\hat{g}_2$.\n",
    ">- Therefore, both $\\hat{g}_1$ and $\\hat{g}_2$ would have the same training and test $RSS$."
   ]
  },
  {
   "cell_type": "markdown",
   "metadata": {},
   "source": [
    "# Done!"
   ]
  }
 ],
 "metadata": {
  "kernelspec": {
   "display_name": "Python 3 (ipykernel)",
   "language": "python",
   "name": "python3"
  },
  "language_info": {
   "codemirror_mode": {
    "name": "ipython",
    "version": 3
   },
   "file_extension": ".py",
   "mimetype": "text/x-python",
   "name": "python",
   "nbconvert_exporter": "python",
   "pygments_lexer": "ipython3",
   "version": "3.8.11"
  }
 },
 "nbformat": 4,
 "nbformat_minor": 2
}
