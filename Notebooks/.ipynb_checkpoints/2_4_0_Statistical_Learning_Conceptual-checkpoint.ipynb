{
 "cells": [
  {
   "cell_type": "markdown",
   "metadata": {},
   "source": [
    "# Chapter 2: Statistical Learning\n",
    "By [**Mosta Ashour**](https://www.linkedin.com/in/mosta-ashour/)\n",
    "- **Chapter 2 from the book [An Introduction to Statistical Learning](https://www.statlearning.com/).**\n",
    "- **By Gareth James, Daniela Witten, Trevor Hastie and Rob Tibshirani.**\n",
    "- **Pages from $52$ to $54$**\n",
    "\n",
    "\n",
    "- **Exercises:**\n",
    " - **[1.](#1)**\n",
    " - **[2.](#2)**\n",
    " - **[3.](#3)**\n",
    " - **[4.](#4)**\n",
    " - **[5.](#5)**\n",
    " - **[6.](#6)**\n",
    " - **[7.](#7)**\n",
    "\n",
    "# <span style=\"font-family:cursive;color:#0071bb;\"> 2.4 Exercises </span>\n",
    "## <span style=\"font-family:cursive;color:#0071bb;\"> Conceptual </span>"
   ]
  },
  {
   "cell_type": "markdown",
   "metadata": {},
   "source": [
    "<a id='1'></a>\n",
    "### 1. For each of parts (a) through (d), indicate whether we would generally expect the performance of a flexible statistical learning method to be better or worse than an inflexible method. Justify your answer.\n",
    "\n",
    "**(a)** The sample size $n$ is extremely large, and the number of predictors $p$ is small.  \n",
    "  >**Flexible is better**: we have enough samples to avoid overfitting, so with a flexible method would perform better than an inflexible method.\n",
    "\n",
    "**(b)** The number of predictors $p$ is extremely large, and the number of observations $n$ is small.  \n",
    "  >**Flexible is worse**: we don't have enough samples to avoid overfitting, so a flexible approach would overfit the data.\n",
    "\n",
    "**(c)** The relationship between the predictors and response is highly non-linear.  \n",
    "  >**Flexible is better**: with more degrees of freedom, a flexible method would fit better a non-linear relationships\n",
    "\n",
    "**(d)** The variance of the error terms, i.e. $\\sigma^2 = Var(\\varepsilon)$, is extremely high. \n",
    "\n",
    "  >**Flexible is worse**: a flexible model will capture too much of the noise in the data due to the large variance of the errors."
   ]
  },
  {
   "cell_type": "markdown",
   "metadata": {},
   "source": [
    "<a id='2'></a>\n",
    "### 2. Explain whether each scenario is a classification or regression problem, and indicate whether we are most interested in inference or prediction. Finally, provide n and $p$.\n",
    "\n",
    "**(a)** We collect a set of data on the top 500 firms in the US. For each firm we record profit, number of employees, industry and the CEO salary. We are interested in understanding which factors affect CEO salary.  \n",
    "\n",
    ">regression, inference, $n = 500, p = 4$\n",
    "\n",
    "**(b)** We are considering launching a new product and wish to know whether it will be a success or a failure. We collect data on 20 similar products that were previously launched. For each product we have recorded whether it was a success or failure, price charged for the product, marketing budget, competition price, and ten other variables.  \n",
    "\n",
    ">classification, prediction, $n = 20, p = 13$\n",
    "\n",
    "**(c)** We are interested in predicting the % change in the USD/Euro exchange rate in relation to the weekly changes in the world stock markets. Hence we collect weekly data for all of 2012. For each week we record the % change in the USD/Euro, the % change in the US market, the % change in the British market, and the % change in the German market. \n",
    "\n",
    ">regression, prediction, $n = 364 / 7 = 52, p = 4$"
   ]
  },
  {
   "cell_type": "markdown",
   "metadata": {},
   "source": [
    "<a id='3'></a>\n",
    "### 3. We now revisit the bias-variance decomposition.\n",
    "\n",
    "**(a)** Provide a sketch of typical (squared) bias, variance, training error, test error, and Bayes (or irreducible) error curves, on a single plot, as we go from less flexible statistical learning methods towards more flexible approaches. The $x$-axis should represent the amount of flexibility in the method, and the $y$-axis should represent the values for each curve. There should be five curves. Make sure to label each one.\n",
    "\n",
    "![1.jpg](./img/2_4_3.jpg)"
   ]
  },
  {
   "cell_type": "markdown",
   "metadata": {},
   "source": [
    "**(b)** Explain why each of the five curves has the shape displayed in part (a).\n",
    "\n",
    "- **Bayes error**: the irreducible error which is a constant irrespective of model flexibility\n",
    "- **Training error**: decreases monotonically as flexibility increases, this is because as flexibility increase the f curve fits the data more which leads to (overfitting).\n",
    "- **Test error**: initially declines as flexibility increase at some point it increase again, this is because when $f(X)$ curve fits the data more it fits the noise in the dataset (overfitting).\n",
    "\n",
    "\n",
    "- **Variance & Bias**: \n",
    "  - As a general rule, as we use more flexible methods, the variance will increase and the bias will decrease.\n",
    "  - The relative rate of change of these two quantities determines whether the test MSE increases or decreases. \n",
    "  - As we increase the flexibility of a class of methods, the bias tends to initially decrease faster than the variance increases."
   ]
  },
  {
   "cell_type": "markdown",
   "metadata": {},
   "source": [
    "<a id='4'></a>\n",
    "### 4. You will now think of some real-life applications for statistical learning\n",
    "\n",
    "**(a)** Describe three real-life applications in which classification might be useful. Describe the response, as well as the predictors. Is the goal of each application inference or prediction? Explain your answer.  \n",
    "\n",
    "**1. Is this Email is a spam or not?**\n",
    " - response: boolean (is spam)\n",
    " - predictors: text (simple sequence of words)\n",
    " - goal: prediction\n",
    " \n",
    "**2. What is this sign? (American sign language)**\n",
    " - response: numbers, letters or words\n",
    " - predictors: image pixel values\n",
    " - goal: prediction\n",
    " \n",
    "**3. Does this patient have cancer?**\n",
    " - response: boolean (is faulty)\n",
    " - predictors: some lab tests.\n",
    " - goal: prediction"
   ]
  },
  {
   "cell_type": "markdown",
   "metadata": {},
   "source": [
    "**(b)** Describe three real-life applications in which regression might be useful. Describe the response, as well as the predictors. Is the goal of each application inference or prediction? Explain your answer.  \n",
    "\n",
    "**1. How much is this house worth?**\n",
    " - responce: SalePrice\n",
    " - predictors: LivingArea, BathroomCount, GarageCount, Neighbourhood, CrimeRate\n",
    " - goal: prediction\n",
    " \n",
    "**2. What attributes most affect the market cap. of a company?**\n",
    " - response: MarketCap\n",
    " - predictors: Sector, Employees, FounderIsCEO, Age, TotalInvestment, Profitability, RONA\n",
    " - goal: inference\n",
    " \n",
    "**3. How long is this dairy cow likely to live?**\n",
    " - response: years\n",
    " - predictors: past medical conditions, current weight, milk yield\n",
    " - goal: prediction"
   ]
  },
  {
   "cell_type": "markdown",
   "metadata": {},
   "source": [
    "**(c)** Describe three real-life applications in which cluster analysis might be useful.  \n",
    "\n",
    "**1. This dataset contains observations of 3 different species of flower. Estimate which observations belong to the same species.**\n",
    " - response: a, b, c (species class)\n",
    " - predictors: sepal length, petal length, number of petals\n",
    " - goal: prediction\n",
    " \n",
    "**2. which attributes of the flowers in dataset described above are most predictive of species?**\n",
    " - response: a, b, c (species class)\n",
    " - predictors: sepal length, petal length, number of petals\n",
    " - goal: inference\n",
    " \n",
    "**3. Group these audio recordings of birdsong by species.**\n",
    " - responce: (species classes)\n",
    " - predictors: audio sample values\n",
    " - goal: prediction\n"
   ]
  },
  {
   "cell_type": "markdown",
   "metadata": {},
   "source": [
    "<a id='5'></a>\n",
    "### 5. What are the advantages and disadvantages of a very flexible (versus a less flexible) approach for regression or classification?Under what circumstances might a more flexible approach be preferred to a less flexible approach? When might a less flexible approach be preferred?\n",
    "\n",
    "\n",
    "**`Very flexible`**\n",
    "- **Advantages:**\n",
    " - Gives better fit if observations contain non-linear relationships\n",
    " - If we are mainly interested in develop an algorithm is predict accurately Interpretability is not a concern. more flexible might be best to use.\n",
    "- **Disadvantages:**\n",
    " - Can overfit the data providing poor predictions for new observations\n",
    " - Requires estimating a greater number of parameters and can lead to a phenomenon known as overfitting the data\n",
    " \n",
    " \n",
    "**`Less flexible`**\n",
    "- **Advantages:**\n",
    " - Gives better results with few observations\n",
    " - If we are mainly interested in inference, then restrictive models are much more interpretable. since it will be quite easy to understand the relationship between $Y$ and $X$\n",
    " - Fewer parameters, faster optimization\n",
    "- **Disadvantages:**\n",
    " - Performs poorly if observations contain highly non-linear relationships"
   ]
  },
  {
   "cell_type": "markdown",
   "metadata": {},
   "source": [
    "<a id='6'></a>\n",
    "### 6. Describe the differences between a parametric and a non-parametric statistical learning approach. What are the advantages of a parametric approach to regression or classification (as opposed to a non-parametric approach)? What are its disadvantages?\n",
    "\n",
    "\n",
    "- **`Parametric methods:`** they greatly simplify the problem of estimating $f$ by making some assumptions about the functional form or shape of $f$.\n",
    " - **Advantages:** they simplify the problem of estimating $f(x)$ because it is generally much easier to estimate a set of parameters than an entirely arbitrary function $f$.\n",
    " - **Disadvantages:** the model we choose will usually not match the true unknown form of $f$.\n",
    " \n",
    "- **`Non-parametric methods:`** They don't make explicit assumptions about the function form of $f$. Instead they seek an estimate of $f$ that gets as close to the data points as possible without being too rough or wiggly.\n",
    " - **Advantages:** they have the potential to accurately fit a wider range of possible shapes of $f$.\n",
    " \n",
    " - **Disadvantages:** since they don't reduce the problem of estimating $f$ to a small number of parameters, a very large number of observations (far more than is typically needed for a parametric approach) is required in order to obtain an accurate estimate for $f$."
   ]
  },
  {
   "cell_type": "markdown",
   "metadata": {},
   "source": [
    "<a id='7'></a>\n",
    "### 7. The table below provides a training data set containing six observations, three predictors, and one qualitative response variable."
   ]
  },
  {
   "cell_type": "code",
   "execution_count": 1,
   "metadata": {},
   "outputs": [
    {
     "data": {
      "text/html": [
       "<div>\n",
       "<style scoped>\n",
       "    .dataframe tbody tr th:only-of-type {\n",
       "        vertical-align: middle;\n",
       "    }\n",
       "\n",
       "    .dataframe tbody tr th {\n",
       "        vertical-align: top;\n",
       "    }\n",
       "\n",
       "    .dataframe thead th {\n",
       "        text-align: right;\n",
       "    }\n",
       "</style>\n",
       "<table border=\"1\" class=\"dataframe\">\n",
       "  <thead>\n",
       "    <tr style=\"text-align: right;\">\n",
       "      <th></th>\n",
       "      <th>Obs.</th>\n",
       "      <th>X1</th>\n",
       "      <th>X2</th>\n",
       "      <th>X3</th>\n",
       "      <th>Y</th>\n",
       "    </tr>\n",
       "  </thead>\n",
       "  <tbody>\n",
       "    <tr>\n",
       "      <th>0</th>\n",
       "      <td>1</td>\n",
       "      <td>0</td>\n",
       "      <td>3</td>\n",
       "      <td>0</td>\n",
       "      <td>Red</td>\n",
       "    </tr>\n",
       "    <tr>\n",
       "      <th>1</th>\n",
       "      <td>2</td>\n",
       "      <td>2</td>\n",
       "      <td>0</td>\n",
       "      <td>0</td>\n",
       "      <td>Red</td>\n",
       "    </tr>\n",
       "    <tr>\n",
       "      <th>2</th>\n",
       "      <td>3</td>\n",
       "      <td>0</td>\n",
       "      <td>1</td>\n",
       "      <td>3</td>\n",
       "      <td>Red</td>\n",
       "    </tr>\n",
       "    <tr>\n",
       "      <th>3</th>\n",
       "      <td>4</td>\n",
       "      <td>0</td>\n",
       "      <td>1</td>\n",
       "      <td>2</td>\n",
       "      <td>Green</td>\n",
       "    </tr>\n",
       "    <tr>\n",
       "      <th>4</th>\n",
       "      <td>5</td>\n",
       "      <td>-1</td>\n",
       "      <td>0</td>\n",
       "      <td>1</td>\n",
       "      <td>Green</td>\n",
       "    </tr>\n",
       "    <tr>\n",
       "      <th>5</th>\n",
       "      <td>6</td>\n",
       "      <td>1</td>\n",
       "      <td>-1</td>\n",
       "      <td>1</td>\n",
       "      <td>Red</td>\n",
       "    </tr>\n",
       "  </tbody>\n",
       "</table>\n",
       "</div>"
      ],
      "text/plain": [
       "   Obs.  X1  X2  X3      Y\n",
       "0     1   0   3   0    Red\n",
       "1     2   2   0   0    Red\n",
       "2     3   0   1   3    Red\n",
       "3     4   0   1   2  Green\n",
       "4     5  -1   0   1  Green\n",
       "5     6   1  -1   1    Red"
      ]
     },
     "execution_count": 1,
     "metadata": {},
     "output_type": "execute_result"
    }
   ],
   "source": [
    "# import Numpy and Pandas libraries\n",
    "import numpy as np\n",
    "import pandas as pd\n",
    "\n",
    "# Create the table\n",
    "df = pd.DataFrame({'Obs.': [1, 2, 3, 4, 5, 6],\n",
    "                   'X1': [0, 2, 0, 0, -1, 1],\n",
    "                   'X2': [3, 0, 1, 1, 0, -1],\n",
    "                   'X3': [0, 0, 3, 2, 1, 1],\n",
    "                   'Y': ['Red', 'Red', 'Red', 'Green', 'Green', 'Red']})\n",
    "\n",
    "df"
   ]
  },
  {
   "cell_type": "markdown",
   "metadata": {},
   "source": [
    "Suppose we wish to use this data set to make a prediction for $Y$ when $X1 = X2 = X3 = 0$ using $K$-nearest neighbors.\n",
    "\n",
    "**(a)** Compute the **Euclidean distance** between each observation and the test point,$X1 =X2 = X3 = 0$. \n"
   ]
  },
  {
   "cell_type": "code",
   "execution_count": 2,
   "metadata": {},
   "outputs": [
    {
     "data": {
      "text/html": [
       "<div>\n",
       "<style scoped>\n",
       "    .dataframe tbody tr th:only-of-type {\n",
       "        vertical-align: middle;\n",
       "    }\n",
       "\n",
       "    .dataframe tbody tr th {\n",
       "        vertical-align: top;\n",
       "    }\n",
       "\n",
       "    .dataframe thead th {\n",
       "        text-align: right;\n",
       "    }\n",
       "</style>\n",
       "<table border=\"1\" class=\"dataframe\">\n",
       "  <thead>\n",
       "    <tr style=\"text-align: right;\">\n",
       "      <th></th>\n",
       "      <th>Obs.</th>\n",
       "      <th>X1</th>\n",
       "      <th>X2</th>\n",
       "      <th>X3</th>\n",
       "      <th>Y</th>\n",
       "      <th>Distance</th>\n",
       "    </tr>\n",
       "  </thead>\n",
       "  <tbody>\n",
       "    <tr>\n",
       "      <th>0</th>\n",
       "      <td>1</td>\n",
       "      <td>0</td>\n",
       "      <td>3</td>\n",
       "      <td>0</td>\n",
       "      <td>Red</td>\n",
       "      <td>3.000000</td>\n",
       "    </tr>\n",
       "    <tr>\n",
       "      <th>1</th>\n",
       "      <td>2</td>\n",
       "      <td>2</td>\n",
       "      <td>0</td>\n",
       "      <td>0</td>\n",
       "      <td>Red</td>\n",
       "      <td>2.000000</td>\n",
       "    </tr>\n",
       "    <tr>\n",
       "      <th>2</th>\n",
       "      <td>3</td>\n",
       "      <td>0</td>\n",
       "      <td>1</td>\n",
       "      <td>3</td>\n",
       "      <td>Red</td>\n",
       "      <td>3.162278</td>\n",
       "    </tr>\n",
       "    <tr>\n",
       "      <th>3</th>\n",
       "      <td>4</td>\n",
       "      <td>0</td>\n",
       "      <td>1</td>\n",
       "      <td>2</td>\n",
       "      <td>Green</td>\n",
       "      <td>2.236068</td>\n",
       "    </tr>\n",
       "    <tr>\n",
       "      <th>4</th>\n",
       "      <td>5</td>\n",
       "      <td>-1</td>\n",
       "      <td>0</td>\n",
       "      <td>1</td>\n",
       "      <td>Green</td>\n",
       "      <td>1.414214</td>\n",
       "    </tr>\n",
       "    <tr>\n",
       "      <th>5</th>\n",
       "      <td>6</td>\n",
       "      <td>1</td>\n",
       "      <td>-1</td>\n",
       "      <td>1</td>\n",
       "      <td>Red</td>\n",
       "      <td>1.732051</td>\n",
       "    </tr>\n",
       "  </tbody>\n",
       "</table>\n",
       "</div>"
      ],
      "text/plain": [
       "   Obs.  X1  X2  X3      Y  Distance\n",
       "0     1   0   3   0    Red  3.000000\n",
       "1     2   2   0   0    Red  2.000000\n",
       "2     3   0   1   3    Red  3.162278\n",
       "3     4   0   1   2  Green  2.236068\n",
       "4     5  -1   0   1  Green  1.414214\n",
       "5     6   1  -1   1    Red  1.732051"
      ]
     },
     "execution_count": 2,
     "metadata": {},
     "output_type": "execute_result"
    }
   ],
   "source": [
    "# Compute the Euclidean distance\n",
    "\n",
    "df['Distance'] = pd.array(np.linalg.norm(df[['X1', 'X2', 'X3']], axis=1))\n",
    "df"
   ]
  },
  {
   "cell_type": "markdown",
   "metadata": {},
   "source": [
    "**(b)** What is our prediction with K = 1? Why? "
   ]
  },
  {
   "cell_type": "code",
   "execution_count": 3,
   "metadata": {},
   "outputs": [
    {
     "data": {
      "text/html": [
       "<div>\n",
       "<style scoped>\n",
       "    .dataframe tbody tr th:only-of-type {\n",
       "        vertical-align: middle;\n",
       "    }\n",
       "\n",
       "    .dataframe tbody tr th {\n",
       "        vertical-align: top;\n",
       "    }\n",
       "\n",
       "    .dataframe thead th {\n",
       "        text-align: right;\n",
       "    }\n",
       "</style>\n",
       "<table border=\"1\" class=\"dataframe\">\n",
       "  <thead>\n",
       "    <tr style=\"text-align: right;\">\n",
       "      <th></th>\n",
       "      <th>Obs.</th>\n",
       "      <th>X1</th>\n",
       "      <th>X2</th>\n",
       "      <th>X3</th>\n",
       "      <th>Y</th>\n",
       "      <th>Distance</th>\n",
       "    </tr>\n",
       "  </thead>\n",
       "  <tbody>\n",
       "    <tr>\n",
       "      <th>4</th>\n",
       "      <td>5</td>\n",
       "      <td>-1</td>\n",
       "      <td>0</td>\n",
       "      <td>1</td>\n",
       "      <td>Green</td>\n",
       "      <td>1.414214</td>\n",
       "    </tr>\n",
       "  </tbody>\n",
       "</table>\n",
       "</div>"
      ],
      "text/plain": [
       "   Obs.  X1  X2  X3      Y  Distance\n",
       "4     5  -1   0   1  Green  1.414214"
      ]
     },
     "execution_count": 3,
     "metadata": {},
     "output_type": "execute_result"
    }
   ],
   "source": [
    "K = 1\n",
    "df.nsmallest(K, 'Distance')"
   ]
  },
  {
   "cell_type": "markdown",
   "metadata": {},
   "source": [
    "If $K=1$ then $x_5∈N_0$ as our test point is $0$ and we have\n",
    "$$P(Y=Red|X=x_0) = \\frac{1}{1} \\sum_{i∈N_0} I(y_i=Red) = I(y_5=Red)=0$$\n",
    "and\n",
    "$$P(Y=Green|X=x_0) = \\frac{1}{1} \\sum_{i∈N_0}I(y_i=Green) = I(y_5=Green)=1$$\n",
    "> - Our prediction is $Y=Green$ because that is the response value of the  first nearest neighbor to the point $X1 = X2 = X3 = 0$\n",
    "\n",
    "**(c)** What is our prediction with K = 3? Why?  "
   ]
  },
  {
   "cell_type": "code",
   "execution_count": 4,
   "metadata": {},
   "outputs": [
    {
     "data": {
      "text/html": [
       "<div>\n",
       "<style scoped>\n",
       "    .dataframe tbody tr th:only-of-type {\n",
       "        vertical-align: middle;\n",
       "    }\n",
       "\n",
       "    .dataframe tbody tr th {\n",
       "        vertical-align: top;\n",
       "    }\n",
       "\n",
       "    .dataframe thead th {\n",
       "        text-align: right;\n",
       "    }\n",
       "</style>\n",
       "<table border=\"1\" class=\"dataframe\">\n",
       "  <thead>\n",
       "    <tr style=\"text-align: right;\">\n",
       "      <th></th>\n",
       "      <th>Obs.</th>\n",
       "      <th>X1</th>\n",
       "      <th>X2</th>\n",
       "      <th>X3</th>\n",
       "      <th>Y</th>\n",
       "      <th>Distance</th>\n",
       "    </tr>\n",
       "  </thead>\n",
       "  <tbody>\n",
       "    <tr>\n",
       "      <th>4</th>\n",
       "      <td>5</td>\n",
       "      <td>-1</td>\n",
       "      <td>0</td>\n",
       "      <td>1</td>\n",
       "      <td>Green</td>\n",
       "      <td>1.414214</td>\n",
       "    </tr>\n",
       "    <tr>\n",
       "      <th>5</th>\n",
       "      <td>6</td>\n",
       "      <td>1</td>\n",
       "      <td>-1</td>\n",
       "      <td>1</td>\n",
       "      <td>Red</td>\n",
       "      <td>1.732051</td>\n",
       "    </tr>\n",
       "    <tr>\n",
       "      <th>1</th>\n",
       "      <td>2</td>\n",
       "      <td>2</td>\n",
       "      <td>0</td>\n",
       "      <td>0</td>\n",
       "      <td>Red</td>\n",
       "      <td>2.000000</td>\n",
       "    </tr>\n",
       "  </tbody>\n",
       "</table>\n",
       "</div>"
      ],
      "text/plain": [
       "   Obs.  X1  X2  X3      Y  Distance\n",
       "4     5  -1   0   1  Green  1.414214\n",
       "5     6   1  -1   1    Red  1.732051\n",
       "1     2   2   0   0    Red  2.000000"
      ]
     },
     "execution_count": 4,
     "metadata": {},
     "output_type": "execute_result"
    }
   ],
   "source": [
    "K = 3\n",
    "df.nsmallest(K, 'Distance')"
   ]
  },
  {
   "cell_type": "markdown",
   "metadata": {
    "scrolled": true
   },
   "source": [
    "If $K=3$ then $x_2, x_5 , x_6 ∈N_0$ as our test point is $0$ and we have\n",
    "$$P(Y=Red|X=x_0) = \\frac{1}{3} \\sum_{i∈N_0} I(y_i=Red) = \\frac{1}{3}(1+0+1)=\\frac{2}{3}=0.67$$\n",
    "and\n",
    "$$P(Y=green|X=x_0) = \\frac{1}{3} \\sum_{i∈N_0} I(y_i=green) = \\frac{1}{3}(0+1+0)=\\frac{1}{3}=0.33$$\n",
    "\n",
    "> - Our prediction is $Y = Red$, because it is **66%** of the 3 nearest neighbors are Red."
   ]
  },
  {
   "cell_type": "markdown",
   "metadata": {},
   "source": [
    "**(d)** If the Bayes decision boundary in this problem is highly non-linear, then would we expect the best value for K to be large or small? Why?  \n",
    "\n",
    ">- **`The best value for $K$ would be Small`**.\n",
    ">- As $K$ becomes **larger**, the boundary becomes **inflexible** (linear). .A **smaller** value of $K$ results in a more **flexible** classification model.\n",
    ">- So in this case we would expect the best value for K to be small because the prediction is based upon a smaller subset of all observations in the dataset."
   ]
  },
  {
   "cell_type": "markdown",
   "metadata": {},
   "source": [
    "## Done!"
   ]
  }
 ],
 "metadata": {
  "kernelspec": {
   "display_name": "Python 3 (ipykernel)",
   "language": "python",
   "name": "python3"
  },
  "language_info": {
   "codemirror_mode": {
    "name": "ipython",
    "version": 3
   },
   "file_extension": ".py",
   "mimetype": "text/x-python",
   "name": "python",
   "nbconvert_exporter": "python",
   "pygments_lexer": "ipython3",
   "version": "3.8.11"
  }
 },
 "nbformat": 4,
 "nbformat_minor": 2
}
