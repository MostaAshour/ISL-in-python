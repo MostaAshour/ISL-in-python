{
 "cells": [
  {
   "cell_type": "markdown",
   "metadata": {},
   "source": [
    "# Chapter 6: Linear Model Selection and Regularization\n",
    "- **Chapter 6 from the book [An Introduction to Statistical Learning](https://www.statlearning.com/).**\n",
    "- **By Gareth James, Daniela Witten, Trevor Hastie and Rob Tibshirani.**\n",
    "- **Pages from $259$ to $262$**\n",
    "- **By [Mosta Ashour](https://www.linkedin.com/in/mosta-ashour/)**\n",
    "\n",
    "\n",
    "**Exercises:**\n",
    "- **[1.](#1) [(a)](#1a) [(b)](#1b) [(c)](#1c)**\n",
    "- **[2.](#2) [(a)](#2a) [(b)](#2b) [(c)](#2c)**\n",
    "- **[3.](#3) [(a)](#3a) [(b)](#3b) [(c)](#3c) [(d)](#3d) [(e)](#3e)**\n",
    "- **[4.](#4) [(a)](#4a) [(b)](#4b) [(c)](#4c) [(d)](#4d) [(e)](#4e)**\n",
    "- **[5.](#5) [(a)](#5a) [(b)](#5b) [(c)](#5c) [(d)](#5d)**\n",
    "- **[6.](#6) [(a)](#6a) [(b)](#6b)**\n",
    "- **[7.](#7) [(a)](#7a) [(b)](#7b) [(c)](#7c) [(d)](#7d) [(e)](#7e)**\n",
    "\n",
    "# <span style=\"font-family:cursive;color:#0071bb;\"> 6.8 Exercises </span>\n",
    "## <span style=\"font-family:cursive;color:#0071bb;\"> Conceptual </span>"
   ]
  },
  {
   "cell_type": "markdown",
   "metadata": {},
   "source": [
    "<a id='1'></a>\n",
    "### $1.$ We perform best subset, forward stepwise, and backward stepwise selection on a single data set. For each approach, we obtain $p + 1$ models, containing $0, 1, 2, \\dots , p$ predictors. Explain your answers:\n",
    "\n",
    "\n",
    "<a id='1a'></a>\n",
    "**$(a)$ Which of the three models with $k$ predictors has the smallest training $\\text{RSS}$?**\n",
    "\n",
    ">**Answer:**\n",
    ">- **Best subset selection** will produce the smallest training $\\text{RSS}$ because all possible combinations of predictors are considered for a given $k$. \n",
    ">- It is **possible** that the most effective model is also found by forward stepwise or backward stepwise, but **not possible** that they will find a model more effective than best subset, as the forward stepwise and backward stepwise methods determine models with a path depending on which predictors they pick first."
   ]
  },
  {
   "cell_type": "markdown",
   "metadata": {},
   "source": [
    "<a id='1b'></a>\n",
    "**$(b)$ Which of the three models with $k$ predictors has the smallest test $\\text{RSS}$?**\n",
    "\n",
    ">**Answer:**\n",
    ">- **Best subset selection** may provide the smallest test $\\text{RSS}$.\n",
    ">- It is entirely possible for forward stepwise or backward stepwise selection to provide the most effective model."
   ]
  },
  {
   "cell_type": "markdown",
   "metadata": {},
   "source": [
    "<a id='1c'></a>\n",
    "**$(c)$ True or False:**\n",
    "\n",
    "**$i.$ The predictors in the $k$-variable model identified by forward stepwise are a subset of the predictors in the (k+1)-variable model identified by forward stepwise selection.**\n",
    "\n",
    "> **True.**\n",
    "\n",
    "**$ii.$ The predictors in the $k$-variable model identified by backward stepwise are a subset of the predictors in the $(k+1)$-variable model identified by backward stepwise selection.**\n",
    "\n",
    "> **True.**\n",
    "\n",
    "**$iii.$ The predictors in the $k$-variable model identified by backward stepwise are a subset of the predictors in the $(k+1)$-variable model identified by forward stepwise selection.**\n",
    "\n",
    "> **False.**\n",
    "> Forwards and backwards stepwise selections have different starting points (the null model and the full model) and will take different selection paths. The statement could be true for specific examples, but it is not generally true.\n",
    "\n",
    "**$iv.$ The predictors in the $k$-variable model identified by forward stepwise are a subset of the predictors in the $(k+1)$-variable model identified by backward stepwise selection.**\n",
    "\n",
    "> **False.** (Same as in $iii.$)\n",
    "\n",
    "**$v.$ The predictors in the $k$-variable model identified by best subset are a subset of the predictors in the $(k+1)$-variable model identified by best subset selection.**\n",
    "\n",
    "> **False.**"
   ]
  },
  {
   "cell_type": "markdown",
   "metadata": {},
   "source": [
    "<a id='2'></a>\n",
    "### 2. For parts $(a)$ through $(c)$, indicate which of $i.$ through $iv.$ is correct. Justify your answer.\n",
    "\n",
    "<a id='2a'></a>\n",
    "**$(a)$ The lasso, relative to least squares, is:**\n",
    "\n",
    "**$i.$ More flexible and hence will give improved prediction accuracy when its increase in bias is less than its decrease in variance.**\n",
    "\n",
    "> **Incorrect.** \n",
    "\n",
    "**$ii.$ More flexible and hence will give improved prediction accuracy when its increase in variance is less than its decrease in bias.**\n",
    "\n",
    "> **Incorrect.**\n",
    "\n",
    "**$iii.$ Less flexible and hence will give improved prediction accuracy when its increase in bias is less than its decrease in variance.**\n",
    "\n",
    "> **Correct.** Least squares uses all features, whereas lasso will either use all features or set coefficients to zero for some features, thus lasso is less flexible. As $\\lambda$ increase, the variance of the model will decrease quickly at the cost of a small increase in bias resulting in improved test $\\text{MSE}$. \n",
    "\n",
    "**$iv.$ Less flexible and hence will give improved prediction accuracy when its increase in variance is less than its decrease in bias.**\n",
    "\n",
    "> **Incorrect.**"
   ]
  },
  {
   "cell_type": "markdown",
   "metadata": {},
   "source": [
    "<a id='2b'></a>\n",
    "**$(b)$ Repeat (a) for ridge regression relative to least squares.**\n",
    "\n",
    "**$i.$ More flexible and hence will give improved prediction accuracy when its increase in bias is less than its decrease in variance.**\n",
    "\n",
    "> **Incorrect.** (Same as for lasso)\n",
    "\n",
    "**$ii.$ More flexible and hence will give improved prediction accuracy when its increase in variance is less than its decrease in bias.**\n",
    "\n",
    "> **Incorrect.** (Same as for lasso)\n",
    "\n",
    "**$iii.$ Less flexible and hence will give improved prediction accuracy when its increase in bias is less than its decrease in variance.**\n",
    "\n",
    "> **Correct.** (Same as for lasso)\n",
    "\n",
    "**$iv.$ Less flexible and hence will give improved prediction accuracy when its increase in variance is less than its decrease in bias.**\n",
    "\n",
    "> **Incorrect**. (Same as for lasso)"
   ]
  },
  {
   "cell_type": "markdown",
   "metadata": {},
   "source": [
    "<a id='2c'></a>\n",
    "**$(c)$ Repeat (a) for non-linear methods relative to least squares.**\n",
    "\n",
    "**$i.$ More flexible and hence will give improved prediction accuracy when its increase in bias is less than its decrease in variance.**\n",
    "\n",
    "> **Incorrect.**\n",
    "\n",
    "**$ii.$ More flexible and hence will give improved prediction accuracy when its increase in variance is less than its decrease in bias.**\n",
    "\n",
    "> **Correct.** Non-linear methods are more flexible than least squares. \n",
    "> Non-linear methods will lead the model to overfit the data at which point increase increased variance will begin to outweigh any further reduction in bias.\n",
    "\n",
    "**$iii.$ Less flexible and hence will give improved prediction accuracy when its increase in bias is less than its decrease in variance.**\n",
    "\n",
    "> **Incorrect.**\n",
    "\n",
    "**$iv.$ Less flexible and hence will give improved prediction accuracy when its increase in variance is less than its decrease in bias.**\n",
    "\n",
    "> **Incorrect.**"
   ]
  },
  {
   "cell_type": "markdown",
   "metadata": {},
   "source": [
    "<a id='3'></a>\n",
    "### 3. Suppose we estimate the regression coefficients in a linear regression model by minimizing\n",
    "\n",
    "$$\n",
    "\\sum^n_{i=1} \\Bigg( y_i - \\beta_0 - \\sum^p_{j=1} \\beta_j x_{ij} \\Bigg)^2 \\\n",
    "\\text{subject to} \\\n",
    "\\sum_{j=1}^p | \\beta_j | \\leq s\n",
    "$$\n",
    "\n",
    "### for a particular value of $s$. For parts $(a)$ through $(e)$, indicate which of $i.$ through $v.$ is correct. Justify your answer.\n",
    "\n",
    "\n",
    "<a id='3a'></a>\n",
    "**$(a)$ As we increase $s$ from $0$, the training $\\text{RSS}$ will:**\n",
    "\n",
    "- **$i.$ Increase initially, and then eventually start decreasing in an inverted U shape.**\n",
    "- **$ii.$ Decrease initially, and then eventually start increasing in a U shape.**\n",
    "- **$iii.$ Steadily increase.**\n",
    "- **$iv.$ Steadily decrease.**\n",
    "- **$v.$ Remain constant.**\n",
    "\n",
    "> **Answer:**\n",
    ">- **$iv.$ Steadily decrease.**\n",
    ">- As we increase $s$ we increase the models flexibility, thus will lead to overfit the training dataset with steadily decrease in the training $\\text{RSS}$ error."
   ]
  },
  {
   "cell_type": "markdown",
   "metadata": {},
   "source": [
    "<a id='3b'></a>\n",
    "**$(b)$ Repeat (a) for test $\\text{RSS}$.**\n",
    "\n",
    "> **Answer:**\n",
    ">- **$ii.$ Decrease initially, and then eventually start increasing in a U shape.**\n",
    ">- The increase in the model flexibility leads to improves our model performance in the test set up to some point where our model starts to overfit the data."
   ]
  },
  {
   "cell_type": "markdown",
   "metadata": {},
   "source": [
    "<a id='3c'></a>\n",
    "**$(c)$ Repeat $(a)$ for variance.**\n",
    "\n",
    "> **Answer:**\n",
    ">- **$iii.$ Steadily increase.**\n",
    ">- When the constraint region increasing in size, $\\lambda$ tend to decrease, so the model flexibility increases.\n",
    ">- Thus as the model flexibility increases, the variance steadily increase. \n",
    ">- When $s$ is sufficiently large, $\\hat{\\beta}$ falls within the constraint region, and the variance will not longer increase, because the $\\hat{\\beta}$ chosen will always be the least squares estimate."
   ]
  },
  {
   "cell_type": "markdown",
   "metadata": {},
   "source": [
    "<a id='3d'></a>\n",
    "**$(d)$ Repeat $(a)$ for (squared) bias.**\n",
    "> **Answer:**\n",
    ">- **$iv.$ Steadily decrease.**\n",
    ">- As the model flexibility increases, the bais will steadily decrease."
   ]
  },
  {
   "cell_type": "markdown",
   "metadata": {},
   "source": [
    "<a id='3e'></a>\n",
    "**$(e)$ Repeat $(a)$ for the irreducible error.**\n",
    "\n",
    "> **Answer:**\n",
    ">- **$v.$ Remain constant.**\n",
    ">- The irreducible errors is an error that we cannot reduce by choosing a better model. it is due to randomness or natural variability in a system, thus it remains constant regardless of the model flexibility."
   ]
  },
  {
   "cell_type": "markdown",
   "metadata": {},
   "source": [
    "<a id='4'></a>\n",
    "### $4.$ Suppose we estimate the regression coefficients in a linear regression model by minimizing\n",
    "\n",
    "$$\n",
    "\\sum_{i=1}^n \\Bigg( y_i - \\beta_0 - \\sum_{j=1}^p \\beta_j x_{ij} \\Bigg)^2 + \\\n",
    "\\lambda \\sum_{j=1}^p \\beta_j^2\n",
    "$$\n",
    "\n",
    "### for a particular value of $\\lambda$. For parts $(a)$ through $(e)$, indicate which of $i.$ through $v.$ is correct. Justify your answer.\n",
    "\n",
    "\n",
    "<a id='4a'></a>\n",
    "**$(a)$ As we increase $\\lambda$ from 0, the training $\\text{RSS}$ will:**\n",
    "\n",
    "> **Answer:**\n",
    ">- **$iii.$ Steadily increase.**\n",
    ">- The tuning parameter $\\lambda$ serves to control the relative impact on the regression coefficient estimates.\n",
    ">- When $\\lambda$ = 0, the penalty term has no effect, and ridge regression will produce the least squares estimates.\n",
    ">- However, as $\\lambda \\to \\infty$, the impact of the shrinkage penalty grows, thus the training $\\text{RSS}$ will steadily increase."
   ]
  },
  {
   "cell_type": "markdown",
   "metadata": {},
   "source": [
    "<a id='4b'></a>\n",
    "**$(b)$ Repeat $(a)$ for test $\\text{RSS}$.**\n",
    "\n",
    "> **Answer:**\n",
    ">- **$ii.$ Decrease initially, and then eventually start increasing in a U shape.**\n",
    ">- When $\\lambda = 0$, the variance is high but there is no bias. \n",
    ">- But as $\\lambda$ increases, the shrinkage of the ridge coefficient estimates leads to a substantial reduction in the variance of the predictions, at the expense of a slight increase in bias.\n",
    ">- At some point the test $\\text{RSS}$ will start to increasing again."
   ]
  },
  {
   "cell_type": "markdown",
   "metadata": {},
   "source": [
    "<a id='4c'></a>\n",
    "**$(c)$ Repeat $(a)$ for variance.**\n",
    "\n",
    "> **Answer:**\n",
    ">- **$iv.$ Steadily decrease.**\n",
    ">- When $\\lambda = 0$, the variance is high but there is no bias. \n",
    ">- But as $\\lambda$ increases, the shrinkage of the ridge coefficient estimates leads to a substantial reduction in the variance of the predictions."
   ]
  },
  {
   "cell_type": "markdown",
   "metadata": {},
   "source": [
    "<a id='4d'></a>\n",
    "**$(d)$ Repeat $(a)$ for (squared) bias.**\n",
    "\n",
    "> **Answer:**\n",
    ">- **$iii.$ Steadily increase.**\n",
    ">- When $\\lambda = 0$, the variance is high but there is no bias. \n",
    ">- But as $\\lambda$ increases, the shrinkage of the ridge coefficient estimates leads to a slight increase in bias."
   ]
  },
  {
   "cell_type": "markdown",
   "metadata": {},
   "source": [
    "<a id='4e'></a>\n",
    "**$(e)$ Repeat $(a)$ for the irreducible error.**\n",
    "\n",
    "> **Answer:**\n",
    ">- **$v.$ Remain constant.**\n",
    ">-  Irreducible error remains constant regardless of the model flexibility."
   ]
  },
  {
   "cell_type": "markdown",
   "metadata": {},
   "source": [
    "<a id='5'></a>\n",
    "### $5.$ It is well-known that ridge regression tends to give similar coefficient values to correlated variables, whereas the lasso may give quite different coefficient values to correlated variables. We will now explore this property in a very simple setting.\n",
    "\n",
    "### Suppose that $n = 2, p = 2, x_{11} = x_{12}, x_{21} = x_{22}$. Furthermore, suppose that $y_1+y_2 =0$ and $x_{11}+x_{21} =0$ and $x_{12}+x_{22} =0$, so that the estimate for the intercept in a least squares, ridge regression, or lasso model is zero: $\\hat{\\beta}_0 = 0$."
   ]
  },
  {
   "cell_type": "markdown",
   "metadata": {},
   "source": [
    "<a id='5a'></a>\n",
    "**$(a)$ Write out the ridge regression optimization problem in this setting.**\n",
    " \n",
    "**Answer:**\n",
    "- the regression ridge regression coefficient estimates $\\hat{\\beta}^R$ are the values that minimize\n",
    "\n",
    "$$\n",
    "\\sum_{i=1}^n \\Bigg( y_i - \\beta_0 - \\sum_{j=1}^p \\beta_j x_{ij} \\Bigg)^2 + \\\n",
    "\\lambda \\sum_{j=1}^p \\beta_j^2\n",
    "$$\n",
    "\n",
    "- $\\text{With } \\hat{\\beta}_0 = 0$:\n",
    "\n",
    "$$\n",
    "\\sum_{i=1}^n \\Bigg( y_i - \\sum_{j=1}^p \\beta_j x_{ij} \\Bigg)^2 + \\\n",
    "\\lambda \\sum_{j=1}^p \\beta_j^2\n",
    "$$\n",
    "\n",
    "$\\text{With } y_1 + y_2 = 0$:\n",
    "\n",
    "$$\n",
    "\\sum_{i=1}^n \\Bigg( - \\sum_{j=1}^p \\beta_j x_{ij} \\Bigg)^2 + \\\n",
    "\\lambda \\sum_{j=1}^p \\beta_j^2\n",
    "$$\n",
    "\n",
    "$\\text{With } x_{i1} = x_{i2}$:\n",
    "\n",
    "$$\n",
    "\\sum_{i=1}^n \\Bigg( - \\beta_1 x_{i1} - \\beta_2 x_{i1}\\Bigg)^2 + \\\n",
    "\\lambda (\\beta_1^2 + \\beta_2^2)\n",
    "$$\n",
    "\n",
    "$$\n",
    "\\sum_{i=1}^n \\Bigg(  \\beta_1^2 x_{i1}^2 + \\beta_2^2 x_{i1}^2 + 2 \\beta_1 \\beta_2 x_{i1}^2  \\Bigg) + \\\n",
    "\\lambda (\\beta_1^2 + \\beta_2^2)\n",
    "$$\n",
    "\n",
    "$$\n",
    "\\bigg(\\sum_{i=1}^n x_{i1}^2 \\bigg) \\bigg(  \\beta_1^2 + \\beta_2^2 + 2 \\beta_1 \\beta_2  \\bigg) + \\\n",
    "\\lambda (\\beta_1^2 + \\beta_2^2)\n",
    "$$\n",
    "\n",
    "$\\text{With } x_{i1} + x_{i1} = 0$:\n",
    "\n",
    "$$\n",
    "\\big( \\beta_1^2 + \\beta_2^2 + 2 \\beta_1 \\beta_2 \\big) + \\\n",
    "\\lambda (\\beta_1^2 + \\beta_2^2)\n",
    "$$\n",
    "\n",
    "$$\n",
    "= \\beta_1^2 + \\beta_2^2 + 2 \\beta_1 \\beta_2 + \\\n",
    "\\lambda\\beta_1^2 + \\lambda\\beta_2^2\n",
    "$$"
   ]
  },
  {
   "cell_type": "markdown",
   "metadata": {},
   "source": [
    "<a id='5b'></a>\n",
    "**$(b)$ Argue that in this setting, the ridge coefficient estimates satisfy $\\hat{\\beta}_1 = \\hat{\\beta}_2$.**\n",
    "\n",
    "**Answer:**\n",
    "- By minimizing the previous cost function for $\\beta_1$ and $\\beta_2$:\n",
    "- For $\\hat{\\beta_1}$:\n",
    "\n",
    "$$2\\lambda\\beta_1 + 2\\beta_1 + 2\\beta_2\\ = 0$$\n",
    "$$\\lambda\\beta_1 + \\beta_1 + \\beta_2 = 0$$\n",
    "\n",
    "- for $\\hat{\\beta_2}$: \n",
    "\n",
    "$$2\\lambda\\beta_2 + 2\\beta_2 + 2\\beta_1\\ = 0$$\n",
    "$$\\lambda\\beta_2 + \\beta_2 + \\beta_1 = 0$$\n",
    "\n",
    "**So:**\n",
    "\n",
    "$$\\lambda\\beta_1 + \\beta_1 + \\beta_2 = \\lambda\\beta_2 + \\beta_2 + \\beta_1$$\n",
    "$$\\lambda\\beta_1 = \\lambda\\beta_2$$\n",
    "$$\\beta_1 = \\beta_2$$\n",
    "\n",
    "**Thus, $\\hat{\\beta_1} = \\hat{\\beta_2}$**"
   ]
  },
  {
   "cell_type": "markdown",
   "metadata": {},
   "source": [
    "<a id='5c'></a>\n",
    "**$(c)$ Write out the lasso optimization problem in this setting.**\n",
    "\n",
    "**Answer:**\n",
    "- From the form in $(a)$, the lasso optimization will be as following:\n",
    "\n",
    "$$\n",
    "\\text{RSS} + \\lambda\\sum_{j=1}^p |\\beta_j| = \\\n",
    "\\beta_1^2 + \\beta_2^2 + 2 \\beta_1 \\beta_2 + \\\n",
    "\\lambda|\\beta_1| + \\lambda|\\beta_2|\n",
    "$$"
   ]
  },
  {
   "cell_type": "markdown",
   "metadata": {},
   "source": [
    "<a id='5d'></a>\n",
    "**$(d)$ Argue that in this setting, the lasso coefficients $\\beta_1$ and $\\beta_2$ are not unique--in other words, there are many possible solutions to the optimization problem in $(c)$. Describe these solutions.**\n",
    "\n",
    "**Answer:**\n",
    "\n",
    ">- Here is a geometric interpretation of the solutions for the equation in c above. We use the alternate form of Lasso constraints $| \\hat{\\beta}_1 | + | \\hat{\\beta}_2 | < s$.\n",
    ">- The Lasso constraint take the form $| \\hat{\\beta}1 | + | \\hat{\\beta}2 | < s$, which when plotted take the familiar shape of a diamond centered at origin $(0, 0)$. Next consider the squared optimization constraint $(y_1 - \\hat{\\beta}1x{11} - \\hat{\\beta}2x{12})^2 + (y_2 - \\hat{\\beta}1x{21} - \\hat{\\beta}2x{22})^2$. We use the facts $x{11} = x{12}$, $x_{21} = x_{22}$, $x_{11} + x_{21} = 0$, $x_{12} + x_{22} = 0$ and $y_1 + y_2 = 0$ to simplify it to\n",
    ">- Minimize: $2.(y_1 - (\\hat{\\beta}_1 + \\hat{\\beta}2)x{11})^2$.\n",
    ">- This optimization problem has a simple solution: $\\hat{\\beta}_1 + \\hat{\\beta}2 = \\frac{y_1}{x{11}}$. This is a line parallel to the edge of Lasso-diamond $\\hat{\\beta}_1 + \\hat{\\beta}_2 = s$. Now solutions to the original Lasso optimization problem are contours of the function $(y_1 - (\\hat{\\beta}_1 + \\hat{\\beta}2)x{11})^2$ that touch the Lasso-diamond $\\hat{\\beta}_1 + \\hat{\\beta}_2 = s$. Finally, as $\\hat{\\beta}_1$ and $\\hat{\\beta}_2$ very along the line $\\hat{\\beta}_1 + \\hat{\\beta}2 = \\frac{y_1}{x{11}}$, these contours touch the Lasso-diamond edge $\\hat{\\beta}_1 + \\hat{\\beta}_2 = s$ at different points. As a result, the entire edge $\\hat{\\beta}_1 + \\hat{\\beta}_2 = s$ is a potential solution to the Lasso optimization problem!\n",
    ">- Similar argument can be made for the opposite Lasso-diamond edge: $\\hat{\\beta}_1 + \\hat{\\beta}_2 = -s$.\n",
    ">- Thus, the Lasso problem does not have a unique solution. The general form of solution is given by two line segments:\n",
    ">- $\\hat{\\beta}_1 + \\hat{\\beta}_2 = s;$\\\n",
    ">- $\\hat{\\beta}_1 \\geq 0;$\\\n",
    ">- $\\hat{\\beta}_2 \\geq 0$\\\n",
    ">- and $\\hat{\\beta}_1 + \\hat{\\beta}_2 = -s;$\\\n",
    ">- $\\hat{\\beta}_1 \\leq 0; \\hat{\\beta}_2 \\leq 0$\n",
    "\n",
    ">- And by minimizing the previous cost function for $\\beta_1$ and $\\beta_2$:\n",
    "$$\n",
    "\\frac{\\partial j}{\\partial \\beta_1} = \\\n",
    "2\\beta_1 + 2\\beta_2 + \\lambda = 0 \\\n",
    "\\\\\n",
    "\\frac{\\partial j}{\\partial \\beta_2} = \\\n",
    "2\\beta_1 + 2\\beta_2 + \\lambda = 0 \\tag{equivalence}\n",
    "$$"
   ]
  },
  {
   "cell_type": "markdown",
   "metadata": {},
   "source": [
    "<a id='6'></a>\n",
    "### $6.$ We will now explore $(6.12)$ and $(6.13)$ further.\n",
    "\n",
    "<a id='6a'></a>\n",
    "**$(a)$ Consider $(6.12)$ with $p = 1$. For some choice of $y_1$ and $\\lambda > 0$, plot $(6.12)$ as a function of $\\beta_1$. Your plot should confirm that (6.12) is solved by $(6.14)$.**"
   ]
  },
  {
   "cell_type": "code",
   "execution_count": 1,
   "metadata": {},
   "outputs": [
    {
     "data": {
      "image/png": "[encoded data removed]",
      "text/plain": [
       "<Figure size 720x432 with 1 Axes>"
      ]
     },
     "metadata": {
      "needs_background": "light"
     },
     "output_type": "display_data"
    }
   ],
   "source": [
    "import numpy as np\n",
    "import matplotlib.pyplot as plt\n",
    "import seaborn as sns\n",
    "\n",
    "y = 6\n",
    "lambd  = 1\n",
    "beta_1 = np.array(np.arange(-10, 10, 0.25))\n",
    "func   = (y - beta_1)**2 + lambd * (beta_1**2)\n",
    "betaR  = y/(1+lambd)\n",
    "\n",
    "plt.figure(figsize=(10,6))\n",
    "plt.scatter(x=beta_1, y=func)\n",
    "plt.axvline(x=betaR, color='r')\n",
    "plt.xlabel('beta_1')\n",
    "plt.ylabel('Ridge optimization');"
   ]
  },
  {
   "cell_type": "markdown",
   "metadata": {},
   "source": [
    ">- The red line shows that function is indeed minimized at $\\beta = y / (1 + \\lambda)$."
   ]
  },
  {
   "cell_type": "markdown",
   "metadata": {},
   "source": [
    "<a id='6b'></a>\n",
    "**$(b)$ Consider $(6.13)$ with $p = 1$. For some choice of $y_1$ and $\\lambda > 0$, plot $(6.13)$ as a function of $\\beta_1$. Your plot should confirm that $(6.13)$ is solved by $(6.15)$.**"
   ]
  },
  {
   "cell_type": "code",
   "execution_count": 2,
   "metadata": {},
   "outputs": [
    {
     "name": "stdout",
     "output_type": "stream",
     "text": [
      "y_1 > lambda/2\n"
     ]
    },
    {
     "data": {
      "image/png": "[encoded data removed]",
      "text/plain": [
       "<Figure size 720x432 with 1 Axes>"
      ]
     },
     "metadata": {
      "needs_background": "light"
     },
     "output_type": "display_data"
    }
   ],
   "source": [
    "def lasso(y1, β1, λ):\n",
    "    return (y1 - β1)**2 + lambd * (np.absolute(beta_1))\n",
    "\n",
    "y_1 = 3\n",
    "lambd  = 2\n",
    "beta_1 = np.array(np.arange(-5, 5, 0.15))\n",
    "func   = (y_1 - beta_1)**2 + lambd * (np.absolute(beta_1))\n",
    "\n",
    "if y_1 > lambd/2:\n",
    "    print('y_1 > lambda/2')\n",
    "    beta_L = y_1 - lambd/2\n",
    "\n",
    "if y_1 < -lambd/2:\n",
    "    print('y_1 < -lambda/2')\n",
    "    beta_L = y_1 + lambd/2\n",
    "\n",
    "if np.absolute(y_1) <= lambd/2:\n",
    "    print('np.absolute(y1) <= lambda/2')\n",
    "    beta_L = 0\n",
    "\n",
    "plt.figure(figsize=(10,6))\n",
    "plt.scatter(x=beta_1, y=func)\n",
    "plt.axvline(x=beta_L, color='r')\n",
    "plt.xlabel('beta_1')\n",
    "plt.ylabel('Lasso optimization');"
   ]
  },
  {
   "cell_type": "markdown",
   "metadata": {},
   "source": [
    ">- The red line shows that function is indeed minimized at $\\beta = y - \\lambda / 2$."
   ]
  },
  {
   "cell_type": "markdown",
   "metadata": {},
   "source": [
    "<a id='7'></a>\n",
    "### $7.$ We will now derive the Bayesian connection to the lasso and ridge regression discussed in Section $6.2.2$.\n",
    "\n",
    "### $\\color{red}{\\text{Note: }}$ This exercise is marked as being particularly hard by the authors, and I couldn't do it by myself. [Here](https://github.com/asadoughi/stat-learning/blob/master/ch6/7.md) is a great solution provided by *Amir Sadoughi and josh Davis*.\n",
    "\n",
    "<a id='7a'></a>\n",
    "### (Copied)\n",
    "**$(a)$ Suppose that $y_i = \\beta_0 + \\sum_{j=1}^p x_{ij} \\beta_j+\\epsilon_i$ where $\\epsilon_1, . . . , \\epsilon _n$ are independent and identically distributed from a $N(0, \\sigma^2)$ distribution. Write out the likelihood for the data.**\n",
    "\n",
    "**Answer:**\\\n",
    "The likelihood for the data is:\n",
    "\n",
    "$$ \\begin{aligned} L(\\theta \\mid \\beta) &= p(\\beta \\mid \\theta) \\\\ \n",
    "&= p(\\beta_1 \\mid \\theta) \\times \\cdots \\times p(\\beta_n \\mid \\theta) \\\\\n",
    "&= \\prod_{i = 1}^{n} p(\\beta_i \\mid \\theta) \\\\ \n",
    "&= \\prod_{i = 1}^{n} \\frac{ 1 }{ \\sigma \\sqrt{2\\pi} } \\exp \\left(- \\frac{ Y_i - (\\beta_0 + \\sum_{j = 1}^{p} \\beta_j X_{ij}) }{ 2\\sigma^2 } \\right) \\\\ \n",
    "&= \\left( \\frac{ 1 }{ \\sigma \\sqrt{2\\pi} } \\right)^n \\exp \\left( - \\frac{ 1 }{ 2\\sigma^2 } \\sum_{i = 1}^{n} \\left[ Y_i - (\\beta_0 + \\sum_{j = 1}^{p} \\beta_j X_{ij}) \\right]^2 \\right) \\end{aligned} $$"
   ]
  },
  {
   "cell_type": "markdown",
   "metadata": {},
   "source": [
    "<a id='7b'></a>\n",
    "**$(b)$ Assume the following prior for $\\beta: \\beta_1, . . . , \\beta_p$ are independent and identically distributed according to a double-exponential distribution with mean 0 and common scale parameter $b$: i.e. $p(\\beta) = \\frac{1}{2b} exp(-|\\beta|/b)$. Write out the posterior for \\beta in this setting.**\n",
    "\n",
    "**Answer:**\\\n",
    "The posterior with double exponential (Laplace Distribution) with mean 0 and common scale parameter $b$, i.e. $p(\\beta) = \\frac{1}{2b}\\exp(- \\lvert \\beta \\rvert / b)$ is:\n",
    "\n",
    "$$ f(\\beta \\mid X, Y) \\propto f(Y \\mid X, \\beta) p(\\beta \\mid X) = f(Y \\mid X, \\beta) p(\\beta) $$\n",
    "\n",
    "Substituting our values from (a) and our density function gives us:\n",
    "\n",
    "$$ \\begin{aligned} f(Y \\mid X, \\beta)p(\\beta) &= \\left( \\frac{ 1 }{ \\sigma \\sqrt{2\\pi} } \\right)^n \\exp \\left( - \\frac{ 1 }{ 2\\sigma^2 } \\sum_{i = 1}^{n} \\left[ Y_i - (\\beta_0 + \\sum_{j = 1}^{p} \\beta_j X_{ij}) \\right]^2 \\right) \\left( \\frac{ 1 }{ 2b } \\exp(- \\lvert \\beta \\rvert / b) \\right) \\\\ \n",
    "&= \\left( \\frac{ 1 }{ \\sigma \\sqrt{2\\pi} } \\right)^n \\left( \\frac{ 1 }{ 2b } \\right) \\exp \\left( - \\frac{ 1 }{ 2\\sigma^2 } \\sum_{i = 1}^{n} \\left[ Y_i - (\\beta_0 + \\sum_{j = 1}^{p} \\beta_j X_{ij}) \\right]^2 - \\frac{ \\lvert \\beta \\rvert }{ b } \\right) \\end{aligned} $$"
   ]
  },
  {
   "cell_type": "markdown",
   "metadata": {},
   "source": [
    "<a id='7c'></a>\n",
    "**$(c)$ Argue that the lasso estimate is the mode for $\\beta$ under this posterior distribution.**\n",
    "\n",
    "**Answer:**\\\n",
    "Showing that the Lasso estimate for $\\beta$ is the mode under this posterior distribution is the same thing as showing that the most likely value for $\\beta$ is given by the lasso solution with a certain $\\lambda$.\n",
    "\n",
    "We can do this by taking our likelihood and posterior and showing that it can be reduced to the canonical Lasso Equation 6.7 from the book.\n",
    "\n",
    "Let's start by simplifying it by taking the logarithm of both sides:\n",
    "\n",
    "$$ \\begin{aligned} \\log f(Y \\mid X, \\beta)p(\\beta) &= \\log \\left[ \\left( \\frac{ 1 }{ \\sigma \\sqrt{2\\pi} } \\right)^n \\left( \\frac{ 1 }{ 2b } \\right) \\exp \\left( - \\frac{ 1 }{ 2\\sigma^2 } \\sum_{i = 1}^{n} \\left[ Y_i - (\\beta_0 + \\sum_{j = 1}^{p} \\beta_j X_{ij}) \\right]^2 - \\frac{ \\lvert \\beta \\rvert }{ b } \\right) \\right] \\\\\n",
    "&= \\log \\left[ \\left( \\frac{ 1 }{ \\sigma \\sqrt{2\\pi} } \\right)^n \\left( \\frac{ 1 }{ 2b } \\right) \\right] - \\left( \\frac{ 1 }{ 2\\sigma^2 } \\sum_{i = 1}^{n} \\left[ Y_i - (\\beta_0 + \\sum_{j = 1}^{p} \\beta_j X_{ij}) \\right]^2 + \\frac{ \\lvert \\beta \\rvert }{ b } \\right) \\end{aligned} $$\n",
    "\n",
    "We want to maximize the posterior, this means: $$ \\begin{aligned} \\arg\\max_\\beta , f(\\beta \\mid X, Y) &= \\arg\\max_\\beta , \\log \\left[ \\left( \\frac{ 1 }{ \\sigma \\sqrt{2\\pi} } \\right)^n \\left( \\frac{ 1 }{ 2b } \\right) \\right] - \\left( \\frac{ 1 }{ 2\\sigma^2 } \\sum_{i = 1}^{n} \\left[ Y_i - (\\beta_0 + \\sum_{j = 1}^{p} \\beta_j X_{ij}) \\right]^2 + \\frac{ \\lvert \\beta \\rvert }{ b } \\right) \\ \\end{aligned} $$\n",
    "\n",
    "Since we are taking the difference of two values, the maximum of this value is the equivalent to taking the difference of the second value in terms of $\\beta$. This results in:\n",
    "\n",
    "$$ \\begin{aligned} &= \\arg\\min_\\beta , \\frac{ 1 }{ 2\\sigma^2 } \\sum_{i = 1}^{n} \\left[ Y_i - (\\beta_0 + \\sum_{j = 1}^{p} \\beta_j X_{ij}) \\right]^2 + \\frac{ \\lvert \\beta \\rvert }{ b } \\\\ \n",
    "&= \\arg\\min_\\beta , \\frac{ 1 }{ 2\\sigma^2 } \\sum_{i = 1}^{n} \\left[ Y_i - (\\beta_0 + \\sum_{j = 1}^{p} \\beta_j X_{ij}) \\right]^2 + \\frac{ 1 }{ b } \\sum_{j = 1}^{p} \\lvert \\beta_j \\rvert \\\\\n",
    "&= \\arg\\min_\\beta , \\frac{ 1 }{ 2\\sigma^2 } \\left( \\sum_{i = 1}^{n} \\left[ Y_i - (\\beta_0 + \\sum_{j = 1}^{p} \\beta_j X_{ij}) \\right]^2 + \\frac{ 2\\sigma^2 }{ b } \\sum_{j = 1}^{p} \\lvert \\beta_j \\rvert \\right) \\end{aligned} $$\n",
    "\n",
    "By letting $\\lambda = 2\\sigma^2/b$, we can see that we end up with:\n",
    "\n",
    "$$ \\begin{aligned} &= \\arg\\min_\\beta , \\sum_{i = 1}^{n} \\left[ Y_i - (\\beta_0 + \\sum_{j = 1}^{p} \\beta_j X_{ij}) \\right]^2 + \\lambda \\sum_{j = 1}^{p} \\lvert \\beta_j \\rvert \\\\\n",
    "&= \\arg\\min_\\beta , \\text{RSS} + \\lambda \\sum_{j = 1}^{p} \\lvert \\beta_j \\rvert \\end{aligned} $$\n",
    "\n",
    "which we know is the Lasso from Equation 6.7 in the book. Thus we know that when the posterior comes from a Laplace distribution with mean zero and common scale parameter $b$, the mode for $\\beta$ is given by the Lasso solution when $\\lambda = 2\\sigma^2 / b$."
   ]
  },
  {
   "cell_type": "markdown",
   "metadata": {},
   "source": [
    "<a id='7d'></a>\n",
    "**$(d)$ Now assume the following prior for $\\beta: \\beta_1, \\dots , \\beta_p$ are independent and identically distributed according to a normal distribution with mean zero and variance c. Write out the posterior for $\\beta$ in this setting.**\n",
    "\n",
    "**Answer:**\\\n",
    "The posterior distributed according to Normal distribution with mean 0 and variance $c$ is:\n",
    "\n",
    "$$ \\begin{aligned} f(\\beta \\mid X, Y) \\propto f(Y \\mid X, \\beta) p(\\beta \\mid X) = f(Y \\mid X, \\beta) p(\\beta) \\end{aligned} $$\n",
    "\n",
    "Our probability distribution function then becomes: $$ p(\\beta) = \\prod_{i = 1}^{p} p(\\beta_i) = \\prod_{i = 1}^{p} \\frac{ 1 }{ \\sqrt{ 2c\\pi } } \\exp \\left( - \\frac{ \\beta_i^2 }{ 2c } \\right) = \\left( \\frac{ 1 }{ \\sqrt{ 2c\\pi } } \\right)^p \\exp \\left( - \\frac{ 1 }{ 2c } \\sum_{i = 1}^{p} \\beta_i^2 \\right) $$\n",
    "\n",
    "Substituting our values from (a) and our density function gives us:\n",
    "\n",
    "$$ \\begin{aligned} f(Y \\mid X, \\beta)p(\\beta) &= \\left( \\frac{ 1 }{ \\sigma \\sqrt{2\\pi} } \\right)^n \\exp \\left( - \\frac{ 1 }{ 2\\sigma^2 } \\sum_{i = 1}^{n} \\left[ Y_i - (\\beta_0 + \\sum_{j = 1}^{p} \\beta_j X_{ij}) \\right]^2 \\right) \\left( \\frac{ 1 }{ \\sqrt{ 2c\\pi } } \\right)^p \\exp \\left( - \\frac{ 1 }{ 2c } \\sum_{i = 1}^{p} \\beta_i^2 \\right) \\\\\n",
    "&= \\left( \\frac{ 1 }{ \\sigma \\sqrt{2\\pi} } \\right)^n \\left( \\frac{ 1 }{ \\sqrt{ 2c\\pi } } \\right)^p \\exp \\left( - \\frac{ 1 }{ 2\\sigma^2 } \\sum_{i = 1}^{n} \\left[ Y_i - (\\beta_0 + \\sum_{j = 1}^{p} \\beta_j X_{ij}) \\right]^2 - \\frac{ 1 }{ 2c } \\sum_{i = 1}^{p} \\beta_i^2 \\right) \\end{aligned} $$"
   ]
  },
  {
   "cell_type": "markdown",
   "metadata": {},
   "source": [
    "<a id='7e'></a>\n",
    "**$(e)$ Argue that the ridge regression estimate is both the mode and the mean for $\\beta$ under this posterior distribution.**\n",
    "\n",
    "**Answer:**\\\n",
    "Like from part c, showing that the Ridge Regression estimate for $\\beta$ is the mode and mean under this posterior distribution is the same thing as showing that the most likely value for $\\beta$ is given by the lasso solution with a certain $\\lambda$.\n",
    "\n",
    "We can do this by taking our likelihood and posterior and showing that it can be reduced to the canonical Ridge Regression Equation 6.5 from the book.\n",
    "\n",
    "Let's start by simplifying it by taking the logarithm of both sides:\n",
    "\n",
    "Once again, we can take the logarithm of both sides to simplify it:\n",
    "\n",
    "$$ \\begin{aligned} \\log f(Y \\mid X, \\beta)p(\\beta) &= \\left( \\frac{ 1 }{ \\sigma \\sqrt{2\\pi} } \\right)^n \\left( \\frac{ 1 }{ \\sqrt{ 2c\\pi } } \\right)^p \\exp \\left( - \\frac{ 1 }{ 2\\sigma^2 } \\sum_{i = 1}^{n} \\left[ Y_i - (\\beta_0 + \\sum_{j = 1}^{p} \\beta_j X_{ij}) \\right]^2 - \\frac{ 1 }{ 2c } \\sum_{i = 1}^{p} \\beta_i^2 \\right) \\\\\n",
    "&= \\log \\left[ \\left( \\frac{ 1 }{ \\sigma \\sqrt{2\\pi} } \\right)^n \\left( \\frac{ 1 }{ \\sqrt{ 2c\\pi } } \\right)^p \\right] - \\left( \\frac{ 1 }{ 2\\sigma^2 } \\sum_{i = 1}^{n} \\left[ Y_i - (\\beta_0 + \\sum_{j = 1}^{p} \\beta_j X_{ij}) \\right]^2 + \\frac{ 1 }{ 2c } \\sum_{i = 1}^{p} \\beta_i^2 \\right) \\end{aligned} $$\n",
    "\n",
    "We want to maximize the posterior, this means: $$ \\begin{aligned} \\arg\\max_\\beta , f(\\beta \\mid X, Y) &= \\arg\\max_\\beta , \\log \\left[ \\left( \\frac{ 1 }{ \\sigma \\sqrt{2\\pi} } \\right)^n \\left( \\frac{ 1 }{ \\sqrt{ 2c\\pi } } \\right)^p \\right] - \\left( \\frac{ 1 }{ 2\\sigma^2 } \\sum_{i = 1}^{n} \\left[ Y_i - (\\beta_0 + \\sum_{j = 1}^{p} \\beta_j X_{ij}) \\right]^2 + \\frac{ 1 }{ 2c } \\sum_{i = 1}^{p} \\beta_i^2 \\right) \\end{aligned} $$\n",
    "\n",
    "Since we are taking the difference of two values, the maximum of this value is the equivalent to taking the difference of the second value in terms of $\\beta$. This results in:\n",
    "\n",
    "$$ \\begin{aligned} &= \\arg\\min_\\beta , \\left( \\frac{ 1 }{ 2\\sigma^2 } \\sum_{i = 1}^{n} \\left[ Y_i - (\\beta_0 + \\sum_{j = 1}^{p} \\beta_j X_{ij}) \\right]^2 + \\frac{ 1 }{ 2c } \\sum_{i = 1}^{p} \\beta_i^2 \\right) \\\\\n",
    "&= \\arg\\min_\\beta , \\left( \\frac{ 1 }{ 2\\sigma^2 } \\right) \\left( \\sum_{i = 1}^{n} \\left[ Y_i - (\\beta_0 + \\sum_{j = 1}^{p} \\beta_j X_{ij}) \\right]^2 + \\frac{ \\sigma^2 }{ c } \\sum_{i = 1}^{p} \\beta_i^2 \\right) \\end{aligned} $$\n",
    "\n",
    "By letting $\\lambda = \\sigma^2/ c$, we end up with:\n",
    "\n",
    "$$ \\begin{aligned} &= \\arg\\min_\\beta , \\left( \\frac{ 1 }{ 2\\sigma^2 } \\right) \\left( \\sum_{i = 1}^{n} \\left[ Y_i - (\\beta_0 + \\sum_{j = 1}^{p} \\beta_j X_{ij}) \\right]^2 + \\lambda \\sum_{i = 1}^{p} \\beta_i^2 \\right) \\\\\n",
    "&= \\arg\\min_\\beta , \\text{RSS} + \\lambda \\sum_{i = 1}^{p} \\beta_i^2 \\end{aligned} $$\n",
    "\n",
    "which we know is the Ridge Regression from Equation 6.5 in the book. Thus we know that when the posterior comes from a normal distribution with mean zero and variance $c$, the mode for $\\beta$ is given by the Ridge Regression solution when $\\lambda = \\sigma^2 / c$. Since the posterior is Gaussian, we also know that it is the posterior mean."
   ]
  }
 ],
 "metadata": {
  "kernelspec": {
   "display_name": "Python 3 (ipykernel)",
   "language": "python",
   "name": "python3"
  },
  "language_info": {
   "codemirror_mode": {
    "name": "ipython",
    "version": 3
   },
   "file_extension": ".py",
   "mimetype": "text/x-python",
   "name": "python",
   "nbconvert_exporter": "python",
   "pygments_lexer": "ipython3",
   "version": "3.8.11"
  }
 },
 "nbformat": 4,
 "nbformat_minor": 2
}
