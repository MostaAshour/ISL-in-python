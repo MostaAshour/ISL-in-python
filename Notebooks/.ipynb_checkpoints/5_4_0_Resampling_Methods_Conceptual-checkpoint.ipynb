{
 "cells": [
  {
   "cell_type": "markdown",
   "metadata": {},
   "source": [
    "# Chapter 5: Resampling Methods\n",
    "- **Chapter 5 from the book [An Introduction to Statistical Learning](https://www.statlearning.com/).**\n",
    "- **By Gareth James, Daniela Witten, Trevor Hastie and Rob Tibshirani.**\n",
    "- **Pages from $197$ to $198$**\n",
    "- **By [$\\text{Mosta Ashour}$](https://www.linkedin.com/in/mosta-ashour/)**\n",
    "\n",
    "\n",
    "**Exercises:**\n",
    "- **[1.](#1)**\n",
    "- **[2.](#2) [(a)](#2a) [(b)](#2b) [(c)](#2c) [(d)](#2d) [(e)](#2e) [(f)](#2f) [(g)](#2g) [(h)](#2h)**\n",
    "- **[3.](#3) [(a)](#3a) [(b)](#3b)**\n",
    "- **[4.](#4)**\n",
    "\n",
    "# <span style=\"font-family:cursive;color:#0071bb;\"> 5.4 Exercises </span>\n",
    "## <span style=\"font-family:cursive;color:#0071bb;\"> Conceptual </span>"
   ]
  },
  {
   "cell_type": "markdown",
   "metadata": {},
   "source": [
    "<a id='1'></a>\n",
    "### $1.$ Using basic statistical properties of the variance, as well as single-variable calculus, derive $(5.6)$. In other words, prove that $\\alpha$ given by $(5.6)$ does indeed minimize $\\mathrm{Var}(\\alpha X + (1 − \\alpha)Y)$."
   ]
  },
  {
   "cell_type": "markdown",
   "metadata": {},
   "source": [
    "**Using the following variance [rules](http://www.kaspercpa.com/statisticalreview.htm):**\n",
    "\n",
    "$\n",
    "\\text{Var}(X+Y) = \\text{Var}(X) + \\text{Var}(Y) + 2 Cov(X,Y)\n",
    "\\\\\n",
    "\\text{Var}(cX) = c^2 Var(X)\n",
    "\\\\\n",
    "\\text{So}\\dots\n",
    "\\\\\n",
    "\\text{Var}(cX+dY) = c^2 \\text{Var}(X) + d^2 \\text{Var}(Y) + 2cd Cov(X,Y)\n",
    "$"
   ]
  },
  {
   "cell_type": "markdown",
   "metadata": {},
   "source": [
    "$\n",
    "\\text{thus:}\\\\\n",
    "f(\\alpha) = \\text{Var}(\\alpha X + (1 - \\alpha)Y)\\\\\n",
    "\\\\\n",
    "f(\\alpha) = \\alpha^2 \\text{Var}(X) + (1 - \\alpha)^2 \\text{Var}(Y) + 2 \\alpha (1 - \\alpha) Cov(X, Y)\\\\\n",
    "\\\\\n",
    "f(\\alpha) = \\alpha^2 \\sigma_X^2 + (1 - \\alpha)^2 \\sigma_Y^2 + 2 (\\alpha-\\alpha^2 ) \\sigma_{XY}\\\\\n",
    "$"
   ]
  },
  {
   "cell_type": "markdown",
   "metadata": {},
   "source": [
    "$\n",
    "\\begin{align}\n",
    "\\text{Take the first derivative:}\\\\\n",
    "\\frac {d} {d\\alpha} f(\\alpha) &= 0\\\\\n",
    "\\\\\n",
    "2 \\alpha \\sigma_X^2 + 2 (1 - \\alpha) (-1) \\sigma_Y^2 + 2 (1 - 2 \\alpha ) \\sigma_{XY} &= 0\\\\\n",
    "\\\\\n",
    "\\alpha \\sigma_X^2 + (\\alpha - 1) \\sigma_Y^2 + (-2 \\alpha + 1) \\sigma_{XY} &= 0\\\\\n",
    "\\\\\n",
    "\\color{red}{\\alpha \\sigma_X^2} + \\color{red}{\\alpha\\sigma_Y^2} - \\sigma_Y^2 \\color{red}{-2 \\alpha \\sigma_{XY}} + \\sigma_{XY} &= 0\\\\\n",
    "\\\\\n",
    "\\alpha (\\sigma_X^2 + \\sigma_Y^2 - 2 \\sigma_{XY}) - \\sigma_Y^2 + \\sigma_{XY} &= 0\\\\\n",
    "\\\\\n",
    "\\alpha (\\sigma_X^2 + \\sigma_Y^2 - 2 \\sigma_{XY}) &= \\sigma_Y^2 - \\sigma_{XY}\\\\\n",
    "\\\\\n",
    "\\text{therefore:}\n",
    "\\\\\n",
    "\\alpha &= \\frac {\\sigma_Y^2 - \\sigma_{XY}}\n",
    "               {\\sigma_X^2 + \\sigma_Y^2 - 2 \\sigma_{XY}}\n",
    "\\\\\n",
    "\\text{As required.}\\\\\n",
    "\\end{align}\n",
    "$"
   ]
  },
  {
   "cell_type": "markdown",
   "metadata": {},
   "source": [
    "<a id='2'></a>\n",
    "### $2.$ We will now derive the probability that a given observation is part of a bootstrap sample. Suppose that we obtain a bootstrap sample from a set of $n$ observations.\n",
    "\n",
    "<a id='2a'></a>\n",
    "**$(a)$ What is the probability that the first bootstrap observation is not the $j$th observation from the original sample? Justify your answer.**\n",
    "\n",
    ">- **Answer:**\n",
    ">  - $p(n_{1} \\neq n_j) = \\frac{n-1}{n}$\n",
    ">  - Which all the others observations are possible except just the first observation \"1\"."
   ]
  },
  {
   "cell_type": "markdown",
   "metadata": {},
   "source": [
    "<a id='2b'></a>\n",
    "**$(b)$ What is the probability that the second bootstrap observation is not the $j$th observation from the original sample?**\n",
    "\n",
    ">- **Answer:**\n",
    ">  - The same as the previous question:\n",
    ">  - $p(n_{2} \\neq n_j) = \\frac{n-1}{n}$\n",
    ">  - Which all the others observations are possible except just the second observation \"1\"."
   ]
  },
  {
   "cell_type": "markdown",
   "metadata": {},
   "source": [
    "<a id='2c'></a>\n",
    "**$(c)$ Argue that the probability that the $j$th observation is not in the bootstrap sample is $(1 - 1/n)^n$.**\n",
    "\n",
    ">- **Answer:**\n",
    ">  - The probability that the $j$th observation is not in the bootstrap sample is \n",
    ">  - $(1−1/n)_1⋅(1−1/n)_2⋅(1−1/n)_3\\dots⋅(1−1/n)_n$\n",
    ">  - which is: $(1−1/n)^n$\n",
    ">  - Since choosing any sample is independent of another but has the same probability value."
   ]
  },
  {
   "cell_type": "markdown",
   "metadata": {},
   "source": [
    "<a id='2d'></a>\n",
    "**$(d)$ When $n = 5$, what is the probability that the $j$th observation is in the bootstrap sample?**\n",
    "\n",
    ">- **Answer:**\n",
    ">  - when $n = 5$ and it is **in** the bootstrap sample:\n",
    ">  - $p = 1 - (1-1/5)^5$\n",
    ">  - $p = 0.67232$"
   ]
  },
  {
   "cell_type": "markdown",
   "metadata": {},
   "source": [
    "<a id='2e'></a>\n",
    "**$(e)$ When n = 100, what is the probability that the $j$th observation is in the bootstrap sample?**\n",
    "\n",
    ">- **Answer:**\n",
    ">  - when $n = 100$ and it is **in** the bootstrap sample:\n",
    ">  - $p = 1 - (1-1/100)^{100}$\n",
    ">  - $p = 0.63397$"
   ]
  },
  {
   "cell_type": "markdown",
   "metadata": {},
   "source": [
    "<a id='2f'></a>\n",
    "**$(f)$ When $n = 10,000$, what is the probability that the $j$th observation is in the bootstrap sample?**\n",
    "\n",
    ">- **Answer:**\n",
    ">  - when $n = 10,000$ and it is **in** the bootstrap sample:\n",
    ">  - $p = 1 - (1-1/10000)^{10000}$\n",
    ">  - $p = 0.63213$"
   ]
  },
  {
   "cell_type": "markdown",
   "metadata": {},
   "source": [
    "<a id='2g'></a>\n",
    "**$(g)$ Create a plot that displays, for each integer value of $n$ from $1$ to $100,000$, the probability that the $j$th observation is in the bootstrap sample. Comment on what you observe.**"
   ]
  },
  {
   "cell_type": "code",
   "execution_count": 1,
   "metadata": {},
   "outputs": [
    {
     "data": {
      "image/png": "[encoded data removed]",
      "text/plain": [
       "<Figure size 864x432 with 1 Axes>"
      ]
     },
     "metadata": {
      "needs_background": "light"
     },
     "output_type": "display_data"
    }
   ],
   "source": [
    "import numpy as np\n",
    "import matplotlib.pyplot as plt\n",
    "import seaborn as sns\n",
    "\n",
    "def prob_j_in_sample(n):\n",
    "    return 1 - (1 - 1/n)**n\n",
    "\n",
    "x = np.arange(1, 100000)\n",
    "y = np.array([prob_j_in_sample(n) for n in x])\n",
    "\n",
    "plt.figure(figsize=(12,6))\n",
    "ax = sns.lineplot(x=x, y=prob_j_in_sample(x))\n",
    "plt.xlabel('$n$')\n",
    "plt.ylabel('probability')\n",
    "plt.ylim((0,1));"
   ]
  },
  {
   "cell_type": "markdown",
   "metadata": {},
   "source": [
    ">- **Comments:**\n",
    ">  - We are seeing a visual representation of $\\lim\\limits_{x \\to \\infty} 1 - (1 - \\frac{1}{n})^n = 1 - \\frac{1}{\\epsilon} \\approx 0.632$"
   ]
  },
  {
   "cell_type": "markdown",
   "metadata": {},
   "source": [
    "<a id='2h'></a>\n",
    "**$(h)$ We will now investigate numerically the probability that a bootstrap sample of size $n = 100$ contains the $j$th observation. Here $j = 4$. We repeatedly create bootstrap samples, and each time we record whether or not the fourth observation is contained in the bootstrap sample.**\n",
    "```\n",
    "> store=rep (NA , 10000)\n",
    "> for (i in 1:10000) {\n",
    "store[i]=sum(sample (1:100 , rep =TRUE)==4) >0\n",
    "}\n",
    "> mean(store)\n",
    "```\n",
    "**Comment on the results obtained.**"
   ]
  },
  {
   "cell_type": "code",
   "execution_count": 2,
   "metadata": {},
   "outputs": [
    {
     "data": {
      "text/plain": [
       "0.6335633563356335"
      ]
     },
     "execution_count": 2,
     "metadata": {},
     "output_type": "execute_result"
    }
   ],
   "source": [
    "store = [] \n",
    "for i in np.arange(1, 10000):\n",
    "    store += [np.sum((np.random.randint(low=1, high=101, size=100) == 4)) > 0]\n",
    "\n",
    "np.mean(store)"
   ]
  },
  {
   "cell_type": "markdown",
   "metadata": {},
   "source": [
    ">- **Comments:**\n",
    ">  - If we created more bootstrap samples in $h$, the result observed from a numerical approach above will approximately equal to our probabilistic estimation for a sample size of $100$ in $2.e$ which was $p = 0.63397$."
   ]
  },
  {
   "cell_type": "markdown",
   "metadata": {},
   "source": [
    "<a id='3'></a>\n",
    "### 3. We now review $\\text{k-fold}$ cross-validation.\n",
    "\n",
    "<a id='3a'></a>\n",
    "**$(a)$ Explain how $\\text{k-fold}$ cross-validation is implemented.**\n",
    ">- **Answer:**\n",
    ">- This approach involves randomly dividing the set of observations into $k$ groups, or folds, of approximately equal size. \n",
    ">- The first $k-1$ folds is treated as a validation set, and the remaining fold as test set.\n",
    ">- The model is then fitted to each of these folds, and testing on the remaining fold.\n",
    ">- This procedure is repeated $k$ times; each time, a different group of observations.\n",
    ">- This process results in k estimates of the test error,\n",
    "$\\text{MSE_1},\\text{MSE_2}, \\dots ,\\text{MSE_k}$. The k-fold CV estimate is computed by averaging these values,\n",
    "$$ CV(k) =\\frac{1}{k} \\sum_{i=1}^k MSE_i. $$"
   ]
  },
  {
   "cell_type": "markdown",
   "metadata": {},
   "source": [
    "<a id='3b'></a>\n",
    "**$(b)$ What are the advantages and disadvantages of k-fold cross- validation relative to:**\n",
    "\n",
    "**$i.$ The validation set approach?**\n",
    "\n",
    "- **Answer:**\n",
    "\n",
    ">- $\\text{Advantages:}$\n",
    ">  - The validation set approach is **conceptually simple** and is **easy** to implement.\n",
    ">  - We can use the validation set approach in testing which predictor's transformations provides even better results, as we randomly split the observations into $k$ approximately equal sets or folds, a training set of k-1 folds, and the remaining fold is the validation set. \n",
    ">  - The validation set error rates that result from fitting various regression models on the training sample and evaluating their performance on the validation sample, using $\\text{MSE}$ as a measure of validation set error, comparing the $\\text{MSE}$ results will lead us to the better predictor's transformations to use in our model.\n",
    "\n",
    ">- $\\text{Disadvantages:}$\n",
    ">  - The validation estimate of the test error rate can be **highly variable**, depending on precisely which observations are included in the training and validation sets.\n",
    ">  - Only a subset of the observations those that are included in the training set rather than in the validation set are used to fit the model. Since statistical methods tend to perform worse when trained on fewer observations, this suggests that the validation set error rate may tend to **overestimate the test error rate** for the model fit on the entire data set.\n",
    ">  - The approach has a computational advantage: a model is trained and tested once. In $k-fold$ CV, $k$ models will be trained, and for standard values of $k$. Means that $k-fold$ CV can be far more computationally expensive for large dataset and for large values of $k$.\n",
    "\n",
    "\n",
    "\n",
    "\n",
    "**$ii.$ LOOCV?**\n",
    "\n",
    "- **Answer:**\n",
    "\n",
    ">- $\\text{Advantages:}$\n",
    ">  - It has far less bias over the validation set approach.\n",
    ">  - Performing LOOCV multiple times will always yield the same results: there is no randomness in the training/validation set splits.\n",
    ">  - $\\text{Leave-one-out cross-validation}$ involves splitting the set of observations into two parts. However, instead of creating two subsets of comparable size, a single observation $(x_1, y_1)$ is used for the validation set, and the remaining observations ${(x_2, y_2), \\dots , (x_n, y_n)}$ make up the training set. The statistical learning method is fit on the $n - 1$ training observations, and a prediction $\\hat{y}_1$ is made for the excluded observation, using its value $x_1$. Since $(x_1, y_1)$ was not used in the fitting process, $\\text{MSE}_1 = (y_1 - \\hat{y}_1)^2$ provides an approximately unbiased estimate for the test error.\n",
    "\n",
    ">- $\\text{Disadvantages:}$\n",
    ">  - Even though $\\text{MSE}_1$ is unbiased for the test error, it is a poor estimate because it is highly variable, since it is based upon a single observation $(x_1, y_1)$.\n",
    ">  - LOOCV requires fitting the statistical learning method $n$ times. This has the potential to be computationally expensive."
   ]
  },
  {
   "cell_type": "markdown",
   "metadata": {},
   "source": [
    "<a id='4'></a>\n",
    "### 4. Suppose that we use some statistical learning method to make a prediction for the response Y for a particular value of the predictor X. Carefully describe how we might estimate the standard deviation of our prediction.\n",
    "\n",
    ">- **Answer:**\n",
    ">  - Which we need to estimate the standard deviation from a given $n$ observations of the population. We could might estimate the standard deviation of our prediction by using the [sample standard deviation](https://en.wikipedia.org/wiki/Standard_deviation#Corrected_sample_standard_deviation) formula:\n",
    "$$\n",
    "\\hat{\\sigma} = \\sqrt{\\frac{\\sum_{i=1}^{n}{(\\hat{y_i} - \\bar{y})^2}}{n - 1}}\n",
    "$$\n",
    ">  - The accuracy of this estimate is limited by its variability, so... \n",
    ">  - We could improve the accuracy of this estimate by using the bootstrap approach. This works by randomly select $n$ observations from the original dataset to create a $B$ different bootstrap datasets. \n",
    ">  - This procedure is repeated $B$ times for some large value of $B$, in order to produce $B$ different bootstrap datasets, $Z^{*1}, Z^{*2}, \\dots , Z^{*B},$ and $B$ corresponding $\\alpha$ estimates, $\\hat{α}^{∗1}, \\hat{α}^{∗2}, \\dots , \\hat{α}^{∗B}$. We can compute the standard error of these bootstrap estimates using the formula in $(5.8)$:\n",
    "$$\n",
    "SE_B(\\hat{\\alpha}) =\n",
    "\\sqrt{\n",
    "\\frac{1}{B - 1}\n",
    "\\sum^B_{r=1}\n",
    "\\bigg(\\hat{\\alpha}^{*r} - \n",
    "\\frac{1}{B}\n",
    "\\sum^B_{r'=1}\n",
    "\\hat{\\alpha}^{*r}\n",
    "\\bigg)^2\n",
    "}.\n",
    "$$"
   ]
  },
  {
   "cell_type": "markdown",
   "metadata": {},
   "source": [
    "# Done!"
   ]
  }
 ],
 "metadata": {
  "kernelspec": {
   "display_name": "Python 3 (ipykernel)",
   "language": "python",
   "name": "python3"
  },
  "language_info": {
   "codemirror_mode": {
    "name": "ipython",
    "version": 3
   },
   "file_extension": ".py",
   "mimetype": "text/x-python",
   "name": "python",
   "nbconvert_exporter": "python",
   "pygments_lexer": "ipython3",
   "version": "3.8.11"
  }
 },
 "nbformat": 4,
 "nbformat_minor": 2
}
